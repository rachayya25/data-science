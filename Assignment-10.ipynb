{
 "cells": [
  {
   "cell_type": "markdown",
   "id": "2ad5c2d3",
   "metadata": {},
   "source": [
    "#1. How do you distinguish between shutil.copy() and shutil.copytree()?\n",
    "* The shutil.copy() function will copy a single file, while shutil.copytree() will copy an entire folder, along with all its contents."
   ]
  },
  {
   "cell_type": "markdown",
   "id": "37d83c89",
   "metadata": {},
   "source": [
    "#2. What function is used to rename files??\n",
    "* The shutil.move() function is used for renaming files, as well as moving them\n",
    "\n"
   ]
  },
  {
   "cell_type": "markdown",
   "id": "2c4577a7",
   "metadata": {},
   "source": [
    "#3. What is the difference between the delete functions in the send2trash and shutil modules?\n",
    "* The send2trash functions will move a file or folder to the recycle bin, while shutil functions will permanently delete files and folders.\n",
    "\n"
   ]
  },
  {
   "cell_type": "markdown",
   "id": "cb08ef9f",
   "metadata": {},
   "source": [
    "#4.ZipFile objects have a close() method just like File objects’ close() method. What ZipFile method is equivalent to File objects’ open() method?\n",
    "* The zipfile.ZipFile() function is equivalent to the open() function; the first argument is the filename, and the second argument is the mode to open the ZIP file in (read, write, or append)."
   ]
  },
  {
   "cell_type": "code",
   "execution_count": null,
   "id": "81b6e090",
   "metadata": {},
   "outputs": [],
   "source": []
  },
  {
   "cell_type": "code",
   "execution_count": null,
   "id": "21171196",
   "metadata": {},
   "outputs": [],
   "source": []
  },
  {
   "cell_type": "code",
   "execution_count": null,
   "id": "16ff0831",
   "metadata": {},
   "outputs": [],
   "source": []
  },
  {
   "cell_type": "code",
   "execution_count": null,
   "id": "7886673c",
   "metadata": {},
   "outputs": [],
   "source": []
  },
  {
   "cell_type": "code",
   "execution_count": null,
   "id": "cedd5a6a",
   "metadata": {},
   "outputs": [],
   "source": []
  }
 ],
 "metadata": {
  "kernelspec": {
   "display_name": "Python 3 (ipykernel)",
   "language": "python",
   "name": "python3"
  },
  "language_info": {
   "codemirror_mode": {
    "name": "ipython",
    "version": 3
   },
   "file_extension": ".py",
   "mimetype": "text/x-python",
   "name": "python",
   "nbconvert_exporter": "python",
   "pygments_lexer": "ipython3",
   "version": "3.9.7"
  }
 },
 "nbformat": 4,
 "nbformat_minor": 5
}
