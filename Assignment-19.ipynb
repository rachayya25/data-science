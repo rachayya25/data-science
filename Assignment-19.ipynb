{
 "cells": [
  {
   "cell_type": "markdown",
   "id": "1b22d49c",
   "metadata": {},
   "source": [
    "1. Make a class called Thing with no contents and print it. Then, create an object called example from this class and also print it. Are the printed values the same or different?"
   ]
  },
  {
   "cell_type": "code",
   "execution_count": 6,
   "id": "74609e82",
   "metadata": {},
   "outputs": [
    {
     "name": "stdout",
     "output_type": "stream",
     "text": [
      "<class '__main__.Thing'>\n"
     ]
    }
   ],
   "source": [
    "class Thing():\n",
    "    pass\n",
    "print(Thing)"
   ]
  },
  {
   "cell_type": "code",
   "execution_count": 7,
   "id": "70eb6db2",
   "metadata": {},
   "outputs": [
    {
     "name": "stdout",
     "output_type": "stream",
     "text": [
      "<class '__main__.Thing'>\n"
     ]
    }
   ],
   "source": [
    "example = Thing\n",
    "print(example)"
   ]
  },
  {
   "cell_type": "code",
   "execution_count": 8,
   "id": "cff98134",
   "metadata": {},
   "outputs": [
    {
     "name": "stdout",
     "output_type": "stream",
     "text": [
      "<__main__.Thing object at 0x00000292FE625CA0>\n"
     ]
    }
   ],
   "source": [
    "example = Thing()\n",
    "print(example)"
   ]
  },
  {
   "cell_type": "markdown",
   "id": "2558e5e1",
   "metadata": {},
   "source": [
    "2. Create a new class called Thing2 and add the value 'abc' to the letters class attribute. Letters should be printed."
   ]
  },
  {
   "cell_type": "code",
   "execution_count": 14,
   "id": "fb407e85",
   "metadata": {},
   "outputs": [
    {
     "name": "stdout",
     "output_type": "stream",
     "text": [
      "abc\n"
     ]
    }
   ],
   "source": [
    "class Thing2():\n",
    "    letter='abc'\n",
    "print(Thing2.letter)"
   ]
  },
  {
   "cell_type": "markdown",
   "id": "622e3d48",
   "metadata": {},
   "source": [
    "3. Make yet another class called, of course, Thing3. This time, assign the value 'xyz' to an instance (object) attribute called letters. Print letters. Do you need to make an object from the class to do this?"
   ]
  },
  {
   "cell_type": "code",
   "execution_count": 11,
   "id": "5dcdc36e",
   "metadata": {},
   "outputs": [
    {
     "ename": "AttributeError",
     "evalue": "type object 'Thing3' has no attribute 'letters'",
     "output_type": "error",
     "traceback": [
      "\u001b[1;31m---------------------------------------------------------------------------\u001b[0m",
      "\u001b[1;31mAttributeError\u001b[0m                            Traceback (most recent call last)",
      "\u001b[1;32m~\\AppData\\Local\\Temp/ipykernel_6956/3647845661.py\u001b[0m in \u001b[0;36m<module>\u001b[1;34m\u001b[0m\n\u001b[0;32m      2\u001b[0m     \u001b[1;32mdef\u001b[0m \u001b[0m__init__\u001b[0m\u001b[1;33m(\u001b[0m\u001b[0mself\u001b[0m\u001b[1;33m)\u001b[0m\u001b[1;33m:\u001b[0m\u001b[1;33m\u001b[0m\u001b[1;33m\u001b[0m\u001b[0m\n\u001b[0;32m      3\u001b[0m         \u001b[0mself\u001b[0m\u001b[1;33m.\u001b[0m\u001b[0mletters\u001b[0m\u001b[1;33m=\u001b[0m\u001b[1;34m'xyz'\u001b[0m\u001b[1;33m\u001b[0m\u001b[1;33m\u001b[0m\u001b[0m\n\u001b[1;32m----> 4\u001b[1;33m \u001b[0mprint\u001b[0m\u001b[1;33m(\u001b[0m\u001b[0mThing3\u001b[0m\u001b[1;33m.\u001b[0m\u001b[0mletters\u001b[0m\u001b[1;33m)\u001b[0m\u001b[1;33m\u001b[0m\u001b[1;33m\u001b[0m\u001b[0m\n\u001b[0m",
      "\u001b[1;31mAttributeError\u001b[0m: type object 'Thing3' has no attribute 'letters'"
     ]
    }
   ],
   "source": [
    "class Thing3():\n",
    "    def __init__(self):\n",
    "        self.letters='xyz'\n",
    "print(Thing3.letters)"
   ]
  },
  {
   "cell_type": "code",
   "execution_count": 12,
   "id": "833d17f9",
   "metadata": {},
   "outputs": [
    {
     "name": "stdout",
     "output_type": "stream",
     "text": [
      "xyz\n"
     ]
    }
   ],
   "source": [
    "s = Thing3()\n",
    "print(s.letters)"
   ]
  },
  {
   "cell_type": "markdown",
   "id": "c3fddd6b",
   "metadata": {},
   "source": [
    "4. Create an Element class with the instance attributes name, symbol, and number. Create a class object with the values 'Hydrogen,' 'H,' and 1."
   ]
  },
  {
   "cell_type": "code",
   "execution_count": 41,
   "id": "5a528b19",
   "metadata": {},
   "outputs": [],
   "source": [
    "class Element():\n",
    "    def __init__(self, name ,symbol, number):\n",
    "        self.name = name\n",
    "        self.symbol= symbol\n",
    "        self.number = number "
   ]
  },
  {
   "cell_type": "code",
   "execution_count": 42,
   "id": "b5b72428",
   "metadata": {},
   "outputs": [],
   "source": [
    "ele =Element('Hydrogen' , 'H' , 1)"
   ]
  },
  {
   "cell_type": "code",
   "execution_count": 43,
   "id": "64b4ccad",
   "metadata": {},
   "outputs": [
    {
     "data": {
      "text/plain": [
       "'Hydrogen'"
      ]
     },
     "execution_count": 43,
     "metadata": {},
     "output_type": "execute_result"
    }
   ],
   "source": [
    "ele.name"
   ]
  },
  {
   "cell_type": "code",
   "execution_count": 44,
   "id": "b44c4bf8",
   "metadata": {},
   "outputs": [
    {
     "data": {
      "text/plain": [
       "1"
      ]
     },
     "execution_count": 44,
     "metadata": {},
     "output_type": "execute_result"
    }
   ],
   "source": [
    "ele.number"
   ]
  },
  {
   "cell_type": "code",
   "execution_count": 45,
   "id": "28517da8",
   "metadata": {},
   "outputs": [
    {
     "data": {
      "text/plain": [
       "'H'"
      ]
     },
     "execution_count": 45,
     "metadata": {},
     "output_type": "execute_result"
    }
   ],
   "source": [
    "ele.symbol"
   ]
  },
  {
   "cell_type": "markdown",
   "id": "207f45c8",
   "metadata": {},
   "source": [
    "5. Make a dictionary with these keys and values: 'name': 'Hydrogen', 'symbol': 'H', 'number': 1. Then, create an object called hydrogen from class Element using this dictionary."
   ]
  },
  {
   "cell_type": "code",
   "execution_count": 46,
   "id": "c29ae6b7",
   "metadata": {},
   "outputs": [],
   "source": [
    "dist={'name':'Hydrogen',\n",
    "      'symbol':'H',\n",
    "      'number': 1\n",
    "     }"
   ]
  },
  {
   "cell_type": "code",
   "execution_count": 47,
   "id": "2412733c",
   "metadata": {},
   "outputs": [],
   "source": [
    "hydrogen = Element(**dist)"
   ]
  },
  {
   "cell_type": "code",
   "execution_count": 48,
   "id": "3f1d78bd",
   "metadata": {},
   "outputs": [
    {
     "data": {
      "text/plain": [
       "'Hydrogen'"
      ]
     },
     "execution_count": 48,
     "metadata": {},
     "output_type": "execute_result"
    }
   ],
   "source": [
    "hydrogen.name"
   ]
  },
  {
   "cell_type": "code",
   "execution_count": 49,
   "id": "195aee24",
   "metadata": {},
   "outputs": [],
   "source": [
    "hydrogen1 = Element(*dist.values())"
   ]
  },
  {
   "cell_type": "code",
   "execution_count": 50,
   "id": "0fb58fc1",
   "metadata": {},
   "outputs": [
    {
     "data": {
      "text/plain": [
       "'Hydrogen'"
      ]
     },
     "execution_count": 50,
     "metadata": {},
     "output_type": "execute_result"
    }
   ],
   "source": [
    "hydrogen1.name"
   ]
  },
  {
   "cell_type": "code",
   "execution_count": 51,
   "id": "1f1460b0",
   "metadata": {},
   "outputs": [
    {
     "data": {
      "text/plain": [
       "1"
      ]
     },
     "execution_count": 51,
     "metadata": {},
     "output_type": "execute_result"
    }
   ],
   "source": [
    "hydrogen1.number"
   ]
  },
  {
   "cell_type": "code",
   "execution_count": 52,
   "id": "805ce562",
   "metadata": {},
   "outputs": [
    {
     "data": {
      "text/plain": [
       "'H'"
      ]
     },
     "execution_count": 52,
     "metadata": {},
     "output_type": "execute_result"
    }
   ],
   "source": [
    "hydrogen1.symbol"
   ]
  },
  {
   "cell_type": "markdown",
   "id": "b0386a66",
   "metadata": {},
   "source": [
    "6. For the Element class, define a method called dump() that prints the values of the object’s attributes (name, symbol, and number). Create the hydrogen object from this new definition and use dump() to print its attributes."
   ]
  },
  {
   "cell_type": "code",
   "execution_count": 27,
   "id": "5af873ad",
   "metadata": {},
   "outputs": [],
   "source": [
    "class element():\n",
    "    def __init__(self,name,symbol,number):\n",
    "        self.name=name\n",
    "        self.symbol=symbol\n",
    "        self.number=number\n",
    "    def dump(self):\n",
    "        print(self.name, self.symbol, self.number)\n",
    "        "
   ]
  },
  {
   "cell_type": "code",
   "execution_count": 28,
   "id": "aac933d1",
   "metadata": {},
   "outputs": [],
   "source": [
    "d = element('hydrogen','h',1)"
   ]
  },
  {
   "cell_type": "code",
   "execution_count": 29,
   "id": "fb269b79",
   "metadata": {},
   "outputs": [
    {
     "name": "stdout",
     "output_type": "stream",
     "text": [
      "hydrogen h 1\n"
     ]
    }
   ],
   "source": [
    "d.dump()"
   ]
  },
  {
   "cell_type": "markdown",
   "id": "a7af6a22",
   "metadata": {},
   "source": [
    "7. Call print(hydrogen). In the definition of Element, change the name of method dump to __str__, create a new hydrogen object, and call print(hydrogen) again."
   ]
  },
  {
   "cell_type": "code",
   "execution_count": 35,
   "id": "076468e9",
   "metadata": {},
   "outputs": [],
   "source": [
    "class element_1():\n",
    "    def __init__(self,name,symbol,number):\n",
    "        self.name=name\n",
    "        self.symbol=symbol\n",
    "        self.number = number\n",
    "    def __str__(self):\n",
    "        return(f\"{self.name} {self.symbol} {self.number}\")"
   ]
  },
  {
   "cell_type": "code",
   "execution_count": 36,
   "id": "d5362fe6",
   "metadata": {},
   "outputs": [
    {
     "name": "stdout",
     "output_type": "stream",
     "text": [
      "hydrogen h 1\n"
     ]
    }
   ],
   "source": [
    "a = element_1('hydrogen','h',1)\n",
    "print(a)"
   ]
  },
  {
   "cell_type": "markdown",
   "id": "b952f79e",
   "metadata": {},
   "source": [
    "8. Modify Element to make the attributes name, symbol, and number private. Define a getter property for each to return its value."
   ]
  },
  {
   "cell_type": "code",
   "execution_count": 54,
   "id": "126d1ba8",
   "metadata": {},
   "outputs": [],
   "source": [
    "class element_p():\n",
    "    def __init__(self,name,symbol,number):\n",
    "        self.__name=name\n",
    "        self.__symbol=symbol\n",
    "        self.__number=number\n",
    "    @property\n",
    "    def get_name(self):\n",
    "        return (self.__name)\n",
    "    @property\n",
    "    def get_symbol(self):\n",
    "        return(self.__symbol)\n",
    "    @property\n",
    "    def get_number(self):\n",
    "        return(self.__number)\n",
    "        "
   ]
  },
  {
   "cell_type": "code",
   "execution_count": 55,
   "id": "b7032672",
   "metadata": {},
   "outputs": [],
   "source": [
    "ele=element_p('hydrogen','h',1)"
   ]
  },
  {
   "cell_type": "code",
   "execution_count": 56,
   "id": "137b7d56",
   "metadata": {},
   "outputs": [
    {
     "data": {
      "text/plain": [
       "'hydrogen'"
      ]
     },
     "execution_count": 56,
     "metadata": {},
     "output_type": "execute_result"
    }
   ],
   "source": [
    "ele.get_name"
   ]
  },
  {
   "cell_type": "code",
   "execution_count": 57,
   "id": "1a5b38ec",
   "metadata": {},
   "outputs": [
    {
     "data": {
      "text/plain": [
       "1"
      ]
     },
     "execution_count": 57,
     "metadata": {},
     "output_type": "execute_result"
    }
   ],
   "source": [
    "ele.get_number"
   ]
  },
  {
   "cell_type": "code",
   "execution_count": 58,
   "id": "d433578e",
   "metadata": {},
   "outputs": [
    {
     "data": {
      "text/plain": [
       "'h'"
      ]
     },
     "execution_count": 58,
     "metadata": {},
     "output_type": "execute_result"
    }
   ],
   "source": [
    "ele.get_symbol"
   ]
  },
  {
   "cell_type": "markdown",
   "id": "bfa36d70",
   "metadata": {},
   "source": [
    "9. Define three classes: Bear, Rabbit, and Octothorpe. For each, define only one method: eats(). This should return 'berries' (Bear), 'clover' (Rabbit), or 'campers' (Octothorpe). Create one object from each and print what it eats."
   ]
  },
  {
   "cell_type": "code",
   "execution_count": 68,
   "id": "32e32282",
   "metadata": {},
   "outputs": [],
   "source": [
    "class Bear():\n",
    "    def eats(self) :\n",
    "        return 'bear eats berries'\n",
    "class Rabbit():\n",
    "    def eats(self):\n",
    "        return 'rabbit eats clover'\n",
    "class Octothorpe():\n",
    "    def eats(self):\n",
    "        return 'octo eats campers'"
   ]
  },
  {
   "cell_type": "code",
   "execution_count": 69,
   "id": "3a179dbb",
   "metadata": {},
   "outputs": [
    {
     "name": "stdout",
     "output_type": "stream",
     "text": [
      "bear eats berries rabbit eats clover octo eats campers\n"
     ]
    }
   ],
   "source": [
    "bear=Bear()\n",
    "rabbit=Rabbit()\n",
    "octo=Octothorpe()\n",
    "\n",
    "print(bear.eats(),rabbit.eats(),octo.eats())"
   ]
  },
  {
   "cell_type": "markdown",
   "id": "165793c8",
   "metadata": {},
   "source": [
    "10. Define these classes: Laser, Claw, and SmartPhone. Each has only one method: does(). This returns 'disintegrate' (Laser), 'crush' (Claw), or 'ring' (SmartPhone). Then, define the class Robot that has one instance (object) of each of these. Define a does() method for the Robot that prints what its component objects do."
   ]
  },
  {
   "cell_type": "code",
   "execution_count": 78,
   "id": "b133b561",
   "metadata": {},
   "outputs": [],
   "source": [
    "class Laser():\n",
    "    def does(self):\n",
    "        return('disintegrate')\n",
    "\n",
    "class Claw():\n",
    "    def does(self):\n",
    "        return('crush')\n",
    "    \n",
    "class smartphone():\n",
    "    def does(self):\n",
    "        return('ring')\n",
    "\n",
    "class Robot():\n",
    "    def __init__(self):\n",
    "        self.Laser=Laser()\n",
    "        self.Claw=Claw()\n",
    "        self.smartphone=smartphone()\n",
    "    def does(self):\n",
    "        print(self.Laser.does(),self.Claw.does(),self.smartphone.does())\n",
    "            "
   ]
  },
  {
   "cell_type": "code",
   "execution_count": 79,
   "id": "f2220260",
   "metadata": {},
   "outputs": [],
   "source": [
    "a = Robot()"
   ]
  },
  {
   "cell_type": "code",
   "execution_count": 80,
   "id": "92ad24bf",
   "metadata": {},
   "outputs": [
    {
     "name": "stdout",
     "output_type": "stream",
     "text": [
      "disintegrate crush ring\n"
     ]
    }
   ],
   "source": [
    "a.does()"
   ]
  },
  {
   "cell_type": "code",
   "execution_count": null,
   "id": "d5b41a8c",
   "metadata": {},
   "outputs": [],
   "source": []
  }
 ],
 "metadata": {
  "kernelspec": {
   "display_name": "Python 3 (ipykernel)",
   "language": "python",
   "name": "python3"
  },
  "language_info": {
   "codemirror_mode": {
    "name": "ipython",
    "version": 3
   },
   "file_extension": ".py",
   "mimetype": "text/x-python",
   "name": "python",
   "nbconvert_exporter": "python",
   "pygments_lexer": "ipython3",
   "version": "3.9.7"
  }
 },
 "nbformat": 4,
 "nbformat_minor": 5
}
