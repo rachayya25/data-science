{
 "cells": [
  {
   "cell_type": "markdown",
   "id": "02975f14",
   "metadata": {},
   "source": [
    "1. Add the current date to the text file today.txt as a string."
   ]
  },
  {
   "cell_type": "code",
   "execution_count": 1,
   "id": "e575736b",
   "metadata": {},
   "outputs": [],
   "source": [
    "import datetime\n",
    "\n",
    "file = open('today.txt','w')\n",
    "file.write(datetime.datetime.now().strftime(\"%d-%m-%Y\"))\n",
    "file.close()\n"
   ]
  },
  {
   "cell_type": "code",
   "execution_count": 2,
   "id": "d88a45e5",
   "metadata": {},
   "outputs": [],
   "source": [
    "import datetime\n",
    "file = open('today.txt', 'w')\n",
    "file.write(datetime.datetime.now().strftime('%d-%m-%Y'))\n",
    "file.close()"
   ]
  },
  {
   "cell_type": "code",
   "execution_count": 3,
   "id": "d44db57d",
   "metadata": {},
   "outputs": [],
   "source": [
    "file=open('today.txt','r')"
   ]
  },
  {
   "cell_type": "code",
   "execution_count": 4,
   "id": "24902be4",
   "metadata": {},
   "outputs": [
    {
     "data": {
      "text/plain": [
       "'17-12-2022'"
      ]
     },
     "execution_count": 4,
     "metadata": {},
     "output_type": "execute_result"
    }
   ],
   "source": [
    "file.read()"
   ]
  },
  {
   "cell_type": "markdown",
   "id": "ae950372",
   "metadata": {},
   "source": [
    "2. Read the text file today.txt into the string today_string"
   ]
  },
  {
   "cell_type": "code",
   "execution_count": 8,
   "id": "0833bc73",
   "metadata": {},
   "outputs": [
    {
     "data": {
      "text/plain": [
       "'17-12-2022'"
      ]
     },
     "execution_count": 8,
     "metadata": {},
     "output_type": "execute_result"
    }
   ],
   "source": [
    "file=open('today.txt','r')\n",
    "today_string=file.read()\n",
    "today_string"
   ]
  },
  {
   "cell_type": "markdown",
   "id": "55b86b2a",
   "metadata": {},
   "source": [
    "3. Parse the date from today_string."
   ]
  },
  {
   "cell_type": "code",
   "execution_count": 10,
   "id": "0c7e68ab",
   "metadata": {},
   "outputs": [
    {
     "name": "stdout",
     "output_type": "stream",
     "text": [
      "2022-12-17 00:00:00\n"
     ]
    }
   ],
   "source": [
    "from datetime import datetime\n",
    "parsed_data = datetime.strptime(today_string, '%d-%m-%Y')\n",
    "print(parsed_data)"
   ]
  },
  {
   "cell_type": "markdown",
   "id": "336a21a7",
   "metadata": {},
   "source": [
    "4. List the files in your current directory"
   ]
  },
  {
   "cell_type": "code",
   "execution_count": 11,
   "id": "db5c5c13",
   "metadata": {},
   "outputs": [
    {
     "data": {
      "text/plain": [
       "['.ipynb_checkpoints',\n",
       " '23rd dec problems (1).ipynb',\n",
       " '30_Apr_22.mp4',\n",
       " 'Assignment-01.ipynb',\n",
       " 'Assignment-02.ipynb',\n",
       " 'Assignment-03.ipynb',\n",
       " 'Assignment-04.ipynb',\n",
       " 'Assignment-05.ipynb',\n",
       " 'Assignment-06.ipynb',\n",
       " 'Assignment-07.ipynb',\n",
       " 'Assignment-08.ipynb',\n",
       " 'Assignment-09.ipynb',\n",
       " 'Assignment-10.ipynb',\n",
       " 'Assignment-11.ipynb',\n",
       " 'Assignment-12.ipynb',\n",
       " 'Assignment-13.ipynb',\n",
       " 'Assignment-14.ipynb',\n",
       " 'Assignment-15.ipynb',\n",
       " 'Assignment-16.ipynb',\n",
       " 'Assignment-17.ipynb',\n",
       " 'Assignment-18.ipynb',\n",
       " 'Assignment-19.ipynb',\n",
       " 'Assignment-20.ipynb',\n",
       " 'Assignment-21.ipynb',\n",
       " 'assignments',\n",
       " 'bank-full.csv',\n",
       " 'books.csv',\n",
       " 'books.db',\n",
       " 'glassdoor-scraper-master',\n",
       " 'glassdoor-scraper-master.zip',\n",
       " 'hello.docx',\n",
       " 'IMG_0838.JPG',\n",
       " 'mydocument.docx',\n",
       " 'Pandas - DataFrame,Series -01.ipynb',\n",
       " 'Pandas loc,iloc - 03.ipynb',\n",
       " 'pandas-head,tail,dtypes,info -02.ipynb',\n",
       " 'Pandas-str,sorting of columns,pandas-04.ipynb',\n",
       " 'task.log',\n",
       " 'test.log',\n",
       " 'test.txt',\n",
       " 'titanic home work.ipynb',\n",
       " 'titanic.xlsx',\n",
       " 'today.txt',\n",
       " 'Untitled.ipynb',\n",
       " 'Untitled1.ipynb',\n",
       " 'Video',\n",
       " 'zoo.py',\n",
       " '__pycache__']"
      ]
     },
     "execution_count": 11,
     "metadata": {},
     "output_type": "execute_result"
    }
   ],
   "source": [
    "import os\n",
    "os.listdir()"
   ]
  },
  {
   "cell_type": "markdown",
   "id": "06d0b63b",
   "metadata": {},
   "source": [
    "5. Create a list of all of the files in your parent directory (minimum five files should be available)."
   ]
  },
  {
   "cell_type": "code",
   "execution_count": 12,
   "id": "21f05db7",
   "metadata": {},
   "outputs": [
    {
     "data": {
      "text/plain": [
       "['.ipynb_checkpoints',\n",
       " '23rd dec problems (1).ipynb',\n",
       " '30_Apr_22.mp4',\n",
       " 'Assignment-01.ipynb',\n",
       " 'Assignment-02.ipynb',\n",
       " 'Assignment-03.ipynb',\n",
       " 'Assignment-04.ipynb',\n",
       " 'Assignment-05.ipynb',\n",
       " 'Assignment-06.ipynb',\n",
       " 'Assignment-07.ipynb',\n",
       " 'Assignment-08.ipynb',\n",
       " 'Assignment-09.ipynb',\n",
       " 'Assignment-10.ipynb',\n",
       " 'Assignment-11.ipynb',\n",
       " 'Assignment-12.ipynb',\n",
       " 'Assignment-13.ipynb',\n",
       " 'Assignment-14.ipynb',\n",
       " 'Assignment-15.ipynb',\n",
       " 'Assignment-16.ipynb',\n",
       " 'Assignment-17.ipynb',\n",
       " 'Assignment-18.ipynb',\n",
       " 'Assignment-19.ipynb',\n",
       " 'Assignment-20.ipynb',\n",
       " 'Assignment-21.ipynb',\n",
       " 'assignments',\n",
       " 'bank-full.csv',\n",
       " 'books.csv',\n",
       " 'books.db',\n",
       " 'glassdoor-scraper-master',\n",
       " 'glassdoor-scraper-master.zip',\n",
       " 'hello.docx',\n",
       " 'IMG_0838.JPG',\n",
       " 'mydocument.docx',\n",
       " 'Pandas - DataFrame,Series -01.ipynb',\n",
       " 'Pandas loc,iloc - 03.ipynb',\n",
       " 'pandas-head,tail,dtypes,info -02.ipynb',\n",
       " 'Pandas-str,sorting of columns,pandas-04.ipynb',\n",
       " 'task.log',\n",
       " 'test.log',\n",
       " 'test.txt',\n",
       " 'titanic home work.ipynb',\n",
       " 'titanic.xlsx',\n",
       " 'today.txt',\n",
       " 'Untitled.ipynb',\n",
       " 'Untitled1.ipynb',\n",
       " 'Video',\n",
       " 'zoo.py',\n",
       " '__pycache__']"
      ]
     },
     "execution_count": 12,
     "metadata": {},
     "output_type": "execute_result"
    }
   ],
   "source": [
    "import os\n",
    "os.listdir()"
   ]
  },
  {
   "cell_type": "markdown",
   "id": "61bce684",
   "metadata": {},
   "source": [
    "6. Use multiprocessing to create three separate processes. Make each one wait a random number of seconds between one and five, print the current time, and then exit."
   ]
  },
  {
   "cell_type": "markdown",
   "id": "579fc003",
   "metadata": {},
   "source": [
    "7. Create a date object of your day of birth."
   ]
  },
  {
   "cell_type": "code",
   "execution_count": 14,
   "id": "3d075a13",
   "metadata": {},
   "outputs": [
    {
     "name": "stdout",
     "output_type": "stream",
     "text": [
      "1994-12-25 00:00:00\n"
     ]
    }
   ],
   "source": [
    "from datetime import datetime\n",
    "dob= datetime.strptime('25/12/1994','%d/%m/%Y')\n",
    "print(dob)"
   ]
  },
  {
   "cell_type": "markdown",
   "id": "40fea4fc",
   "metadata": {},
   "source": [
    "8. What day of the week was your day of birth?"
   ]
  },
  {
   "cell_type": "code",
   "execution_count": 18,
   "id": "485e02f6",
   "metadata": {},
   "outputs": [
    {
     "name": "stdout",
     "output_type": "stream",
     "text": [
      "1994-12-25 00:00:00\n"
     ]
    },
    {
     "data": {
      "text/plain": [
       "'Sunday'"
      ]
     },
     "execution_count": 18,
     "metadata": {},
     "output_type": "execute_result"
    }
   ],
   "source": [
    "from datetime import datetime\n",
    "dob=datetime(1994 ,12 ,25)\n",
    "print(dob)\n",
    "dob.strftime('%A')"
   ]
  },
  {
   "cell_type": "markdown",
   "id": "103b41e3",
   "metadata": {},
   "source": [
    "9. When will you be (or when were you) 10,000 days old?"
   ]
  },
  {
   "cell_type": "code",
   "execution_count": 26,
   "id": "4e373949",
   "metadata": {},
   "outputs": [
    {
     "data": {
      "text/plain": [
       "datetime.datetime(2022, 5, 12, 0, 0)"
      ]
     },
     "execution_count": 26,
     "metadata": {},
     "output_type": "execute_result"
    }
   ],
   "source": [
    "\n",
    "from datetime import datetime\n",
    "dob= datetime.strptime('25/12/1994','%d/%m/%Y')\n",
    "f_10K=dob+timedelta(10000)\n",
    "f_10K"
   ]
  },
  {
   "cell_type": "code",
   "execution_count": 25,
   "id": "985276a2",
   "metadata": {},
   "outputs": [
    {
     "name": "stdout",
     "output_type": "stream",
     "text": [
      "2022-05-12\n"
     ]
    }
   ],
   "source": [
    "from datetime import date\n",
    "dob1=date(1994,12,25)\n",
    "f=dob1+timedelta(10000)\n",
    "print(f)"
   ]
  },
  {
   "cell_type": "code",
   "execution_count": 27,
   "id": "3dae1c87",
   "metadata": {},
   "outputs": [
    {
     "name": "stdout",
     "output_type": "stream",
     "text": [
      "2022-10-31\n"
     ]
    }
   ],
   "source": [
    "from datetime import date\n",
    "dob1=date(1995,6,15)\n",
    "f=dob1+timedelta(10000)\n",
    "print(f)"
   ]
  },
  {
   "cell_type": "code",
   "execution_count": null,
   "id": "85c27f5b",
   "metadata": {},
   "outputs": [],
   "source": []
  }
 ],
 "metadata": {
  "kernelspec": {
   "display_name": "Python 3 (ipykernel)",
   "language": "python",
   "name": "python3"
  },
  "language_info": {
   "codemirror_mode": {
    "name": "ipython",
    "version": 3
   },
   "file_extension": ".py",
   "mimetype": "text/x-python",
   "name": "python",
   "nbconvert_exporter": "python",
   "pygments_lexer": "ipython3",
   "version": "3.9.7"
  }
 },
 "nbformat": 4,
 "nbformat_minor": 5
}
