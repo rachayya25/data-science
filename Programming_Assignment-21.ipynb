{
 "cells": [
  {
   "cell_type": "markdown",
   "id": "1999ec0a",
   "metadata": {},
   "source": [
    "1.Write a function that takes a list and a number as arguments. Add the number to the end of the list, then remove the first element of the list. The function should then return the updated list.\n",
    "Examples:\n",
    "* next_in_line([5, 6, 7, 8, 9], 1) ➞ [6, 7, 8, 9, 1]\n",
    "* next_in_line([7, 6, 3, 23, 17], 10) ➞ [6, 3, 23, 17, 10]\n",
    "* next_in_line([1, 10, 20, 42 ], 6) ➞ [10, 20, 42, 6]\n",
    "* next_in_line([], 6) ➞ \"No list has been selected\""
   ]
  },
  {
   "cell_type": "code",
   "execution_count": 55,
   "id": "334f018d",
   "metadata": {},
   "outputs": [],
   "source": [
    "class list_num:\n",
    "    \"\"\"this fun will takes a list and a number as arguments. Add the number to the end of the list,\n",
    "    then remove the first element of the list. \"\"\"\n",
    "    def __init__(self, inlist, num):\n",
    "        self.inlist = inlist\n",
    "        self.num = num\n",
    "        \n",
    "    def updated_list(self):\n",
    "        if type(self.inlist )!= list:\n",
    "            print(\"No list has been selected\")\n",
    "            \n",
    "        elif len(self.inlist) < 1 :\n",
    "            print(\"empty list has been selected\")\n",
    "            \n",
    "        else:\n",
    "            if type(self.inlist)== list:\n",
    "                self.inlist.pop(0)\n",
    "                self.inlist.append(self.num)\n",
    "                return self.inlist\n"
   ]
  },
  {
   "cell_type": "code",
   "execution_count": 51,
   "id": "7a4a2fd6",
   "metadata": {},
   "outputs": [
    {
     "data": {
      "text/plain": [
       "[6, 7, 8, 9, 1]"
      ]
     },
     "execution_count": 51,
     "metadata": {},
     "output_type": "execute_result"
    }
   ],
   "source": [
    "a=list_num([5,6,7,8,9],1)\n",
    "a.updated_list()\n"
   ]
  },
  {
   "cell_type": "code",
   "execution_count": 53,
   "id": "27b8e1df",
   "metadata": {},
   "outputs": [
    {
     "data": {
      "text/plain": [
       "[6, 3, 23, 17, 10]"
      ]
     },
     "execution_count": 53,
     "metadata": {},
     "output_type": "execute_result"
    }
   ],
   "source": [
    "a1=list_num([7,6,3,23,17],10)\n",
    "a1.updated_list()\n"
   ]
  },
  {
   "cell_type": "code",
   "execution_count": 43,
   "id": "b31e8c07",
   "metadata": {},
   "outputs": [
    {
     "data": {
      "text/plain": [
       "[10, 20, 42, 6]"
      ]
     },
     "execution_count": 43,
     "metadata": {},
     "output_type": "execute_result"
    }
   ],
   "source": [
    "a2=list_num([1, 10, 20, 42 ], 6)\n",
    "a2.updated_list()"
   ]
  },
  {
   "cell_type": "code",
   "execution_count": 46,
   "id": "2085867f",
   "metadata": {},
   "outputs": [
    {
     "name": "stdout",
     "output_type": "stream",
     "text": [
      "No list has been selected\n"
     ]
    }
   ],
   "source": [
    "a3=list_num(3,6)\n",
    "a3.updated_list()"
   ]
  },
  {
   "cell_type": "code",
   "execution_count": 56,
   "id": "408085d1",
   "metadata": {},
   "outputs": [
    {
     "name": "stdout",
     "output_type": "stream",
     "text": [
      "empty list has been selected\n"
     ]
    }
   ],
   "source": [
    "a4=list_num([],6)\n",
    "a4.updated_list()"
   ]
  },
  {
   "cell_type": "markdown",
   "id": "bf661669",
   "metadata": {},
   "source": [
    "2.Create the function that takes a list of dictionaries and returns the sum of people's budgets.\n",
    "\n",
    "* Examples:\n",
    "* get_budgets([ { \"name\": \"John\", \"age\": 21, \"budget\": 23000 }, { \"name\": \"Steve\", \"age\": 32, \"budget\": 40000 }, { \"name\": \"Martin\", \"age\": 16, \"budget\": 2700 } ]) ➞ 65700\n",
    "\n",
    "* get_budgets([ { \"name\": \"John\", \"age\": 21, \"budget\": 29000 }, { \"name\": \"Steve\", \"age\": 32, \"budget\": 32000 }, { \"name\": \"Martin\", \"age\": 16, \"budget\": 1600 } ]) ➞ 62600"
   ]
  },
  {
   "cell_type": "code",
   "execution_count": 72,
   "id": "02e62c3c",
   "metadata": {},
   "outputs": [],
   "source": [
    "class budget:\n",
    "    \"\"\"this will return su of pepole's budget\"\"\"\n",
    "    def __init__(self,d):\n",
    "        self.d = d\n",
    "    \n",
    "    def budget(self):\n",
    "        som=0\n",
    "        for i in self.d :\n",
    "            som=som+i['budget']\n",
    "        return som\n",
    "            "
   ]
  },
  {
   "cell_type": "code",
   "execution_count": 73,
   "id": "4a31707f",
   "metadata": {},
   "outputs": [],
   "source": [
    "d1=budget([{ \"name\": \"John\", \"age\": 21, \"budget\": 23000 }, \n",
    "     { \"name\": \"Steve\", \"age\": 32, \"budget\": 40000 }, \n",
    "     { \"name\": \"Martin\", \"age\": 16, \"budget\": 2700 }] )"
   ]
  },
  {
   "cell_type": "code",
   "execution_count": 74,
   "id": "8cea4bca",
   "metadata": {},
   "outputs": [
    {
     "data": {
      "text/plain": [
       "65700"
      ]
     },
     "execution_count": 74,
     "metadata": {},
     "output_type": "execute_result"
    }
   ],
   "source": [
    "d1.budget()"
   ]
  },
  {
   "cell_type": "code",
   "execution_count": 76,
   "id": "15d3fd4a",
   "metadata": {},
   "outputs": [],
   "source": [
    "d2=budget(([ { \"name\": \"John\", \"age\": 21, \"budget\": 29000 }, { \"name\": \"Steve\", \"age\": 32, \"budget\": 32000 }, { \"name\": \"Martin\", \"age\": 16, \"budget\": 1600 } ]))"
   ]
  },
  {
   "cell_type": "code",
   "execution_count": 77,
   "id": "44c71e4a",
   "metadata": {},
   "outputs": [
    {
     "data": {
      "text/plain": [
       "62600"
      ]
     },
     "execution_count": 77,
     "metadata": {},
     "output_type": "execute_result"
    }
   ],
   "source": [
    "d2.budget()"
   ]
  },
  {
   "cell_type": "markdown",
   "id": "9e036e7b",
   "metadata": {},
   "source": [
    "3.Create a function that takes a string and returns a string with its letters in alphabetical order.\n",
    "\n",
    "* Examples:\n",
    "* alphabet_soup(\"hello\") ➞ \"ehllo\"\n",
    "* alphabet_soup(\"edabit\") ➞ \"abdeit\"\n",
    "* alphabet_soup(\"hacker\") ➞ \"acehkr\"\n",
    "* alphabet_soup(\"geek\") ➞ \"eegk\"\n",
    "* alphabet_soup(\"javascript\") ➞ \"aacijprstv\""
   ]
  },
  {
   "cell_type": "code",
   "execution_count": 159,
   "id": "b0803488",
   "metadata": {},
   "outputs": [],
   "source": [
    "class sort_strng():\n",
    "    \"\"\"this will return alphabetical order string\"\"\"\n",
    "    def alpha(self,a):\n",
    "        self.a=a\n",
    "        string=''\n",
    "        for i in (sorted(self.a)):\n",
    "            string+=i\n",
    "        return string\n",
    "        \n",
    "        "
   ]
  },
  {
   "cell_type": "code",
   "execution_count": 160,
   "id": "6f01262b",
   "metadata": {},
   "outputs": [],
   "source": [
    "a=sort_strng()"
   ]
  },
  {
   "cell_type": "code",
   "execution_count": 161,
   "id": "a13949e9",
   "metadata": {},
   "outputs": [
    {
     "data": {
      "text/plain": [
       "'ahikl'"
      ]
     },
     "execution_count": 161,
     "metadata": {},
     "output_type": "execute_result"
    }
   ],
   "source": [
    "a.alpha('akhil')"
   ]
  },
  {
   "cell_type": "code",
   "execution_count": 162,
   "id": "e4337015",
   "metadata": {},
   "outputs": [
    {
     "data": {
      "text/plain": [
       "'abdeit'"
      ]
     },
     "execution_count": 162,
     "metadata": {},
     "output_type": "execute_result"
    }
   ],
   "source": [
    "a.alpha('edabit')"
   ]
  },
  {
   "cell_type": "code",
   "execution_count": 163,
   "id": "1e20e087",
   "metadata": {},
   "outputs": [
    {
     "data": {
      "text/plain": [
       "'acehkr'"
      ]
     },
     "execution_count": 163,
     "metadata": {},
     "output_type": "execute_result"
    }
   ],
   "source": [
    "a.alpha('hacker')"
   ]
  },
  {
   "cell_type": "code",
   "execution_count": 168,
   "id": "35e78309",
   "metadata": {},
   "outputs": [
    {
     "data": {
      "text/plain": [
       "'eegk'"
      ]
     },
     "execution_count": 168,
     "metadata": {},
     "output_type": "execute_result"
    }
   ],
   "source": [
    "a.alpha('geek')\n"
   ]
  },
  {
   "cell_type": "code",
   "execution_count": 167,
   "id": "9b6560ed",
   "metadata": {},
   "outputs": [
    {
     "data": {
      "text/plain": [
       "'aacijprstv'"
      ]
     },
     "execution_count": 167,
     "metadata": {},
     "output_type": "execute_result"
    }
   ],
   "source": [
    "a.alpha('javascript')"
   ]
  },
  {
   "cell_type": "markdown",
   "id": "2cce0f89",
   "metadata": {},
   "source": [
    "4.What will be the value of your investment at the end of the 10 year period?\n",
    "Create a function that accepts the principal p, the term in years t, the interest rate r, and the number of compounding periods per year n. The function returns the value at the end of term rounded to the nearest cent.\n",
    "\n",
    "* For the example above:\n",
    "* compound_interest(10000, 10, 0.06, 12) ➞ 18193.97\n",
    "* Note that the interest rate is given as a decimal and n=12 because with monthly compounding there are 12 periods per year. Compounding can also be done annually, quarterly, weekly, or daily.\n",
    "\n",
    "* Examples:\n",
    "* compound_interest(100, 1, 0.05, 1) ➞ 105.0\n",
    "* compound_interest(3500, 15, 0.1, 4) ➞ 15399.26\n",
    "* compound_interest(100000, 20, 0.15, 365) ➞ 2007316.26"
   ]
  },
  {
   "cell_type": "code",
   "execution_count": 169,
   "id": "760bc28f",
   "metadata": {},
   "outputs": [
    {
     "name": "stdout",
     "output_type": "stream",
     "text": [
      "Output ➞ 105.00\n",
      "Output ➞ 15399.26\n",
      "Output ➞ 2007316.26\n"
     ]
    }
   ],
   "source": [
    "def compound_interest(principal,years,roi,cp):\n",
    "    ci = principal*(1+(roi/cp))**(cp*years)\n",
    "    print(f'Output ➞ {ci:.2f}')\n",
    "\n",
    "compound_interest(100, 1, 0.05, 1)\n",
    "compound_interest(3500, 15, 0.1, 4)\n",
    "compound_interest(100000, 20, 0.15, 365)"
   ]
  },
  {
   "cell_type": "markdown",
   "id": "571fc53b",
   "metadata": {},
   "source": [
    "5.Write a function that takes a list of elements and returns only the integers.\n",
    "Examples:\n",
    "* return_only_integer([9, 2, \"space\", \"car\", \"lion\", 16]) ➞ [9, 2, 16]\n",
    "* return_only_integer([\"hello\", 81, \"basketball\", 123, \"fox\"]) ➞ [81, 123]\n",
    "* return_only_integer([10, \"121\", 56, 20, \"car\", 3, \"lion\"]) ➞ [10, 56, 20,3]\n",
    "* return_only_integer([\"String\", True, 3.3, 1]) ➞ [1]"
   ]
  },
  {
   "cell_type": "code",
   "execution_count": 178,
   "id": "7db86865",
   "metadata": {},
   "outputs": [],
   "source": [
    "class return_int:\n",
    "    \"\"\"this will return int from list\"\"\"\n",
    "    def int_int(self,a):\n",
    "        if type(a)==list :\n",
    "            l=[]\n",
    "            for i in a:\n",
    "                if type(i) == int :\n",
    "                    l.append(i)\n",
    "            return l\n",
    "                    "
   ]
  },
  {
   "cell_type": "code",
   "execution_count": 179,
   "id": "9d8da0f2",
   "metadata": {},
   "outputs": [],
   "source": [
    "c=return_int()"
   ]
  },
  {
   "cell_type": "code",
   "execution_count": 180,
   "id": "55e3faed",
   "metadata": {},
   "outputs": [
    {
     "data": {
      "text/plain": [
       "[9, 2, 16]"
      ]
     },
     "execution_count": 180,
     "metadata": {},
     "output_type": "execute_result"
    }
   ],
   "source": [
    "c.int_int([9, 2, \"space\", \"car\", \"lion\", 16])"
   ]
  },
  {
   "cell_type": "code",
   "execution_count": 181,
   "id": "2ff84b8d",
   "metadata": {},
   "outputs": [
    {
     "data": {
      "text/plain": [
       "[81, 123]"
      ]
     },
     "execution_count": 181,
     "metadata": {},
     "output_type": "execute_result"
    }
   ],
   "source": [
    "c.int_int([\"hello\", 81, \"basketball\", 123, \"fox\"])"
   ]
  },
  {
   "cell_type": "code",
   "execution_count": 182,
   "id": "11743655",
   "metadata": {},
   "outputs": [
    {
     "data": {
      "text/plain": [
       "[10, 56, 20, 3]"
      ]
     },
     "execution_count": 182,
     "metadata": {},
     "output_type": "execute_result"
    }
   ],
   "source": [
    "c.int_int([10, \"121\", 56, 20, \"car\", 3, \"lion\"])"
   ]
  },
  {
   "cell_type": "code",
   "execution_count": 183,
   "id": "bb4d72e9",
   "metadata": {},
   "outputs": [
    {
     "data": {
      "text/plain": [
       "[1]"
      ]
     },
     "execution_count": 183,
     "metadata": {},
     "output_type": "execute_result"
    }
   ],
   "source": [
    "c.int_int([\"String\", True, 3.3, 1])\n"
   ]
  },
  {
   "cell_type": "code",
   "execution_count": null,
   "id": "33782c76",
   "metadata": {},
   "outputs": [],
   "source": []
  }
 ],
 "metadata": {
  "kernelspec": {
   "display_name": "Python 3 (ipykernel)",
   "language": "python",
   "name": "python3"
  },
  "language_info": {
   "codemirror_mode": {
    "name": "ipython",
    "version": 3
   },
   "file_extension": ".py",
   "mimetype": "text/x-python",
   "name": "python",
   "nbconvert_exporter": "python",
   "pygments_lexer": "ipython3",
   "version": "3.9.7"
  }
 },
 "nbformat": 4,
 "nbformat_minor": 5
}
