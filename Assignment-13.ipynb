{
 "cells": [
  {
   "cell_type": "markdown",
   "id": "7e3c50aa",
   "metadata": {},
   "source": [
    "#1. What advantages do Excel spreadsheets have over CSV spreadsheets?\n"
   ]
  },
  {
   "cell_type": "code",
   "execution_count": 1,
   "id": "101fb74b",
   "metadata": {},
   "outputs": [],
   "source": [
    "import pandas as pd"
   ]
  },
  {
   "cell_type": "code",
   "execution_count": 3,
   "id": "50fe2d59",
   "metadata": {},
   "outputs": [],
   "source": [
    "df = pd.read_html('https://www.geeksforgeeks.org/difference-between-csv-and-excel/')"
   ]
  },
  {
   "cell_type": "code",
   "execution_count": 11,
   "id": "4a8b5d8f",
   "metadata": {},
   "outputs": [
    {
     "data": {
      "text/html": [
       "<div>\n",
       "<style scoped>\n",
       "    .dataframe tbody tr th:only-of-type {\n",
       "        vertical-align: middle;\n",
       "    }\n",
       "\n",
       "    .dataframe tbody tr th {\n",
       "        vertical-align: top;\n",
       "    }\n",
       "\n",
       "    .dataframe thead th {\n",
       "        text-align: right;\n",
       "    }\n",
       "</style>\n",
       "<table border=\"1\" class=\"dataframe\">\n",
       "  <thead>\n",
       "    <tr style=\"text-align: right;\">\n",
       "      <th></th>\n",
       "      <th>SR.NO</th>\n",
       "      <th>CSV</th>\n",
       "      <th>EXCEL</th>\n",
       "    </tr>\n",
       "  </thead>\n",
       "  <tbody>\n",
       "    <tr>\n",
       "      <th>0</th>\n",
       "      <td>1</td>\n",
       "      <td>CSV stands for Comma separated value.</td>\n",
       "      <td>MS Excel stands for Microsoft Excel.</td>\n",
       "    </tr>\n",
       "    <tr>\n",
       "      <th>1</th>\n",
       "      <td>2</td>\n",
       "      <td>It is a plain text format with a series of val...</td>\n",
       "      <td>It is a binary file that holds information abo...</td>\n",
       "    </tr>\n",
       "    <tr>\n",
       "      <th>2</th>\n",
       "      <td>3</td>\n",
       "      <td>CSV can be opened with any text editor in Wind...</td>\n",
       "      <td>Excel file can be opened with Microsoft Excel ...</td>\n",
       "    </tr>\n",
       "    <tr>\n",
       "      <th>3</th>\n",
       "      <td>4</td>\n",
       "      <td>It is a standard of saving tabular information...</td>\n",
       "      <td>It is a spreadsheet application that saves fil...</td>\n",
       "    </tr>\n",
       "    <tr>\n",
       "      <th>4</th>\n",
       "      <td>5</td>\n",
       "      <td>CSV file saved with extension as .csv.</td>\n",
       "      <td>Excel file saved with extension as .xls/.xlsx.</td>\n",
       "    </tr>\n",
       "    <tr>\n",
       "      <th>5</th>\n",
       "      <td>6</td>\n",
       "      <td>It consumes less memory than Excel.</td>\n",
       "      <td>It consumes more memory than CSV.</td>\n",
       "    </tr>\n",
       "    <tr>\n",
       "      <th>6</th>\n",
       "      <td>7</td>\n",
       "      <td>No such feature is available in CSV format whe...</td>\n",
       "      <td>It also provides the user option for external ...</td>\n",
       "    </tr>\n",
       "    <tr>\n",
       "      <th>7</th>\n",
       "      <td>8</td>\n",
       "      <td>It is not easier for the end user to read larg...</td>\n",
       "      <td>It is easier for the end user to read large fi...</td>\n",
       "    </tr>\n",
       "  </tbody>\n",
       "</table>\n",
       "</div>"
      ],
      "text/plain": [
       "   SR.NO                                                CSV  \\\n",
       "0      1              CSV stands for Comma separated value.   \n",
       "1      2  It is a plain text format with a series of val...   \n",
       "2      3  CSV can be opened with any text editor in Wind...   \n",
       "3      4  It is a standard of saving tabular information...   \n",
       "4      5             CSV file saved with extension as .csv.   \n",
       "5      6                It consumes less memory than Excel.   \n",
       "6      7  No such feature is available in CSV format whe...   \n",
       "7      8  It is not easier for the end user to read larg...   \n",
       "\n",
       "                                               EXCEL  \n",
       "0               MS Excel stands for Microsoft Excel.  \n",
       "1  It is a binary file that holds information abo...  \n",
       "2  Excel file can be opened with Microsoft Excel ...  \n",
       "3  It is a spreadsheet application that saves fil...  \n",
       "4     Excel file saved with extension as .xls/.xlsx.  \n",
       "5                  It consumes more memory than CSV.  \n",
       "6  It also provides the user option for external ...  \n",
       "7  It is easier for the end user to read large fi...  "
      ]
     },
     "execution_count": 11,
     "metadata": {},
     "output_type": "execute_result"
    }
   ],
   "source": [
    "df[0]"
   ]
  },
  {
   "cell_type": "markdown",
   "id": "b6cb08a4",
   "metadata": {},
   "source": [
    "#2.What do you pass to csv.reader() and csv.writer() to create reader and writer objects?\n",
    "\n",
    "* to create csv reader object one has to pass csv.reader(filename, delimiter)\n",
    "\n",
    "* to create csv writer object one has to pass csv.writer(filename, delimeter)"
   ]
  },
  {
   "cell_type": "markdown",
   "id": "ca8f7a43",
   "metadata": {},
   "source": [
    "#3. What modes do File objects for reader and writer objects need to be opened in?\n",
    "\n",
    "* for reader one has to use 'rb' mode\n",
    "* for writer one has to use 'wb' mode"
   ]
  },
  {
   "cell_type": "markdown",
   "id": "b2a2fc5f",
   "metadata": {},
   "source": [
    "4. What method takes a list argument and writes it to a CSV file?\n",
    "\n",
    "* writerow() method"
   ]
  },
  {
   "cell_type": "markdown",
   "id": "aa485294",
   "metadata": {},
   "source": [
    "5. What do the keyword arguments delimiter and line terminator do?\n",
    "### lineterminator\n",
    "* The string used to terminate lines produced by the writer. It defaults to '\\r\\n'.\n",
    "### delimiter\n",
    "* A one-character string used to separate fields. It defaults to ','."
   ]
  },
  {
   "cell_type": "markdown",
   "id": "b5b43ad2",
   "metadata": {},
   "source": [
    "6. What function takes a string of JSON data and returns a Python data structure?\n",
    "\n",
    "* json.loads()"
   ]
  },
  {
   "cell_type": "markdown",
   "id": "3bcb1be7",
   "metadata": {},
   "source": [
    "7. What function takes a Python data structure and returns a string of JSON data?\n",
    "\n",
    "* json.dumps()"
   ]
  },
  {
   "cell_type": "code",
   "execution_count": null,
   "id": "d74ad733",
   "metadata": {},
   "outputs": [],
   "source": []
  }
 ],
 "metadata": {
  "kernelspec": {
   "display_name": "Python 3 (ipykernel)",
   "language": "python",
   "name": "python3"
  },
  "language_info": {
   "codemirror_mode": {
    "name": "ipython",
    "version": 3
   },
   "file_extension": ".py",
   "mimetype": "text/x-python",
   "name": "python",
   "nbconvert_exporter": "python",
   "pygments_lexer": "ipython3",
   "version": "3.9.7"
  }
 },
 "nbformat": 4,
 "nbformat_minor": 5
}
