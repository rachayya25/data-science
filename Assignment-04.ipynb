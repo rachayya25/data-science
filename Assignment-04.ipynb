{
 "cells": [
  {
   "cell_type": "markdown",
   "id": "c48071c7",
   "metadata": {},
   "source": [
    "# 1. What exactly is []?\n",
    "\n",
    "* [ ] is a list"
   ]
  },
  {
   "cell_type": "markdown",
   "id": "295ec7d0",
   "metadata": {},
   "source": [
    "# 2. In a list of values stored in a variable called spam, how would you assign the value 'hello' as the third value? (Assume [2, 4, 6, 8, 10] are in spam.)\n",
    "\n",
    "* Answer:\n",
    "* wth the help of insert we can assign\n",
    "    * spam = [2,4,6,8,10]\n",
    "    * spam.insert(3, 'hello')\n",
    "    "
   ]
  },
  {
   "cell_type": "code",
   "execution_count": 15,
   "id": "3ca20703",
   "metadata": {},
   "outputs": [],
   "source": [
    "spam = [2,4,6,8,10]\n",
    "spam.insert(3, 'hello')    "
   ]
  },
  {
   "cell_type": "markdown",
   "id": "ed17a9b1",
   "metadata": {},
   "source": [
    "# Let's pretend the spam includes the \n",
    "# list ['a', 'b', 'c', 'd'] for the next three queries.\n",
    "\n",
    "## 3. What is the value of spam[int(i/nt('3' * 2)  11)]?\n",
    "\n",
    "* answer :\n",
    "    * '3' is string here, if we multiply by 2, it will return '33',\n",
    "    * int('33') will convert string from int (33)\n",
    "    * then divided by 11\n",
    "    * 33/11 will return 3\n",
    "\n"
   ]
  },
  {
   "cell_type": "code",
   "execution_count": 18,
   "id": "401bc6ae",
   "metadata": {},
   "outputs": [],
   "source": [
    "spam = [int(int('3' * 2) / 11)]"
   ]
  },
  {
   "cell_type": "code",
   "execution_count": 19,
   "id": "196bb4a2",
   "metadata": {},
   "outputs": [
    {
     "data": {
      "text/plain": [
       "[3]"
      ]
     },
     "execution_count": 19,
     "metadata": {},
     "output_type": "execute_result"
    }
   ],
   "source": [
    "spam"
   ]
  },
  {
   "cell_type": "markdown",
   "id": "4223733a",
   "metadata": {},
   "source": [
    "# 4. What is the value of spam[-1]?\n",
    "\n",
    "* answer :\n",
    "* spam[-1] will return 'd'\n",
    "\n"
   ]
  },
  {
   "cell_type": "code",
   "execution_count": 24,
   "id": "27f9e026",
   "metadata": {},
   "outputs": [],
   "source": [
    "spam1=['a','b','c','d']"
   ]
  },
  {
   "cell_type": "code",
   "execution_count": 26,
   "id": "be0047d1",
   "metadata": {},
   "outputs": [
    {
     "data": {
      "text/plain": [
       "'d'"
      ]
     },
     "execution_count": 26,
     "metadata": {},
     "output_type": "execute_result"
    }
   ],
   "source": [
    "spam1[-1]"
   ]
  },
  {
   "cell_type": "markdown",
   "id": "b196ae22",
   "metadata": {},
   "source": [
    "# 5. What is the value of spam[:2]?\n",
    "\n",
    "* answer :\n",
    "  *  spam[:2] will return 'a', 'b'\n",
    "  \n",
    "  * spam[:2] is actually means,\n",
    "      * start from 0, go till 2, excluding 2, with jump of 1"
   ]
  },
  {
   "cell_type": "code",
   "execution_count": 27,
   "id": "8e647177",
   "metadata": {},
   "outputs": [
    {
     "data": {
      "text/plain": [
       "['a', 'b']"
      ]
     },
     "execution_count": 27,
     "metadata": {},
     "output_type": "execute_result"
    }
   ],
   "source": [
    "spam1[:2]"
   ]
  },
  {
   "cell_type": "markdown",
   "id": "29a5d80b",
   "metadata": {},
   "source": [
    "# Let's pretend bacon has the list [3.14, 'cat,' 11, 'cat,' True] for the next three questions.\n",
    "\n",
    "# 6. What is the value of bacon.index('cat')?\n",
    "\n",
    "* answer :\n",
    "\n",
    "    * index operation will give first occurance \n",
    "    * least index of 'cat' is 1\n",
    "    * function will return 1\n"
   ]
  },
  {
   "cell_type": "code",
   "execution_count": 30,
   "id": "8dfa5910",
   "metadata": {},
   "outputs": [],
   "source": [
    "bacon=[3.14, 'cat',11,'cat', True]"
   ]
  },
  {
   "cell_type": "code",
   "execution_count": 31,
   "id": "056df106",
   "metadata": {},
   "outputs": [
    {
     "data": {
      "text/plain": [
       "1"
      ]
     },
     "execution_count": 31,
     "metadata": {},
     "output_type": "execute_result"
    }
   ],
   "source": [
    "bacon.index('cat')"
   ]
  },
  {
   "cell_type": "markdown",
   "id": "18c80a93",
   "metadata": {},
   "source": [
    "# 7. How does bacon.append(99) change the look of the list value in bacon?\n",
    "\n",
    "* 99 will be inserted at last index of the bacon\n",
    "* [3.14, 'cat', 11, 'cat', True, 99]"
   ]
  },
  {
   "cell_type": "code",
   "execution_count": 32,
   "id": "7ab187b0",
   "metadata": {},
   "outputs": [],
   "source": [
    "bacon.append(99)"
   ]
  },
  {
   "cell_type": "code",
   "execution_count": 33,
   "id": "130a07eb",
   "metadata": {},
   "outputs": [
    {
     "data": {
      "text/plain": [
       "[3.14, 'cat', 11, 'cat', True, 99]"
      ]
     },
     "execution_count": 33,
     "metadata": {},
     "output_type": "execute_result"
    }
   ],
   "source": [
    "bacon"
   ]
  },
  {
   "cell_type": "markdown",
   "id": "2bbd0de5",
   "metadata": {},
   "source": [
    "# 8. How does bacon.remove('cat') change the look of the list in bacon?\n",
    "\n",
    "* remove() operation  will delete 'cat' from the bacon list.\n",
    "* the first occurance will be deleted if we have multiple values"
   ]
  },
  {
   "cell_type": "code",
   "execution_count": 34,
   "id": "677ad0b9",
   "metadata": {},
   "outputs": [
    {
     "data": {
      "text/plain": [
       "[3.14, 11, 'cat', True, 99]"
      ]
     },
     "execution_count": 34,
     "metadata": {},
     "output_type": "execute_result"
    }
   ],
   "source": [
    "bacon.remove('cat')\n",
    "bacon"
   ]
  },
  {
   "cell_type": "markdown",
   "id": "abc296d2",
   "metadata": {},
   "source": [
    "# 9. What are the list concatenation and list replication operators?\n",
    "\n",
    "* Answer :\n",
    "    * (+) is the list concatenation operator\n",
    "    *  (*) is the list replication operator"
   ]
  },
  {
   "cell_type": "markdown",
   "id": "2c0fc1a2",
   "metadata": {},
   "source": [
    "# 10. What is difference between the list methods append() and insert()?\n",
    "\n",
    "* Answer :\n",
    "    * append() will add data at last index.\n",
    "    * insert() can add data at any given index\n",
    "    "
   ]
  },
  {
   "cell_type": "markdown",
   "id": "365f780d",
   "metadata": {},
   "source": [
    "# 11. What are the two methods for removing items from a list?\n",
    "\n",
    "* answer :\n",
    "    * pop() and remove() are the two operatorsused for removing data"
   ]
  },
  {
   "cell_type": "markdown",
   "id": "ff3cab92",
   "metadata": {},
   "source": [
    "# 12. Describe how list values and string values are identical.\n",
    "\n",
    "* Answer :\n",
    "    * both can be accessed with indeing operations\n",
    "    * in and not operators can be used.\n",
    "    * string and list slicing is same.\n",
    "    "
   ]
  },
  {
   "cell_type": "markdown",
   "id": "3894354d",
   "metadata": {},
   "source": [
    "# 13. What's the difference between tuples and lists?\n",
    "\n",
    "* tuples are immutable entity.\n",
    "* list are mutable entity\n",
    "* with tuples we can only do count and indexing operations.\n",
    "* in list there are many functions avaliable such as pop, insert, extend, append,,,etc\n",
    "\n",
    "* tuples are used with normal brackets ().\n",
    "* list elements are enclosed inside [ ]"
   ]
  },
  {
   "cell_type": "markdown",
   "id": "e0330b66",
   "metadata": {},
   "source": [
    "# 14. How do you type a tuple value that only contains the integer 42?\n",
    "\n",
    "* Answer :\n",
    " t = (42,)\n",
    "\n"
   ]
  },
  {
   "cell_type": "code",
   "execution_count": 43,
   "id": "8da5a540",
   "metadata": {},
   "outputs": [],
   "source": [
    "t=(42,)"
   ]
  },
  {
   "cell_type": "code",
   "execution_count": 44,
   "id": "74940e2e",
   "metadata": {},
   "outputs": [
    {
     "data": {
      "text/plain": [
       "tuple"
      ]
     },
     "execution_count": 44,
     "metadata": {},
     "output_type": "execute_result"
    }
   ],
   "source": [
    "type(t)"
   ]
  },
  {
   "cell_type": "markdown",
   "id": "87f3381a",
   "metadata": {},
   "source": [
    "# 15. How do you get a list value's tuple form? How do you get a tuple value's list form?\n",
    "\n",
    "* answer :\n",
    "* l = [1,2,3,4,5]\n",
    "* t = (a,b,c,d)\n"
   ]
  },
  {
   "cell_type": "code",
   "execution_count": 47,
   "id": "49f5becd",
   "metadata": {},
   "outputs": [],
   "source": [
    "a=tuple(l)"
   ]
  },
  {
   "cell_type": "code",
   "execution_count": 48,
   "id": "d541adef",
   "metadata": {},
   "outputs": [
    {
     "data": {
      "text/plain": [
       "tuple"
      ]
     },
     "execution_count": 48,
     "metadata": {},
     "output_type": "execute_result"
    }
   ],
   "source": [
    "type(a)"
   ]
  },
  {
   "cell_type": "code",
   "execution_count": 49,
   "id": "2175a2c7",
   "metadata": {},
   "outputs": [],
   "source": [
    "b = list(t)"
   ]
  },
  {
   "cell_type": "code",
   "execution_count": 50,
   "id": "be69ad11",
   "metadata": {},
   "outputs": [
    {
     "data": {
      "text/plain": [
       "list"
      ]
     },
     "execution_count": 50,
     "metadata": {},
     "output_type": "execute_result"
    }
   ],
   "source": [
    "type(b)"
   ]
  },
  {
   "cell_type": "markdown",
   "id": "484682e7",
   "metadata": {},
   "source": [
    "# 16. Variables that \"contain\" list values are not necessarily lists themselves. Instead, what do they contain?\n",
    "\n",
    "* Answer :\n",
    "* They contain references to list values."
   ]
  },
  {
   "cell_type": "markdown",
   "id": "3d5bdf17",
   "metadata": {},
   "source": [
    "# 17. How do you distinguish between copy.copy() and copy.deepcopy()?\n",
    "\n",
    "* Answer :\n",
    "* The copy.copy() function will do a shallow copy of a list, while the copy.deepcopy() function will do a deep copy of a list. That is, only copy.deepcopy() will duplicate any lists inside the list"
   ]
  },
  {
   "cell_type": "code",
   "execution_count": null,
   "id": "cb5d244a",
   "metadata": {},
   "outputs": [],
   "source": []
  }
 ],
 "metadata": {
  "kernelspec": {
   "display_name": "Python 3",
   "language": "python",
   "name": "python3"
  },
  "language_info": {
   "codemirror_mode": {
    "name": "ipython",
    "version": 3
   },
   "file_extension": ".py",
   "mimetype": "text/x-python",
   "name": "python",
   "nbconvert_exporter": "python",
   "pygments_lexer": "ipython3",
   "version": "3.8.8"
  }
 },
 "nbformat": 4,
 "nbformat_minor": 5
}
