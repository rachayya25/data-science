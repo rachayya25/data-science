{
 "cells": [
  {
   "cell_type": "markdown",
   "id": "31e379a9",
   "metadata": {},
   "source": [
    "#1. To what does a relative path refer?\n",
    "* Relative paths are relative to the current working directory."
   ]
  },
  {
   "cell_type": "markdown",
   "id": "6d98dc8e",
   "metadata": {},
   "source": [
    "#2. What does an absolute path start with your operating system?\n",
    "* Absolute paths start with the root folder, such as / or C:\\."
   ]
  },
  {
   "cell_type": "markdown",
   "id": "d27e825c",
   "metadata": {},
   "source": [
    "#3. What do the functions os.getcwd() and os.chdir() do?\n",
    "* The os.getcwd() function returns the current working directory. The os.chdir() function changes the current working directory."
   ]
  },
  {
   "cell_type": "markdown",
   "id": "83da9836",
   "metadata": {},
   "source": [
    "#4. What are the . and .. folders?\n",
    "* The . folder is the current folder, and .. is the parent folder."
   ]
  },
  {
   "cell_type": "markdown",
   "id": "fe4c2169",
   "metadata": {},
   "source": [
    "#5. In C:\\bacon\\eggs\\spam.txt, which part is the dir name, and which part is the base name?\n",
    "* C:\\bacon\\eggs is the dir name, while spam.txt is the base name."
   ]
  },
  {
   "cell_type": "markdown",
   "id": "15b2221a",
   "metadata": {},
   "source": [
    "#6. What are the three “mode” arguments that can be passed to the open() function?\n",
    "* The string 'r' for read mode, 'w' for write mode, and 'a' for append mode"
   ]
  },
  {
   "cell_type": "markdown",
   "id": "c1dfb32a",
   "metadata": {},
   "source": [
    "#7. What happens if an existing file is opened in write mode?\n",
    "* An existing file opened in write mode is erased and completely overwritten."
   ]
  },
  {
   "cell_type": "markdown",
   "id": "207fba9c",
   "metadata": {},
   "source": [
    "#8. How do you tell the difference between read() and readlines()?\n",
    "* read will read entire document ,\n",
    "while readlines will read line by line"
   ]
  },
  {
   "cell_type": "markdown",
   "id": "fdd1e5bb",
   "metadata": {},
   "source": [
    "#9. What data structure does a shelf value resemble?\n",
    "* A shelf value resembles a dictionary value; it has keys and values, along with keys() and values() methods that work similarly to the dictionary methods of the same names"
   ]
  },
  {
   "cell_type": "code",
   "execution_count": null,
   "id": "69c4a7bb",
   "metadata": {},
   "outputs": [],
   "source": []
  }
 ],
 "metadata": {
  "kernelspec": {
   "display_name": "Python 3 (ipykernel)",
   "language": "python",
   "name": "python3"
  },
  "language_info": {
   "codemirror_mode": {
    "name": "ipython",
    "version": 3
   },
   "file_extension": ".py",
   "mimetype": "text/x-python",
   "name": "python",
   "nbconvert_exporter": "python",
   "pygments_lexer": "ipython3",
   "version": "3.9.7"
  }
 },
 "nbformat": 4,
 "nbformat_minor": 5
}
