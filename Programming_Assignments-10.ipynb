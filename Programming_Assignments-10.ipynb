{
 "cells": [
  {
   "cell_type": "markdown",
   "id": "4b0c3630",
   "metadata": {},
   "source": [
    "\n",
    "\n",
    "\n",
    "\n",
    "\n",
    "\n",
    "\n",
    "\n",
    "9.\tWrite a Python program to Remove empty List from List?\n",
    "10.\tWrite a Python program to Cloning or Copying a list?\n",
    "11.\tWrite a Python program to Count occurrences of an element in a list?\n"
   ]
  },
  {
   "cell_type": "markdown",
   "id": "7f372044",
   "metadata": {},
   "source": [
    "1.\tWrite a Python program to find sum of elements in list?"
   ]
  },
  {
   "cell_type": "code",
   "execution_count": 9,
   "id": "8c2268e5",
   "metadata": {},
   "outputs": [],
   "source": [
    "def list_sum(a):\n",
    "    \"\"\"this will return sum of all the elements inside list\"\"\"\n",
    "    if type(a)==list:\n",
    "        return(sum(a))\n",
    "    "
   ]
  },
  {
   "cell_type": "code",
   "execution_count": 11,
   "id": "ad990a07",
   "metadata": {},
   "outputs": [
    {
     "data": {
      "text/plain": [
       "6"
      ]
     },
     "execution_count": 11,
     "metadata": {},
     "output_type": "execute_result"
    }
   ],
   "source": [
    "list_sum(b)"
   ]
  },
  {
   "cell_type": "code",
   "execution_count": 10,
   "id": "59d7b21a",
   "metadata": {},
   "outputs": [],
   "source": [
    "b=[1,2,3]"
   ]
  },
  {
   "cell_type": "markdown",
   "id": "ad9dc612",
   "metadata": {},
   "source": [
    "2.\tWrite a Python program to  Multiply all numbers in the list?"
   ]
  },
  {
   "cell_type": "code",
   "execution_count": 20,
   "id": "20538541",
   "metadata": {},
   "outputs": [
    {
     "data": {
      "text/plain": [
       "0"
      ]
     },
     "execution_count": 20,
     "metadata": {},
     "output_type": "execute_result"
    }
   ],
   "source": [
    "def mult_l(l):\n",
    "    som=1\n",
    "    if type(l)==list :\n",
    "        for i in range(len(l)):\n",
    "            som=som*l[i]\n",
    "    return som\n",
    "\n",
    "b= [1,2,3,0,5]\n",
    "mult_l(b)    "
   ]
  },
  {
   "cell_type": "markdown",
   "id": "9c76638e",
   "metadata": {},
   "source": [
    "3.\tWrite a Python program to find smallest number in a list?"
   ]
  },
  {
   "cell_type": "code",
   "execution_count": 30,
   "id": "babd15e9",
   "metadata": {},
   "outputs": [],
   "source": [
    "def list_min(a):\n",
    "    \"\"\"this will return sum of all the elements inside list\"\"\"\n",
    "    if type(a)==list:\n",
    "        return(min(a))"
   ]
  },
  {
   "cell_type": "code",
   "execution_count": 31,
   "id": "cf3d5337",
   "metadata": {},
   "outputs": [],
   "source": [
    "b= [1,0.5,3,10,5,-1]"
   ]
  },
  {
   "cell_type": "code",
   "execution_count": 32,
   "id": "9ac97560",
   "metadata": {},
   "outputs": [
    {
     "data": {
      "text/plain": [
       "-1"
      ]
     },
     "execution_count": 32,
     "metadata": {},
     "output_type": "execute_result"
    }
   ],
   "source": [
    "list_min(b)"
   ]
  },
  {
   "cell_type": "markdown",
   "id": "dbb8626b",
   "metadata": {},
   "source": [
    "4.\tWrite a Python program to find largest number in a list?"
   ]
  },
  {
   "cell_type": "code",
   "execution_count": 33,
   "id": "51288f2e",
   "metadata": {},
   "outputs": [
    {
     "data": {
      "text/plain": [
       "10"
      ]
     },
     "execution_count": 33,
     "metadata": {},
     "output_type": "execute_result"
    }
   ],
   "source": [
    "def list_max(a):\n",
    "    \"\"\"this will return sum of all the elements inside list\"\"\"\n",
    "    if type(a)==list:\n",
    "        return(max(a))\n",
    "b= [1,0.5,3,10,5,-1]\n",
    "list_max(b)"
   ]
  },
  {
   "cell_type": "markdown",
   "id": "507eee83",
   "metadata": {},
   "source": [
    "5.\tWrite a Python program to find second largest number in a list?"
   ]
  },
  {
   "cell_type": "code",
   "execution_count": 60,
   "id": "617956bf",
   "metadata": {},
   "outputs": [],
   "source": [
    "def list_2l(a):\n",
    "    \"\"\"this will return 2nd largest number of\"\"\"\n",
    "    if type(a)==list:\n",
    "        a.sort()\n",
    "        return(a, a[-2])\n",
    "              "
   ]
  },
  {
   "cell_type": "code",
   "execution_count": 61,
   "id": "7760d1a8",
   "metadata": {},
   "outputs": [
    {
     "data": {
      "text/plain": [
       "([1, 101, 201, 252, 879, 10001], 879)"
      ]
     },
     "execution_count": 61,
     "metadata": {},
     "output_type": "execute_result"
    }
   ],
   "source": [
    "list_2l(l)"
   ]
  },
  {
   "cell_type": "code",
   "execution_count": 85,
   "id": "52e94ef4",
   "metadata": {},
   "outputs": [],
   "source": []
  },
  {
   "cell_type": "markdown",
   "id": "eda4abaa",
   "metadata": {},
   "source": [
    "6.\tWrite a Python program to find N largest elements from a list?"
   ]
  },
  {
   "cell_type": "code",
   "execution_count": 93,
   "id": "5e6f22cf",
   "metadata": {},
   "outputs": [],
   "source": [
    "def n_large(a):\n",
    "    \"\"\"fun will return nth largest number\"\"\"\n",
    "    i=int(input('enter nth largest :'))\n",
    "    if type(a)==list:\n",
    "        a.sort()\n",
    "        a.reverse()\n",
    "        return(a[i-1],a)\n",
    "l=[1,102,302,202,404,505,50]"
   ]
  },
  {
   "cell_type": "code",
   "execution_count": 94,
   "id": "296fbf73",
   "metadata": {},
   "outputs": [
    {
     "name": "stdout",
     "output_type": "stream",
     "text": [
      "enter nth largest :5\n"
     ]
    },
    {
     "data": {
      "text/plain": [
       "(102, [505, 404, 302, 202, 102, 50, 1])"
      ]
     },
     "execution_count": 94,
     "metadata": {},
     "output_type": "execute_result"
    }
   ],
   "source": [
    "n_large(l)"
   ]
  },
  {
   "cell_type": "markdown",
   "id": "cafa0b34",
   "metadata": {},
   "source": [
    "7.\tWrite a Python program to print even numbers in a list?"
   ]
  },
  {
   "cell_type": "code",
   "execution_count": 102,
   "id": "4f52e344",
   "metadata": {},
   "outputs": [],
   "source": [
    "def list_even(a):\n",
    "    \"\"\"this will return even numbers inside list\"\"\"\n",
    "    if type(a)==list:\n",
    "        even=[]\n",
    "        for i in a:\n",
    "            if i%2==0:\n",
    "                even.append(i)\n",
    "        return even\n",
    "num=[1,102,302,202,404,505,50,13,2]"
   ]
  },
  {
   "cell_type": "code",
   "execution_count": 103,
   "id": "b5f35980",
   "metadata": {},
   "outputs": [
    {
     "data": {
      "text/plain": [
       "[102, 302, 202, 404, 50, 2]"
      ]
     },
     "execution_count": 103,
     "metadata": {},
     "output_type": "execute_result"
    }
   ],
   "source": [
    "list_even(num)"
   ]
  },
  {
   "cell_type": "markdown",
   "id": "1c90a220",
   "metadata": {},
   "source": [
    "8.\tWrite a Python program to print odd numbers in a List?"
   ]
  },
  {
   "cell_type": "code",
   "execution_count": 104,
   "id": "9145afb8",
   "metadata": {},
   "outputs": [],
   "source": [
    "def list_odd(a):\n",
    "    \"\"\"this will return even numbers inside list\"\"\"\n",
    "    if type(a)==list:\n",
    "        odd=[]\n",
    "        for i in a:\n",
    "            if i%2==1:\n",
    "                odd.append(i)\n",
    "        return odd\n",
    "num=[1,102,302,202,404,505,50,13,2]"
   ]
  },
  {
   "cell_type": "code",
   "execution_count": 105,
   "id": "a2783576",
   "metadata": {},
   "outputs": [
    {
     "data": {
      "text/plain": [
       "[1, 505, 13]"
      ]
     },
     "execution_count": 105,
     "metadata": {},
     "output_type": "execute_result"
    }
   ],
   "source": [
    "list_odd(num)"
   ]
  },
  {
   "cell_type": "markdown",
   "id": "050f8806",
   "metadata": {},
   "source": [
    "9.Write a Python Program to remove empty list from list ?\n"
   ]
  },
  {
   "cell_type": "code",
   "execution_count": 107,
   "id": "6bfb1e7f",
   "metadata": {},
   "outputs": [],
   "source": [
    "def checkEmptyList():\n",
    "    in_list = eval(input('Enter all elements of the list: '))\n",
    "    if [] in in_list:\n",
    "        print(f'There is an Empty list in {in_list} at Position {in_list.index([])}')\n",
    "        in_list.remove([])\n",
    "        print(f'The List after removing [] is {in_list}')\n",
    "    else:\n",
    "        print(f'There is no [] List in the list {in_list}')\n"
   ]
  },
  {
   "cell_type": "markdown",
   "id": "abd6cade",
   "metadata": {},
   "source": [
    "10.Write a Python Program to Cloning or Copying a list ?"
   ]
  },
  {
   "cell_type": "code",
   "execution_count": 109,
   "id": "9e21b0b7",
   "metadata": {},
   "outputs": [],
   "source": [
    "import copy\n",
    "\n",
    "def cloneList():\n",
    "    in_list = eval(input('Enter a list'))\n",
    "    print(in_list, id(in_list))\n",
    "    cloned_list = in_list.copy()\n",
    "    print(cloned_list, id(cloned_list))\n"
   ]
  },
  {
   "cell_type": "markdown",
   "id": "0481ac33",
   "metadata": {},
   "source": [
    "11.Write a Python Program to count occurences of an element in a list ?"
   ]
  },
  {
   "cell_type": "code",
   "execution_count": 110,
   "id": "81abcec1",
   "metadata": {},
   "outputs": [],
   "source": [
    "def checkOccurence():\n",
    "    in_list = eval(input('Enter the elements of the list: '))\n",
    "    in_num = eval(input('Enter the element to find: '))\n",
    "    count = 0\n",
    "    if in_num in in_list:\n",
    "        for ele in in_list:\n",
    "            if ele == in_num:\n",
    "                count = count+1\n",
    "    print(f'There are {count} occurences of {in_num} in {in_list}')"
   ]
  },
  {
   "cell_type": "code",
   "execution_count": null,
   "id": "10a6f3f5",
   "metadata": {},
   "outputs": [],
   "source": []
  }
 ],
 "metadata": {
  "kernelspec": {
   "display_name": "Python 3 (ipykernel)",
   "language": "python",
   "name": "python3"
  },
  "language_info": {
   "codemirror_mode": {
    "name": "ipython",
    "version": 3
   },
   "file_extension": ".py",
   "mimetype": "text/x-python",
   "name": "python",
   "nbconvert_exporter": "python",
   "pygments_lexer": "ipython3",
   "version": "3.9.7"
  }
 },
 "nbformat": 4,
 "nbformat_minor": 5
}
