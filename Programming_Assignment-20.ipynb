{
 "cells": [
  {
   "cell_type": "markdown",
   "id": "bf2072f7",
   "metadata": {},
   "source": [
    "1.Create a function that takes a list of strings and integers, and filters out the list so that it returns a list of integers only.\n",
    "Examples:\n",
    "* filter_list([1, 2, 3, \"a\", \"b\", 4]) ➞ [1, 2, 3, 4]\n",
    "* filter_list([\"A\", 0, \"Edabit\", 1729, \"Python\", \"1729\"]) ➞ [0, 1729]\n",
    "* filter_list([\"Nothing\", \"here\"]) ➞ []"
   ]
  },
  {
   "cell_type": "code",
   "execution_count": 6,
   "id": "9a556b18",
   "metadata": {},
   "outputs": [],
   "source": [
    "class list_filt:\n",
    "    \"\"\"this will return list of int only\"\"\"\n",
    "    def __init__(self,a):\n",
    "        self.a = a\n",
    "    def filter_int(self):\n",
    "        l=[]\n",
    "        for i in self.a:\n",
    "            if type(i)==int:\n",
    "                l.append(i)\n",
    "        return l"
   ]
  },
  {
   "cell_type": "code",
   "execution_count": 7,
   "id": "3d8c3381",
   "metadata": {},
   "outputs": [],
   "source": [
    "a=list_filt([1, 2, 3, \"a\", \"b\", 4])"
   ]
  },
  {
   "cell_type": "code",
   "execution_count": 8,
   "id": "5e0a73e5",
   "metadata": {},
   "outputs": [
    {
     "data": {
      "text/plain": [
       "[1, 2, 3, 4]"
      ]
     },
     "execution_count": 8,
     "metadata": {},
     "output_type": "execute_result"
    }
   ],
   "source": [
    "a.filter_int()"
   ]
  },
  {
   "cell_type": "code",
   "execution_count": 10,
   "id": "d6388460",
   "metadata": {},
   "outputs": [],
   "source": [
    "a1=list_filt([\"A\", 0, \"Edabit\", 1729, \"Python\", \"1729\"])"
   ]
  },
  {
   "cell_type": "code",
   "execution_count": 11,
   "id": "9f0928b3",
   "metadata": {},
   "outputs": [
    {
     "data": {
      "text/plain": [
       "[0, 1729]"
      ]
     },
     "execution_count": 11,
     "metadata": {},
     "output_type": "execute_result"
    }
   ],
   "source": [
    "a1.filter_int()"
   ]
  },
  {
   "cell_type": "code",
   "execution_count": 12,
   "id": "d6cfca7f",
   "metadata": {},
   "outputs": [],
   "source": [
    "a2=list_filt([\"Nothing\", \"here\"])"
   ]
  },
  {
   "cell_type": "code",
   "execution_count": 13,
   "id": "666a0150",
   "metadata": {},
   "outputs": [
    {
     "data": {
      "text/plain": [
       "[]"
      ]
     },
     "execution_count": 13,
     "metadata": {},
     "output_type": "execute_result"
    }
   ],
   "source": [
    "a2.filter_int()"
   ]
  },
  {
   "cell_type": "markdown",
   "id": "e8ff942a",
   "metadata": {},
   "source": [
    "\n",
    "2.Given a list of numbers, create a function which returns the list but with each element's index in the list added to itself. This means you add 0 to the number at index 0, add 1 to the number at index 1, etc...\n",
    "Examples:\n",
    "* add_indexes([0, 0, 0, 0, 0]) ➞ [0, 1, 2, 3, 4]\n",
    "* add_indexes([1, 2, 3, 4, 5]) ➞ [1, 3, 5, 7, 9]\n",
    "* add_indexes([5, 4, 3, 2, 1]) ➞ [5, 5, 5, 5, 5]"
   ]
  },
  {
   "cell_type": "code",
   "execution_count": 27,
   "id": "069aa6c4",
   "metadata": {},
   "outputs": [],
   "source": [
    "class add_indx:\n",
    "    \"\"\"this will add index to list elements and return list\"\"\"\n",
    "    def __init__(self,a):\n",
    "        self.a=a\n",
    "    def add_index(self):\n",
    "        l2=[]\n",
    "        for i in range(len(self.a)):\n",
    "            l2.append(i+self.a[i])\n",
    "        return l2"
   ]
  },
  {
   "cell_type": "code",
   "execution_count": 28,
   "id": "5665f141",
   "metadata": {},
   "outputs": [],
   "source": [
    "a=add_indx([0,0,0,0,0])"
   ]
  },
  {
   "cell_type": "code",
   "execution_count": 29,
   "id": "7a083139",
   "metadata": {},
   "outputs": [
    {
     "data": {
      "text/plain": [
       "[0, 1, 2, 3, 4]"
      ]
     },
     "execution_count": 29,
     "metadata": {},
     "output_type": "execute_result"
    }
   ],
   "source": [
    "a.add_index()"
   ]
  },
  {
   "cell_type": "code",
   "execution_count": 31,
   "id": "7b229788",
   "metadata": {},
   "outputs": [],
   "source": [
    "a1=add_indx([1, 2, 3, 4, 5])"
   ]
  },
  {
   "cell_type": "code",
   "execution_count": 32,
   "id": "329365c8",
   "metadata": {},
   "outputs": [
    {
     "data": {
      "text/plain": [
       "[1, 3, 5, 7, 9]"
      ]
     },
     "execution_count": 32,
     "metadata": {},
     "output_type": "execute_result"
    }
   ],
   "source": [
    "a1.add_index()"
   ]
  },
  {
   "cell_type": "code",
   "execution_count": 33,
   "id": "177eb6b7",
   "metadata": {},
   "outputs": [],
   "source": [
    "a2=add_indx([5, 4, 3, 2, 1])"
   ]
  },
  {
   "cell_type": "code",
   "execution_count": 34,
   "id": "c6ee1c34",
   "metadata": {},
   "outputs": [
    {
     "data": {
      "text/plain": [
       "[5, 5, 5, 5, 5]"
      ]
     },
     "execution_count": 34,
     "metadata": {},
     "output_type": "execute_result"
    }
   ],
   "source": [
    "a2.add_index()"
   ]
  },
  {
   "cell_type": "markdown",
   "id": "c88d9d80",
   "metadata": {},
   "source": [
    "3.Create a function that takes the height and radius of a cone as arguments and returns the volume of the cone rounded to the nearest hundredth. See the resources tab for the formula.\n",
    "Examples:\n",
    "* cone_volume(3, 2) ➞ 12.57\n",
    "* cone_volume(15, 6) ➞ 565.49\n",
    "* cone_volume(18, 0) ➞ 0"
   ]
  },
  {
   "cell_type": "code",
   "execution_count": 35,
   "id": "45bc166d",
   "metadata": {},
   "outputs": [],
   "source": [
    "import math\n",
    "\n",
    "class area_cone:\n",
    "    \"\"\"this will return avolme of the cone\"\"\"\n",
    "    def __init__(self,height,radius):\n",
    "        self.height = height\n",
    "        self.radius = radius\n",
    "    def volume(self):\n",
    "        area = (math.pi)*(self.radius**2)*(self.height/3)\n",
    "        return area"
   ]
  },
  {
   "cell_type": "code",
   "execution_count": 36,
   "id": "40a815be",
   "metadata": {},
   "outputs": [],
   "source": [
    "c=area_cone(3,2)"
   ]
  },
  {
   "cell_type": "code",
   "execution_count": 37,
   "id": "95261803",
   "metadata": {},
   "outputs": [
    {
     "data": {
      "text/plain": [
       "12.566370614359172"
      ]
     },
     "execution_count": 37,
     "metadata": {},
     "output_type": "execute_result"
    }
   ],
   "source": [
    "c.volume()"
   ]
  },
  {
   "cell_type": "code",
   "execution_count": 38,
   "id": "81fddc50",
   "metadata": {},
   "outputs": [
    {
     "data": {
      "text/plain": [
       "565.4866776461628"
      ]
     },
     "execution_count": 38,
     "metadata": {},
     "output_type": "execute_result"
    }
   ],
   "source": [
    "c1=area_cone(15,6)\n",
    "c1.volume()"
   ]
  },
  {
   "cell_type": "code",
   "execution_count": 39,
   "id": "118b3b15",
   "metadata": {},
   "outputs": [
    {
     "data": {
      "text/plain": [
       "0.0"
      ]
     },
     "execution_count": 39,
     "metadata": {},
     "output_type": "execute_result"
    }
   ],
   "source": [
    "c2=area_cone(15,0)\n",
    "c2.volume()"
   ]
  },
  {
   "cell_type": "markdown",
   "id": "6a8f2272",
   "metadata": {},
   "source": [
    "4.This Triangular Number Sequence is generated from a pattern of dots that form a triangle.\n",
    "The first 5 numbers of the sequence, or dots, are: 1, 3, 6, 10, 15\n",
    "This means that the first triangle has just one dot, the second one has three dots, the third one has 6 dots and so on. Write a function that gives the number of dots with its corresponding triangle number of the sequence.\n",
    "\n",
    "* Examples:\n",
    "* triangle(1) ➞ 1\n",
    "* triangle(6) ➞ 21\n",
    "* triangle(215) ➞ 23220"
   ]
  },
  {
   "cell_type": "code",
   "execution_count": 41,
   "id": "710fd27e",
   "metadata": {},
   "outputs": [
    {
     "name": "stdout",
     "output_type": "stream",
     "text": [
      "Output ➞ 1\n",
      "Output ➞ 21\n",
      "Output ➞ 23220\n"
     ]
    }
   ],
   "source": [
    "def triangle(in_num):\n",
    "    print(f'Output ➞ {int((in_num)*((in_num+1)/2))}')\n",
    "\n",
    "triangle(1)\n",
    "triangle(6)\n",
    "triangle(215)"
   ]
  },
  {
   "cell_type": "markdown",
   "id": "fd3fc477",
   "metadata": {},
   "source": [
    "5.Create a function that takes a list of numbers between 1 and 10 (excluding one number) and returns the missing number.\n",
    "Examples:\n",
    "* missing_num([1, 2, 3, 4, 6, 7, 8, 9, 10]) ➞ 5\n",
    "* missing_num([7, 2, 3, 6, 5, 9, 1, 4, 8]) ➞ 10\n",
    "* missing_num([10, 5, 1, 2, 4, 6, 8, 3, 9]) ➞ 7"
   ]
  },
  {
   "cell_type": "code",
   "execution_count": 43,
   "id": "8d733f59",
   "metadata": {},
   "outputs": [
    {
     "name": "stdout",
     "output_type": "stream",
     "text": [
      "[1, 2, 3, 4, 6, 7, 8, 9, 10] ➞ 5\n",
      "[7, 2, 3, 6, 5, 9, 1, 4, 8] ➞ 10\n",
      "[10, 5, 1, 2, 4, 6, 8, 3, 9] ➞ 7\n"
     ]
    }
   ],
   "source": [
    "def missing_num(in_list):\n",
    "    for i in range(1,11):\n",
    "        if i not in in_list:\n",
    "            print(f'{in_list} ➞ {i}')\n",
    "\n",
    "missing_num([1, 2, 3, 4, 6, 7, 8, 9, 10])\n",
    "missing_num([7, 2, 3, 6, 5, 9, 1, 4, 8])\n",
    "missing_num([10, 5, 1, 2, 4, 6, 8, 3, 9])"
   ]
  },
  {
   "cell_type": "code",
   "execution_count": null,
   "id": "ba85037f",
   "metadata": {},
   "outputs": [],
   "source": []
  }
 ],
 "metadata": {
  "kernelspec": {
   "display_name": "Python 3 (ipykernel)",
   "language": "python",
   "name": "python3"
  },
  "language_info": {
   "codemirror_mode": {
    "name": "ipython",
    "version": 3
   },
   "file_extension": ".py",
   "mimetype": "text/x-python",
   "name": "python",
   "nbconvert_exporter": "python",
   "pygments_lexer": "ipython3",
   "version": "3.9.7"
  }
 },
 "nbformat": 4,
 "nbformat_minor": 5
}
