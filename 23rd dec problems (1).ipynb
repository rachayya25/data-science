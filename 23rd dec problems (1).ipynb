{
 "cells": [
  {
   "cell_type": "code",
   "execution_count": null,
   "id": "ae8d727b",
   "metadata": {},
   "outputs": [],
   "source": [
    "# \"1 . you have to write a fun which will take string and return a len of it without using a inbuilt fun len\"\n",
    "\n",
    "import logging\n",
    "logging.basicConfig(filename= 'task.log', level = logging.DEBUG , format = '%(asctime)s %(levelname)s %(message)s')\n",
    "\n",
    "def test1():\n",
    "    \"\"\" This function will count number of charters inside a string\"\"\"\n",
    "    logging.info('function has been called')\n",
    "    try:\n",
    "        a= input()\n",
    "        logging.info('given data : %s ', a)\n",
    "        count = 0\n",
    "        for i in a:\n",
    "            count += 1\n",
    "        logging.info('executed succefully')\n",
    "        return count\n",
    "    except exception as e :\n",
    "        logging.error('error ocured')\n",
    "        logging.exception('exception ocured' +str (e))\n",
    "        return e"
   ]
  },
  {
   "cell_type": "code",
   "execution_count": null,
   "id": "863110fc",
   "metadata": {},
   "outputs": [],
   "source": [
    "test1()"
   ]
  },
  {
   "cell_type": "code",
   "execution_count": null,
   "id": "50b8d110",
   "metadata": {},
   "outputs": [],
   "source": [
    "# 2 . write a fun which will be able to print an index of all premitive element which you will pass \n",
    "\n",
    "def test2():\n",
    "    \"\"\"will return index of all yhe elements\"\"\"\n",
    "    logging.info('function has been called')\n",
    "    try:\n",
    "        a= input()\n",
    "        logging.info('given data %s', a)\n",
    "        d = {}\n",
    "        for i in range(len(a)):\n",
    "            d[i] = a[i]\n",
    "        logging.info('function has executed succefully')\n",
    "        return d\n",
    "    except exception as e:\n",
    "        logging.error('error ocured')\n",
    "        logging.exception('exception ocured'+str(e))\n",
    "        return e"
   ]
  },
  {
   "cell_type": "code",
   "execution_count": null,
   "id": "4a2f80a4",
   "metadata": {},
   "outputs": [],
   "source": [
    "test2()"
   ]
  },
  {
   "cell_type": "code",
   "execution_count": null,
   "id": "72e77afe",
   "metadata": {},
   "outputs": [],
   "source": [
    "# 2 . write a fun which will be able to print an index of all premitive element which you will pass \n",
    "\n",
    "def test21(a):\n",
    "    \"\"\"will return index of all yhe elements\"\"\"\n",
    "    logging.info('function has been called')\n",
    "    try:\n",
    "        logging.info('given data %s', a)\n",
    "        d = {}\n",
    "        for i in range(len(a)):\n",
    "            d[i] = a[i]\n",
    "        logging.info('function has executed succefully')\n",
    "        return d\n",
    "    except exception as e:\n",
    "        logging.error('error ocured')\n",
    "        logging.exception('exception ocured'+str(e))\n",
    "        return e\n",
    "            \n",
    "        "
   ]
  },
  {
   "cell_type": "code",
   "execution_count": null,
   "id": "ef7ef7d4",
   "metadata": {},
   "outputs": [],
   "source": [
    "b = (1,2,3,'asd','aswq')"
   ]
  },
  {
   "cell_type": "code",
   "execution_count": null,
   "id": "013e1e0e",
   "metadata": {},
   "outputs": [],
   "source": [
    "test21(b)"
   ]
  },
  {
   "cell_type": "code",
   "execution_count": null,
   "id": "59d37ed6",
   "metadata": {},
   "outputs": [],
   "source": [
    "#3 . Write a fun which will take input as a dict and give me out as a list of all the values \n",
    "# even in case of 2 level nesting it should work .\n",
    "\n",
    "def test3(a) :\n",
    "    \"\"\"will take input as dict and return list of values \"\"\"\n",
    "    logging.info('function called')\n",
    "    try:\n",
    "        logging.info('given data %s',a)\n",
    "        if type(a) == dict :\n",
    "            l = []\n",
    "            for i , j in a.items():\n",
    "                if type(j)==dict:\n",
    "                    continue\n",
    "                l.append(j)\n",
    "            else:\n",
    "                for i , j in a.items():\n",
    "                    if type(j) == dict:\n",
    "                        for m,n in j.items():\n",
    "                            l.append(n)\n",
    "            logging.info('unwraped nested dict')                \n",
    "            return l   \n",
    "    except Exception as e :\n",
    "        logging.error('error ocured')\n",
    "        logging.exception('exception ocured' +str(e))\n",
    "        return e\n",
    "            "
   ]
  },
  {
   "cell_type": "code",
   "execution_count": null,
   "id": "7beefaf7",
   "metadata": {},
   "outputs": [],
   "source": [
    "s = {'a' : 123, 'b' : 200, 'c': 'akhil', 'd' : {'a': 14, 'q' : 100}, 'w':{'a' : 'qwerty', 'r' : 'india'}, 'x':{'u' : 'qwerty', 'v' : 'india'}}"
   ]
  },
  {
   "cell_type": "code",
   "execution_count": null,
   "id": "58614691",
   "metadata": {},
   "outputs": [],
   "source": [
    "test3(s)"
   ]
  },
  {
   "cell_type": "code",
   "execution_count": null,
   "id": "69a58dc4",
   "metadata": {},
   "outputs": [],
   "source": [
    "# 4 . write a fun which will take another function as an input and return me an output\n",
    "def test3(a) :\n",
    "    \"\"\"will take input as dict and return list of values \"\"\"\n",
    "    logging.info('function called')\n",
    "    try:\n",
    "        logging.info('given data %s',a)\n",
    "        if type(a) == dict :\n",
    "            l = []\n",
    "            for i , j in a.items():\n",
    "                if type(j)==dict:\n",
    "                    continue\n",
    "                l.append(j)\n",
    "            else:\n",
    "                for i , j in a.items():\n",
    "                    if type(j) == dict:\n",
    "                        for m,n in j.items():\n",
    "                            l.append(n)\n",
    "            logging.info('unwraped nested dict')                \n",
    "            return l   \n",
    "    except Exception as e :\n",
    "        logging.error('error ocured')\n",
    "        logging.exception('exception ocured' +str(e))\n",
    "        return e\n",
    "def test4(a):\n",
    "    \"\"\"will take another function as input\"\"\"\n",
    "    logging.info('function has been called')\n",
    "    try:\n",
    "        c = {}\n",
    "        for i in range(len(a)):\n",
    "            c[i] = a[i]\n",
    "        logging.info('executed successfully')\n",
    "        return c\n",
    "    except Exception as e:\n",
    "        logging.error('error occured')\n",
    "        logging.exception('exception occured')\n",
    "        return e\n",
    "            \n",
    "            \n",
    "            "
   ]
  },
  {
   "cell_type": "code",
   "execution_count": null,
   "id": "e7ccaeb2",
   "metadata": {},
   "outputs": [],
   "source": [
    "test4(test3(s))"
   ]
  },
  {
   "cell_type": "code",
   "execution_count": null,
   "id": "257aaf62",
   "metadata": {},
   "outputs": [],
   "source": [
    "# 5. write a function whihc will take multiple list as a input and give me concatnation of all the element as and output \n",
    "import logging\n",
    "logging.basicConfig(filename= 'task.log', level = logging.DEBUG, format= '%(asctime)s %(levelname)s %(message)s')\n",
    "def test5(*args):\n",
    "    \"\"\"function will take 'n' number of lists and return one list\"\"\"\n",
    "    logging.info('function has been called')        \n",
    "    try:\n",
    "        logging.info('given data %s', args)\n",
    "        l=[]\n",
    "        for i in args:\n",
    "            if type(i)!= list:\n",
    "                raise ValueError('You have not passed list', args)\n",
    "            if type(i) == list:\n",
    "                l.extend(i)\n",
    "        logging.info('executed successfully')\n",
    "        return l\n",
    "    except Exception as e:\n",
    "        logging.error('error occured')\n",
    "        logging.exception('exception occured' + str(e))\n",
    "        return e\n"
   ]
  },
  {
   "cell_type": "code",
   "execution_count": null,
   "id": "9ea0299b",
   "metadata": {},
   "outputs": [],
   "source": [
    "test5([1,2,3,4],[1,2,3,4,8],['akhil', 'asd', 'abhi'])"
   ]
  },
  {
   "cell_type": "code",
   "execution_count": null,
   "id": "3ac94ee2",
   "metadata": {},
   "outputs": [],
   "source": [
    "test5(123,141,123,456,147)"
   ]
  },
  {
   "cell_type": "code",
   "execution_count": null,
   "id": "a885331b",
   "metadata": {},
   "outputs": [],
   "source": [
    "#6 . write a function which will be able to take a list as an input return an index of each element \n",
    "#like a inbuilt index function but even if we have repetative element it should return index\n",
    "\n",
    "def test6(a):\n",
    "    logging.info('function has been called')\n",
    "    try:\n",
    "        logging.info('given data %s', a)\n",
    "        if type(a) != list:\n",
    "            raise ValueError('you have not passed list')\n",
    "        if type(a)== list :\n",
    "            c ={}\n",
    "            for i in range(len(a)):\n",
    "                c[i] = a[i]\n",
    "            logging.info('executed successfully')\n",
    "            return c\n",
    "    except Exception as ee:\n",
    "        logging.error('error occured')\n",
    "        logging.exception('exception occured')\n",
    "        return ee\n"
   ]
  },
  {
   "cell_type": "code",
   "execution_count": null,
   "id": "e4687ff2",
   "metadata": {},
   "outputs": [],
   "source": [
    "test6(['akhil', 'asd', 'abhi'])"
   ]
  },
  {
   "cell_type": "code",
   "execution_count": null,
   "id": "e3c8de9e",
   "metadata": {},
   "outputs": [],
   "source": [
    "# 7 . Write a function which will whould return list of all the file name from a directory .\n",
    "def test7(a):\n",
    "    \"\"\"this fun will list all the files inside a directory\"\"\"\n",
    "    logging.info('function has been called akhil')\n",
    "    try:\n",
    "        logging.info('given data %s',a)\n",
    "        import os\n",
    "        return os.listdir(a)\n",
    "        logging.info('executed successfully')\n",
    "    except Exception as e:\n",
    "        logging.error('error ocured')\n",
    "        logging.exception('exception occured' +str(e))\n",
    "        return e"
   ]
  },
  {
   "cell_type": "code",
   "execution_count": null,
   "id": "9cf122e9",
   "metadata": {},
   "outputs": [],
   "source": [
    "test7('C:\\\\Users\\\\akhil\\\\New folder (2)')"
   ]
  },
  {
   "cell_type": "code",
   "execution_count": null,
   "id": "dd7cf0fb",
   "metadata": {},
   "outputs": [],
   "source": [
    "# 8  . write a function which will be able to show your system configuration .\n",
    "def test8():\n",
    "    \"\"\"this will eturn system configaration\"\"\"\n",
    "    logging.info('function has been called')\n",
    "    try:\n",
    "        import platform as pl\n",
    "        return pl.uname()\n",
    "        logging.info('executed fully')\n",
    "    except Exception as r :\n",
    "        logging.error('error occured')\n",
    "        logging.exception('exception occured' + str(r))\n",
    "        return r"
   ]
  },
  {
   "cell_type": "code",
   "execution_count": null,
   "id": "0ccbd954",
   "metadata": {},
   "outputs": [],
   "source": [
    "test8()"
   ]
  },
  {
   "cell_type": "code",
   "execution_count": null,
   "id": "135a8b82",
   "metadata": {},
   "outputs": [],
   "source": [
    "# 9 . write a function which will be able to show date and time  .\n",
    "import logging\n",
    "logging.basicConfig(filename = 'task.log', level = logging.DEBUG, format = '%(asctime)s %(levelname)s %(message)s')\n",
    "def test9():\n",
    "    \"\"\"This will return current date and time mm/dd/yy h/m/s format,\n",
    "    output of the funvtion is string\"\"\"\n",
    "    logging.info('function has been called')\n",
    "    try:\n",
    "        from datetime import datetime\n",
    "        now = datetime.now()\n",
    "        currenttime = now.strftime('%B/ %m /%Y %H : %M : %S')\n",
    "        b=currenttime\n",
    "        logging.info('function executed successfully')\n",
    "        return b\n",
    "    except Exception as e:\n",
    "        logging.error('error occured')\n",
    "        logging.exception('exception ocured' + str(e))\n",
    "        return e"
   ]
  },
  {
   "cell_type": "code",
   "execution_count": null,
   "id": "f8034977",
   "metadata": {},
   "outputs": [],
   "source": [
    "test9()"
   ]
  },
  {
   "cell_type": "code",
   "execution_count": null,
   "id": "57d146ef",
   "metadata": {},
   "outputs": [],
   "source": [
    "#10 . write a function whihc will be able to read a image file and show it to you .\n",
    "def test10():\n",
    "    logging.info('function has been called')\n",
    "    try:\n",
    "        import PIL\n",
    "        from PIL import Image\n",
    "        file = input()\n",
    "        logging.info('given data %s' , file)\n",
    "        picture = Image.open(file,'r')\n",
    "        logging.info('executed successfully')\n",
    "        return display(picture)\n",
    "    except Exception as e:\n",
    "        logging.error('error occured')\n",
    "        logging.exception('exception occured'+str(e))\n",
    "        return e"
   ]
  },
  {
   "cell_type": "code",
   "execution_count": null,
   "id": "7ef48459",
   "metadata": {},
   "outputs": [],
   "source": [
    "test10()"
   ]
  },
  {
   "cell_type": "code",
   "execution_count": null,
   "id": "36707611",
   "metadata": {},
   "outputs": [],
   "source": [
    "# 11 . write a function which can read video file and play for you . \n",
    "import numpy as np\n",
    "import cv2 as cv\n",
    "cap = cv.VideoCapture('101.mp4')\n",
    "while cap.isOpened():\n",
    "    ret, frame = cap.read()\n",
    "    # if frame is read correctly ret is True\n",
    "    if not ret:\n",
    "        print(\"Can't receive frame (stream end?). Exiting ...\")\n",
    "        break\n",
    "    gray = cv.cvtColor(frame, cv.COLOR_BGR2GRAY)\n",
    "    cv.imshow('frame', gray)\n",
    "    if cv.waitKey(50) == ord('q'):\n",
    "        break\n",
    "cap.release()\n",
    "cv.destroyAllWindows()"
   ]
  },
  {
   "cell_type": "code",
   "execution_count": null,
   "id": "1d742b13",
   "metadata": {},
   "outputs": [],
   "source": [
    "# 12  . write a function whihc can move a file from one directory to another directory .\n",
    "\n",
    "def test12():\n",
    "    \"\"\"this function will move files from one folder to another folder\"\"\"\n",
    "    logging.info('function has been called')\n",
    "    try:\n",
    "        import shutil\n",
    "        src_path = input('enter source file location')\n",
    "        dst_path = input('enter destination path')\n",
    "        shutil.move(src_path , dst_path)\n",
    "        logging.info('executed successfullly')\n",
    "    except Exception as e:\n",
    "        logging.error('error occured')\n",
    "        logging.exception('exception occured' + str(e))"
   ]
  },
  {
   "cell_type": "code",
   "execution_count": null,
   "id": "1185961d",
   "metadata": {},
   "outputs": [],
   "source": [
    "test12()"
   ]
  },
  {
   "cell_type": "code",
   "execution_count": null,
   "id": "c88b372c",
   "metadata": {},
   "outputs": [],
   "source": [
    "# 13 . write a function which will be able to shutdonw your system . \n",
    "def test13():\n",
    "    \"\"\"This code will shutdown system\"\"\"\n",
    "    logging.info('function has been callled')\n",
    "    try:\n",
    "        import os\n",
    "        shutdown = input('do you wish to shutdown your computer ? (yes / no) :')\n",
    "        if shutdown == 'no':\n",
    "            exit()\n",
    "            logging.info('shutdown cancelled')\n",
    "        else:\n",
    "            logging.info('shutdown ordered')\n",
    "            os.system('shutdown /s /t 10')\n",
    "    except Exception as e:\n",
    "        logging.error('error occured')\n",
    "        logging.exception('exception ocured' +str(e))"
   ]
  },
  {
   "cell_type": "code",
   "execution_count": null,
   "id": "6220b210",
   "metadata": {},
   "outputs": [],
   "source": [
    "#19 . write a function by which you can print an ip address of your system .   \n",
    "def test19():\n",
    "    \"\"\"this will print host name and ip address\"\"\"\n",
    "    logging.info('function callleed')\n",
    "    try:\n",
    "        import socket\n",
    "        hostname = socket.gethostname()\n",
    "        IPAddr = socket.gethostbyname(hostname)\n",
    "        a = str('your computer name is :'+ hostname)\n",
    "        b = str('your computer ip address is :' +IPAddr)\n",
    "        logging.info('executed successfully')\n",
    "        return a , b\n",
    "    except Exception as e :\n",
    "        logging.error('error occured')\n",
    "        logging.exception('exception occured' + str(e))\n",
    "        return e"
   ]
  },
  {
   "cell_type": "code",
   "execution_count": null,
   "id": "f7fcdd25",
   "metadata": {},
   "outputs": [],
   "source": [
    "test19()"
   ]
  },
  {
   "cell_type": "code",
   "execution_count": null,
   "id": "0ce48f77",
   "metadata": {},
   "outputs": [],
   "source": [
    "# 18 . write a function which can help you to filter only word file from a directory .\n",
    "def test18():\n",
    "    \"\"\"this function willl filetr all the word files in a give directory\"\"\"\n",
    "    try:\n",
    "        import os\n",
    "        source_location = input('file location:')\n",
    "        os.chdir(source_location)\n",
    "        logging.info('given data %s', source_location)\n",
    "        lst=[]\n",
    "        for i in os.listdir('.') :\n",
    "            if i.endswith('.word'):\n",
    "                lst.append(i)\n",
    "            logging.info('executed successfully')\n",
    "        return lst\n",
    "    except Exception as e:\n",
    "        logging.error('error occured')\n",
    "        logging.exception('exception occured' + str(e))\n",
    "        return e\n",
    " "
   ]
  },
  {
   "cell_type": "code",
   "execution_count": null,
   "id": "eab2dedb",
   "metadata": {},
   "outputs": [],
   "source": [
    "test18()"
   ]
  },
  {
   "cell_type": "code",
   "execution_count": null,
   "id": "2d0562b2",
   "metadata": {},
   "outputs": [],
   "source": [
    "#16. write a func to read a complete PDf file .\n",
    "def test16():\n",
    "    \"\"\"this function will read pdf\"\"\"\n",
    "    logging.info('function has been called')\n",
    "    try:\n",
    "        import PyPDF2 as pdf\n",
    "        from PyPDF2 import PdfFileReader\n",
    "        filename = input()\n",
    "        file = open(filename, 'rb')\n",
    "        read_pdf = pdf.PdfFileReader(file)\n",
    "        NumPages = read_pdf.getNumPages()\n",
    "        page_content = ' '\n",
    "        for i in range(0, NumPages):\n",
    "            page = read_pdf.getPage(i)\n",
    "            page_content +=(page.extractText())\n",
    "        return page_content\n",
    "        file.close()\n",
    "    except Exception as e :\n",
    "        print(e)"
   ]
  },
  {
   "cell_type": "code",
   "execution_count": null,
   "id": "47d9299e",
   "metadata": {},
   "outputs": [],
   "source": [
    "test16()"
   ]
  },
  {
   "cell_type": "code",
   "execution_count": null,
   "id": "ab91c2cb",
   "metadata": {},
   "outputs": [],
   "source": [
    "a"
   ]
  },
  {
   "cell_type": "code",
   "execution_count": null,
   "id": "e689c454",
   "metadata": {},
   "outputs": [],
   "source": [
    "       "
   ]
  },
  {
   "cell_type": "code",
   "execution_count": null,
   "id": "5bf55436",
   "metadata": {},
   "outputs": [],
   "source": [
    "NumPages"
   ]
  },
  {
   "cell_type": "code",
   "execution_count": null,
   "id": "670fa1ae",
   "metadata": {},
   "outputs": [],
   "source": []
  }
 ],
 "metadata": {
  "kernelspec": {
   "display_name": "Python 3",
   "language": "python",
   "name": "python3"
  },
  "language_info": {
   "codemirror_mode": {
    "name": "ipython",
    "version": 3
   },
   "file_extension": ".py",
   "mimetype": "text/x-python",
   "name": "python",
   "nbconvert_exporter": "python",
   "pygments_lexer": "ipython3",
   "version": "3.8.8"
  }
 },
 "nbformat": 4,
 "nbformat_minor": 5
}
