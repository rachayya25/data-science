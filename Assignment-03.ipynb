{
 "cells": [
  {
   "cell_type": "markdown",
   "id": "ce8353a7",
   "metadata": {},
   "source": [
    "## 1. Why are functions advantageous to have in your programs?\n",
    "\n",
    "* Answer:\n",
    "* functions make life of programmer easy, one can save the set of instructions inside function and can call when ever we need it, without writing the entire programme.\n",
    "* when one had developed solution for complex problem and it is not feasible to write the same programe again and again.\n",
    "     *in such situations functions are helpful"
   ]
  },
  {
   "cell_type": "markdown",
   "id": "30e53947",
   "metadata": {},
   "source": [
    "# 2. When does the code in a function run: when it's specified or when it's called?\n",
    "* Answer\n",
    "* when it is called"
   ]
  },
  {
   "cell_type": "markdown",
   "id": "091b1abf",
   "metadata": {},
   "source": [
    "# 3. What statement creates a function?\n",
    "* Answer\n",
    "* def statement creates function.\n",
    "* def is reserved keyword in pyhon\n",
    "* def stands for defination"
   ]
  },
  {
   "cell_type": "markdown",
   "id": "5fc7fdc4",
   "metadata": {},
   "source": [
    "# 4. What is the difference between a function and a function call?\n",
    "* Answer :\n",
    "* def statement creates function.\n",
    "* def is reserved keyword in pyhon\n",
    "* def stands for definationdef is \n",
    "* function is set of instruction/statement/expressions\n",
    "* Function Example :\n",
    "    * def test():\n",
    "         * pass\n",
    "        \n",
    " * we can call the above function as test():\n",
    "     * this is what we call calling a function \n",
    "     * when we call a function, we have to pass some data, function will  evaluate and gives return"
   ]
  },
  {
   "cell_type": "markdown",
   "id": "75250a71",
   "metadata": {},
   "source": [
    "# 5. How many global scopes are there in a Python program? How many local scopes?\n",
    "\n",
    "* there is only one global scope:\n",
    "* local scopes can be created when ever required"
   ]
  },
  {
   "cell_type": "markdown",
   "id": "110d4735",
   "metadata": {},
   "source": [
    "# 6. What happens to variables in a local scope when the function call returns?\n",
    "* Answer:\n",
    "\n",
    "* all variable data will be erased once function returns value. and function will take fresh entries"
   ]
  },
  {
   "cell_type": "markdown",
   "id": "39b68234",
   "metadata": {},
   "source": [
    "# 7. What is the concept of a return value? Is it possible to have a return value in an expression?\n",
    "\n",
    "* Answer:\n",
    "* concept of return value is to over come dis-adavantage of print function. \n",
    "* Since print statement gives None Type output. We can not use this output do any sort of work.\n",
    "* return statement gives output in consol"
   ]
  },
  {
   "cell_type": "markdown",
   "id": "6a2ea1ff",
   "metadata": {},
   "source": [
    "# 8. If a function does not have a return statement, what is the return value of a call to that function?\n",
    "\n",
    "* Nothig will be shown in consol.\n",
    "* if we have used append or insert like functions,then we have to call that function"
   ]
  },
  {
   "cell_type": "markdown",
   "id": "49dd5bee",
   "metadata": {},
   "source": [
    "# 9. How do you make a function variable refer to the global variable?\n",
    "* Local variable is a variable that is defined in a function and global variable is a variable that is defined outside any function or class i.e. in global space. Global variable is accessible in any function and local variable has scope only in the function it is defined."
   ]
  },
  {
   "cell_type": "markdown",
   "id": "97832d85",
   "metadata": {},
   "source": [
    "# 10. What is the data type of None?\n",
    "* none Type\n"
   ]
  },
  {
   "cell_type": "code",
   "execution_count": 3,
   "id": "6371f6d0",
   "metadata": {},
   "outputs": [
    {
     "name": "stdout",
     "output_type": "stream",
     "text": [
      "asdfg\n"
     ]
    },
    {
     "data": {
      "text/plain": [
       "NoneType"
      ]
     },
     "execution_count": 3,
     "metadata": {},
     "output_type": "execute_result"
    }
   ],
   "source": [
    "type(print('asdfg'))"
   ]
  },
  {
   "cell_type": "code",
   "execution_count": 4,
   "id": "2d6d2781",
   "metadata": {},
   "outputs": [
    {
     "ename": "ModuleNotFoundError",
     "evalue": "No module named 'areallyourpetsnamederic'",
     "output_type": "error",
     "traceback": [
      "\u001b[1;31m---------------------------------------------------------------------------\u001b[0m",
      "\u001b[1;31mModuleNotFoundError\u001b[0m                       Traceback (most recent call last)",
      "\u001b[1;32m<ipython-input-4-b1ea9cb2228f>\u001b[0m in \u001b[0;36m<module>\u001b[1;34m\u001b[0m\n\u001b[1;32m----> 1\u001b[1;33m \u001b[1;32mimport\u001b[0m \u001b[0mareallyourpetsnamederic\u001b[0m\u001b[1;33m\u001b[0m\u001b[1;33m\u001b[0m\u001b[0m\n\u001b[0m",
      "\u001b[1;31mModuleNotFoundError\u001b[0m: No module named 'areallyourpetsnamederic'"
     ]
    }
   ],
   "source": [
    "import areallyourpetsnamederic"
   ]
  },
  {
   "cell_type": "markdown",
   "id": "532b96dc",
   "metadata": {},
   "source": [
    "# 11. What does the sentence import areallyourpetsnamederic do?\n",
    "\n",
    "* That import statement imports a module named areallyourpetsnamederic"
   ]
  },
  {
   "cell_type": "markdown",
   "id": "f1d67e43",
   "metadata": {},
   "source": [
    "# 12. If you had a bacon() feature in a spam module, what would you call it after importing spam?\n",
    "\n",
    "* import spam\n",
    "* calling a function inside spam module\n",
    "* spam.bacon()"
   ]
  },
  {
   "cell_type": "markdown",
   "id": "deeb625f",
   "metadata": {},
   "source": [
    "# 13. What can you do to save a programme from crashing if it encounters an error?\n",
    "\n",
    "* writing programe inside a try and else block help protecting programme from crashing"
   ]
  },
  {
   "cell_type": "markdown",
   "id": "e7fd9d75",
   "metadata": {},
   "source": [
    "# 14. What is the purpose of the try clause? What is the purpose of the except clause?\n",
    "\n",
    "* if in any circumstances if try block fails to excute the piece of code inside it, in that case except block will be called."
   ]
  },
  {
   "cell_type": "code",
   "execution_count": null,
   "id": "b12e54b1",
   "metadata": {},
   "outputs": [],
   "source": []
  }
 ],
 "metadata": {
  "kernelspec": {
   "display_name": "Python 3",
   "language": "python",
   "name": "python3"
  },
  "language_info": {
   "codemirror_mode": {
    "name": "ipython",
    "version": 3
   },
   "file_extension": ".py",
   "mimetype": "text/x-python",
   "name": "python",
   "nbconvert_exporter": "python",
   "pygments_lexer": "ipython3",
   "version": "3.8.8"
  },
  "widgets": {
   "application/vnd.jupyter.widget-state+json": {
    "state": {},
    "version_major": 2,
    "version_minor": 0
   }
  }
 },
 "nbformat": 4,
 "nbformat_minor": 5
}
