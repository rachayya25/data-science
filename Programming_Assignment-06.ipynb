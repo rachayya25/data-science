{
 "cells": [
  {
   "cell_type": "markdown",
   "id": "cb06d991",
   "metadata": {},
   "source": [
    "1 Write a Python Program to Display Fibonacci Sequence Using Recursion?"
   ]
  },
  {
   "cell_type": "code",
   "execution_count": 1,
   "id": "d28c131c",
   "metadata": {},
   "outputs": [
    {
     "name": "stdout",
     "output_type": "stream",
     "text": [
      "Fib sequency\n",
      "0\n",
      "1\n",
      "1\n",
      "2\n",
      "3\n",
      "5\n",
      "8\n",
      "13\n",
      "21\n",
      "34\n"
     ]
    }
   ],
   "source": [
    "def recur_Fib(x):\n",
    "    \n",
    "    \"\"\"Fib seq in recursion\"\"\"\n",
    "    if x <=1:\n",
    "        return x\n",
    "    else :\n",
    "        return(recur_Fib(x-1)+recur_Fib(x-2))\n",
    "n=10\n",
    "\n",
    "if n <=0:\n",
    "    print('enter positive number')\n",
    "else :\n",
    "    print('Fib sequency')\n",
    "    for i in range(n):\n",
    "        print(recur_Fib(i))\n",
    "    "
   ]
  },
  {
   "cell_type": "markdown",
   "id": "91d80715",
   "metadata": {},
   "source": [
    "2.\tWrite a Python Program to Find Factorial of Number Using Recursion?"
   ]
  },
  {
   "cell_type": "code",
   "execution_count": 2,
   "id": "9e3fcf3d",
   "metadata": {},
   "outputs": [],
   "source": [
    "def factrl(x):\n",
    "    \"\"\"this will return factorial\"\"\"\n",
    "    if x==1:\n",
    "        return 1\n",
    "    else:\n",
    "        return(x*factrl(x-1))\n",
    "    "
   ]
  },
  {
   "cell_type": "code",
   "execution_count": 3,
   "id": "b418019c",
   "metadata": {},
   "outputs": [
    {
     "data": {
      "text/plain": [
       "6"
      ]
     },
     "execution_count": 3,
     "metadata": {},
     "output_type": "execute_result"
    }
   ],
   "source": [
    "factrl(3)"
   ]
  },
  {
   "cell_type": "markdown",
   "id": "354a7039",
   "metadata": {},
   "source": [
    "3.\tWrite a Python Program to calculate your Body Mass Index?"
   ]
  },
  {
   "cell_type": "code",
   "execution_count": 4,
   "id": "6dd2a962",
   "metadata": {},
   "outputs": [],
   "source": [
    "def BMI():\n",
    "    weight= float(input('enter you weight in kgs:'))\n",
    "    height = float(input('enter your height in mts'))\n",
    "    bmi=weight/(height**2)\n",
    "    \n",
    "    if (bmi < 18.5) :\n",
    "        return('underweight')\n",
    "    elif (bmi >=18.5 and bmi < 24.9):\n",
    "        return('healthy')\n",
    "    elif (bmi >= 24.9 and bmi < 30):\n",
    "        return('overweight')\n",
    "    elif (bmi >=30):\n",
    "        return('obbesity')"
   ]
  },
  {
   "cell_type": "code",
   "execution_count": 5,
   "id": "ae340d89",
   "metadata": {},
   "outputs": [
    {
     "name": "stdout",
     "output_type": "stream",
     "text": [
      "enter you weight in kgs:70\n",
      "enter your height in mts1.85\n"
     ]
    },
    {
     "data": {
      "text/plain": [
       "'healthy'"
      ]
     },
     "execution_count": 5,
     "metadata": {},
     "output_type": "execute_result"
    }
   ],
   "source": [
    "BMI()"
   ]
  },
  {
   "cell_type": "markdown",
   "id": "8577c28a",
   "metadata": {},
   "source": [
    "4.\tWrite a Python Program to calculate the natural logarithm of any number?"
   ]
  },
  {
   "cell_type": "code",
   "execution_count": 8,
   "id": "e4c6e5f1",
   "metadata": {},
   "outputs": [
    {
     "name": "stdout",
     "output_type": "stream",
     "text": [
      "Enter a Number:10.5\n",
      "2.3513752571634776\n"
     ]
    }
   ],
   "source": [
    "import math\n",
    "def genNatLog():\n",
    "    in_num = float(input(\"Enter a Number:\"))\n",
    "    print(math.log(in_num))\n",
    "\n",
    "genNatLog()"
   ]
  },
  {
   "cell_type": "markdown",
   "id": "a37c09a8",
   "metadata": {},
   "source": [
    "5.\tWrite a Python Program for cube sum of first n natural numbers?"
   ]
  },
  {
   "cell_type": "code",
   "execution_count": 9,
   "id": "fb1655ec",
   "metadata": {},
   "outputs": [
    {
     "name": "stdout",
     "output_type": "stream",
     "text": [
      "Enter the no of Natural Numbers: 10\n",
      "The Cube Sum of First 10 Natural Numbers is 3025.0\n"
     ]
    }
   ],
   "source": [
    "def cubeOfNaturalNumbers():\n",
    "    in_num = int(input(\"Enter the no of Natural Numbers: \"))\n",
    "    result = pow(((in_num * (in_num +1))/2),2)\n",
    "    print(f'The Cube Sum of First {in_num} Natural Numbers is {result}')\n",
    "\n",
    "cubeOfNaturalNumbers()"
   ]
  },
  {
   "cell_type": "code",
   "execution_count": null,
   "id": "7fb3d5fe",
   "metadata": {},
   "outputs": [],
   "source": []
  }
 ],
 "metadata": {
  "kernelspec": {
   "display_name": "Python 3 (ipykernel)",
   "language": "python",
   "name": "python3"
  },
  "language_info": {
   "codemirror_mode": {
    "name": "ipython",
    "version": 3
   },
   "file_extension": ".py",
   "mimetype": "text/x-python",
   "name": "python",
   "nbconvert_exporter": "python",
   "pygments_lexer": "ipython3",
   "version": "3.9.7"
  }
 },
 "nbformat": 4,
 "nbformat_minor": 5
}
