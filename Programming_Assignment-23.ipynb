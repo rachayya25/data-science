{
 "cells": [
  {
   "cell_type": "markdown",
   "id": "152dea7b",
   "metadata": {},
   "source": [
    "\n",
    "1.Create a function that takes a number as an argument and returns True or False depending on whether the number is symmetrical or not. A number is symmetrical when it is the same as its reverse.\n",
    "\n",
    "* Examples:\n",
    "* is_symmetrical(7227) ➞ True\n",
    "* is_symmetrical(12567) ➞ False\n",
    "* is_symmetrical(44444444) ➞ True\n",
    "* is_symmetrical(9939) ➞ False\n",
    "* is_symmetrical(1112111) ➞ True"
   ]
  },
  {
   "cell_type": "code",
   "execution_count": 1,
   "id": "b160bfa9",
   "metadata": {},
   "outputs": [
    {
     "name": "stdout",
     "output_type": "stream",
     "text": [
      "7227 ➞ True\n",
      "12567 ➞ False\n",
      "44444444 ➞ True\n",
      "9939 ➞ False\n",
      "1112111 ➞ True\n"
     ]
    }
   ],
   "source": [
    "def is_symmetrical(in_num):\n",
    "    if str(in_num) == str(in_num)[::-1]:\n",
    "        print(f'{in_num} ➞ {True}')\n",
    "    else:\n",
    "        print(f'{in_num} ➞ {False}')\n",
    "\n",
    "is_symmetrical(7227)\n",
    "is_symmetrical(12567)\n",
    "is_symmetrical(44444444)\n",
    "is_symmetrical(9939)\n",
    "is_symmetrical(1112111)"
   ]
  },
  {
   "cell_type": "markdown",
   "id": "47bfdf9a",
   "metadata": {},
   "source": [
    "2.Given a string of numbers separated by a comma and space, return the product of the numbers.\n",
    "* Examples:\n",
    "* multiply_nums(\"2, 3\") ➞ 6\n",
    "* multiply_nums(\"1, 2, 3, 4\") ➞ 24\n",
    "* multiply_nums(\"54, 75, 453, 0\") ➞ 0\n",
    "* multiply_nums(\"10, -2\") ➞ -20"
   ]
  },
  {
   "cell_type": "code",
   "execution_count": 20,
   "id": "482ae743",
   "metadata": {},
   "outputs": [],
   "source": [
    "def mult(input_strng):\n",
    "    som=1\n",
    "    out_string =input_strng.split(',')\n",
    "    for i in out_string :\n",
    "        som*=int(i)\n",
    "    return som"
   ]
  },
  {
   "cell_type": "code",
   "execution_count": 22,
   "id": "1d17704d",
   "metadata": {},
   "outputs": [
    {
     "data": {
      "text/plain": [
       "6"
      ]
     },
     "execution_count": 22,
     "metadata": {},
     "output_type": "execute_result"
    }
   ],
   "source": [
    "mult('2,3')"
   ]
  },
  {
   "cell_type": "code",
   "execution_count": 25,
   "id": "6492ad5b",
   "metadata": {},
   "outputs": [
    {
     "data": {
      "text/plain": [
       "24"
      ]
     },
     "execution_count": 25,
     "metadata": {},
     "output_type": "execute_result"
    }
   ],
   "source": [
    "mult(\"1, 2, 3, 4\")\n"
   ]
  },
  {
   "cell_type": "code",
   "execution_count": 26,
   "id": "e6600101",
   "metadata": {},
   "outputs": [
    {
     "data": {
      "text/plain": [
       "0"
      ]
     },
     "execution_count": 26,
     "metadata": {},
     "output_type": "execute_result"
    }
   ],
   "source": [
    "mult('54, 75, 453, 0')"
   ]
  },
  {
   "cell_type": "code",
   "execution_count": 27,
   "id": "3a3ef64a",
   "metadata": {},
   "outputs": [
    {
     "data": {
      "text/plain": [
       "-20"
      ]
     },
     "execution_count": 27,
     "metadata": {},
     "output_type": "execute_result"
    }
   ],
   "source": [
    "mult('10,-2')"
   ]
  },
  {
   "cell_type": "markdown",
   "id": "8e5c979d",
   "metadata": {},
   "source": [
    "3.Create a function that squares every digit of a number.\n",
    "* Examples:\n",
    "* square_digits(9119) ➞ 811181\n",
    "* square_digits(2483) ➞ 416649\n",
    "* square_digits(3212) ➞ 9414\n",
    "\n",
    "* Notes:\n",
    "* The function receives an integer and must return an integer."
   ]
  },
  {
   "cell_type": "code",
   "execution_count": 28,
   "id": "1a628809",
   "metadata": {},
   "outputs": [
    {
     "name": "stdout",
     "output_type": "stream",
     "text": [
      "9119 ➞ 811181\n",
      "2483 ➞ 416649\n",
      "3212 ➞ 9414\n"
     ]
    }
   ],
   "source": [
    "def square_digits(in_num):\n",
    "    in_list = [str(int(ele)**2) for ele in str(in_num)]\n",
    "    out_list = ''.join(in_list)\n",
    "    print(f'{in_num} ➞ {int(out_list)}')\n",
    "\n",
    "square_digits(9119)\n",
    "square_digits(2483)\n",
    "square_digits(3212)"
   ]
  },
  {
   "cell_type": "markdown",
   "id": "3838f08d",
   "metadata": {},
   "source": [
    "5.Create a function that returns the mean of all digits.\n",
    "Examples:\n",
    "mean(42) ➞ 3\n",
    "mean(12345) ➞ 3\n",
    "mean(666) ➞ 6\n",
    "\n",
    "Notes:\n",
    "1.The mean of all digits is the sum of digits / how many digits there are (e.g. mean of digits in 512 is (5+1+2)/3(number of digits) = 8/3=2).\n",
    "2.The mean will always be an integer."
   ]
  },
  {
   "cell_type": "code",
   "execution_count": 29,
   "id": "a24e62cd",
   "metadata": {},
   "outputs": [
    {
     "name": "stdout",
     "output_type": "stream",
     "text": [
      "Mean of 42  ➞ 3\n",
      "Mean of 12345  ➞ 3\n",
      "Mean of 666  ➞ 6\n"
     ]
    }
   ],
   "source": [
    "def mean(in_num):\n",
    "    in_list = [int(ele) for ele in str(in_num)]\n",
    "    out_num = sum(in_list)/len(str(in_num))\n",
    "    print(f'Mean of {in_num}  ➞ {out_num:.0f}')\n",
    "    \n",
    "mean(42)\n",
    "mean(12345)\n",
    "mean(666)"
   ]
  },
  {
   "cell_type": "code",
   "execution_count": null,
   "id": "64b27374",
   "metadata": {},
   "outputs": [],
   "source": []
  }
 ],
 "metadata": {
  "kernelspec": {
   "display_name": "Python 3 (ipykernel)",
   "language": "python",
   "name": "python3"
  },
  "language_info": {
   "codemirror_mode": {
    "name": "ipython",
    "version": 3
   },
   "file_extension": ".py",
   "mimetype": "text/x-python",
   "name": "python",
   "nbconvert_exporter": "python",
   "pygments_lexer": "ipython3",
   "version": "3.9.7"
  }
 },
 "nbformat": 4,
 "nbformat_minor": 5
}
