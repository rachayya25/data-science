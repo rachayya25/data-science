{
 "cells": [
  {
   "cell_type": "code",
   "execution_count": 1,
   "id": "41e54132",
   "metadata": {},
   "outputs": [
    {
     "data": {
      "text/plain": [
       "'>>> def func(a, b=6, c=8):\\nprint(a, b, c)\\n>>> func(1, 2)'"
      ]
     },
     "execution_count": 1,
     "metadata": {},
     "output_type": "execute_result"
    }
   ],
   "source": [
    "#1. What is the result of the code, and why?\n",
    "\"\"\">>> def func(a, b=6, c=8):\n",
    "print(a, b, c)\n",
    ">>> func(1, 2)\"\"\"\n"
   ]
  },
  {
   "cell_type": "code",
   "execution_count": 2,
   "id": "458c657f",
   "metadata": {},
   "outputs": [
    {
     "name": "stdout",
     "output_type": "stream",
     "text": [
      "1 2 8\n"
     ]
    }
   ],
   "source": [
    "def func(a, b=6,c=8):\n",
    "    print(a, b, c)\n",
    "func(1, 2)"
   ]
  },
  {
   "cell_type": "markdown",
   "id": "5b002a65",
   "metadata": {},
   "source": [
    "The result of the above code is 1 2 8. its because the function uses the default value of c ie 8 which is provided at the time of declaration"
   ]
  },
  {
   "cell_type": "code",
   "execution_count": 4,
   "id": "197013fb",
   "metadata": {},
   "outputs": [
    {
     "data": {
      "text/plain": [
       "'>>> def func(a, b, c=5):\\nprint(a, b, c)\\n>>> func(1, c=3, b=2'"
      ]
     },
     "execution_count": 4,
     "metadata": {},
     "output_type": "execute_result"
    }
   ],
   "source": [
    "#2. What is the result of this code, and why?\n",
    "\"\"\">>> def func(a, b, c=5):\n",
    "print(a, b, c)\n",
    ">>> func(1, c=3, b=2\"\"\""
   ]
  },
  {
   "cell_type": "code",
   "execution_count": 5,
   "id": "06b747d0",
   "metadata": {},
   "outputs": [
    {
     "name": "stdout",
     "output_type": "stream",
     "text": [
      "1 2 3\n"
     ]
    }
   ],
   "source": [
    "def func(a, b, c=5):\n",
    "    print(a, b, c)\n",
    "func(1, c=3, b=2)"
   ]
  },
  {
   "cell_type": "markdown",
   "id": "6c174563",
   "metadata": {},
   "source": [
    "\"\"'since we are assigning value to c as 5,this will be used when c value is given.\"\" \n",
    "\"if value is given while calling the function, default value will not be used'"
   ]
  },
  {
   "cell_type": "code",
   "execution_count": 10,
   "id": "7bb1e315",
   "metadata": {},
   "outputs": [
    {
     "data": {
      "text/plain": [
       "'>>> def func(a, *pargs):\\nprint(a, pargs)\\n>>> func(1, 2, 3)'"
      ]
     },
     "execution_count": 10,
     "metadata": {},
     "output_type": "execute_result"
    }
   ],
   "source": [
    "#3. How about this code: what is its result, and why?\n",
    "\"\"\">>> def func(a, *pargs):\n",
    "print(a, pargs)\n",
    ">>> func(1, 2, 3)\"\"\""
   ]
  },
  {
   "cell_type": "code",
   "execution_count": 11,
   "id": "776644dd",
   "metadata": {},
   "outputs": [
    {
     "name": "stdout",
     "output_type": "stream",
     "text": [
      "1 (2, 3)\n"
     ]
    }
   ],
   "source": [
    "def func(a, *pargs):\n",
    "    print(a, pargs)\n",
    "func(1, 2, 3)"
   ]
  },
  {
   "cell_type": "markdown",
   "id": "6bc94003",
   "metadata": {},
   "source": [
    "'the value 1 will be assigned to the variable a, while 2,3 will be considered unde arguments, which in terms returns as tuples '"
   ]
  },
  {
   "cell_type": "code",
   "execution_count": 13,
   "id": "35679b9a",
   "metadata": {},
   "outputs": [
    {
     "name": "stdout",
     "output_type": "stream",
     "text": [
      "Object `why` not found.\n",
      "1 {'c': 3, 'b': 2}\n"
     ]
    }
   ],
   "source": [
    "#4. What does this code print, and why?\n",
    "\"\"\"def func(a, **kargs):\n",
    "    print(a, kargs)\n",
    "func(a=1, c=3, b=2)\"\"\""
   ]
  },
  {
   "cell_type": "code",
   "execution_count": 14,
   "id": "9746487c",
   "metadata": {},
   "outputs": [
    {
     "name": "stdout",
     "output_type": "stream",
     "text": [
      "1 {'c': 3, 'b': 2}\n"
     ]
    }
   ],
   "source": [
    "def func(a, **kargs):\n",
    "    print(a, kargs)\n",
    "func(a=1, c=3, b=2)"
   ]
  },
  {
   "cell_type": "markdown",
   "id": "69920517",
   "metadata": {},
   "source": [
    "value a will be assigned with 1, while next arguments will be considered as keyword arguments, values need to be passed in terms as key and value.the output of the function is disctory"
   ]
  },
  {
   "cell_type": "code",
   "execution_count": 17,
   "id": "71bfffaa",
   "metadata": {},
   "outputs": [
    {
     "data": {
      "text/plain": [
       "'def func(a, b, c=8, d=5): print(a, b, c, d)\\nfunc(1, *(5, 6))'"
      ]
     },
     "execution_count": 17,
     "metadata": {},
     "output_type": "execute_result"
    }
   ],
   "source": [
    "#5. What gets printed by this, and explain?\n",
    "'''def func(a, b, c=8, d=5): print(a, b, c, d)\n",
    "func(1, *(5, 6))'''"
   ]
  },
  {
   "cell_type": "code",
   "execution_count": 18,
   "id": "4a13ad94",
   "metadata": {},
   "outputs": [
    {
     "name": "stdout",
     "output_type": "stream",
     "text": [
      "1 5 6 5\n"
     ]
    }
   ],
   "source": [
    "def func(a, b, c=8, d=5): print(a, b, c, d)\n",
    "func(1, *(5, 6))"
   ]
  },
  {
   "cell_type": "markdown",
   "id": "67c12b7f",
   "metadata": {},
   "source": [
    "the function expects 4 arguments, while calling the function 1 will be assigned to a,\n",
    "*(5,6) will be assigned b and c, value of d is decalared as 5, \n",
    "hence func is returning 1,5,6,5"
   ]
  },
  {
   "cell_type": "code",
   "execution_count": 21,
   "id": "9b285cdd",
   "metadata": {},
   "outputs": [
    {
     "data": {
      "text/plain": [
       "\">>> def func(a, b, c): a = 2; b[0] = 'x'; c['a'] = 'y'\\n>>> l=1; m=[1]; n={'a':0}\\n>>> func(l, m, n)\\n>>> l, m, n\""
      ]
     },
     "execution_count": 21,
     "metadata": {},
     "output_type": "execute_result"
    }
   ],
   "source": [
    "#6. what is the result of this, and explain?\n",
    "\"\"\">>> def func(a, b, c): a = 2; b[0] = 'x'; c['a'] = 'y'\n",
    ">>> l=1; m=[1]; n={'a':0}\n",
    ">>> func(l, m, n)\n",
    ">>> l, m, n\"\"\""
   ]
  },
  {
   "cell_type": "code",
   "execution_count": 20,
   "id": "eb9de19c",
   "metadata": {},
   "outputs": [
    {
     "data": {
      "text/plain": [
       "(1, ['x'], {'a': 'y'})"
      ]
     },
     "execution_count": 20,
     "metadata": {},
     "output_type": "execute_result"
    }
   ],
   "source": [
    "\n",
    "def func(a, b, c): a = 2; b[0] = 'x'; c['a'] = 'y'\n",
    "l=1; m=[1]; n={'a':0}\n",
    "func(l, m, n)\n",
    "l, m, n"
   ]
  },
  {
   "cell_type": "code",
   "execution_count": null,
   "id": "7b271d80",
   "metadata": {},
   "outputs": [],
   "source": []
  }
 ],
 "metadata": {
  "kernelspec": {
   "display_name": "Python 3 (ipykernel)",
   "language": "python",
   "name": "python3"
  },
  "language_info": {
   "codemirror_mode": {
    "name": "ipython",
    "version": 3
   },
   "file_extension": ".py",
   "mimetype": "text/x-python",
   "name": "python",
   "nbconvert_exporter": "python",
   "pygments_lexer": "ipython3",
   "version": "3.9.7"
  }
 },
 "nbformat": 4,
 "nbformat_minor": 5
}
