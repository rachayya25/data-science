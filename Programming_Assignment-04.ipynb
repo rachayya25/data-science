{
 "cells": [
  {
   "cell_type": "markdown",
   "id": "486f0a5e",
   "metadata": {},
   "source": [
    "\n",
    "\n",
    "6.\tWrite a Python Program to Find the Sum of Natural Numbers?\n"
   ]
  },
  {
   "cell_type": "markdown",
   "id": "b7c0a838",
   "metadata": {},
   "source": [
    "1.\tWrite a Python Program to Find the Factorial of a Number?"
   ]
  },
  {
   "cell_type": "code",
   "execution_count": 14,
   "id": "62fd153a",
   "metadata": {},
   "outputs": [],
   "source": [
    "def factorial1(a):\n",
    "    \"\"\"this will return factorial of number \"\"\"\n",
    "    if a ==0:\n",
    "        return 1\n",
    "    else:\n",
    "        return a*factorial1(a-1)"
   ]
  },
  {
   "cell_type": "code",
   "execution_count": 15,
   "id": "c9302dbc",
   "metadata": {},
   "outputs": [
    {
     "data": {
      "text/plain": [
       "3628800"
      ]
     },
     "execution_count": 15,
     "metadata": {},
     "output_type": "execute_result"
    }
   ],
   "source": [
    "factorial1(10)"
   ]
  },
  {
   "cell_type": "markdown",
   "id": "44aaa1ff",
   "metadata": {},
   "source": [
    "2.\tWrite a Python Program to Display the multiplication Table?"
   ]
  },
  {
   "cell_type": "code",
   "execution_count": 24,
   "id": "9de03e95",
   "metadata": {},
   "outputs": [],
   "source": [
    "def gen_table():\n",
    "    \"\"\"this will return tanle\"\"\"\n",
    "    a= int(input('number to be multipiled:'))\n",
    "    b=int(input('number of times to be multiplied:'))\n",
    "    for b in range(a,b+1):\n",
    "        print(f'{a} X {b} ={a*b}')"
   ]
  },
  {
   "cell_type": "code",
   "execution_count": 25,
   "id": "1a0f2458",
   "metadata": {},
   "outputs": [
    {
     "name": "stdout",
     "output_type": "stream",
     "text": [
      "number to be multipiled:2\n",
      "number of times to be multiplied:10\n",
      "2 X 2 =4\n",
      "2 X 3 =6\n",
      "2 X 4 =8\n",
      "2 X 5 =10\n",
      "2 X 6 =12\n",
      "2 X 7 =14\n",
      "2 X 8 =16\n",
      "2 X 9 =18\n",
      "2 X 10 =20\n"
     ]
    }
   ],
   "source": [
    "gen_table()"
   ]
  },
  {
   "cell_type": "markdown",
   "id": "c795a724",
   "metadata": {},
   "source": [
    "3.\tWrite a Python Program to Print the Fibonacci sequence?"
   ]
  },
  {
   "cell_type": "code",
   "execution_count": 40,
   "id": "8e36fe29",
   "metadata": {},
   "outputs": [],
   "source": [
    "def fib():\n",
    "    \"\"\"this will return fib series\"\"\"\n",
    "    a=int(input())\n",
    "    for b in range(0,a):\n",
    "        a, b = b + a, \n",
    "        print(b)"
   ]
  },
  {
   "cell_type": "code",
   "execution_count": 41,
   "id": "ed5ee159",
   "metadata": {},
   "outputs": [
    {
     "name": "stdout",
     "output_type": "stream",
     "text": [
      "10\n",
      "0\n",
      "1\n",
      "2\n",
      "3\n",
      "4\n",
      "5\n",
      "6\n",
      "7\n",
      "8\n",
      "9\n"
     ]
    }
   ],
   "source": [
    "fib()"
   ]
  },
  {
   "cell_type": "code",
   "execution_count": 52,
   "id": "888ecda4",
   "metadata": {},
   "outputs": [],
   "source": [
    "def test3():\n",
    "    num = int(input('Enter number of terms: '))\n",
    "    a, b = 0, 1\n",
    "    i = 0\n",
    "    print('The Fibonacci series: ')\n",
    "    while i < num:\n",
    "        print(a, end=' ')\n",
    "        c = a + b\n",
    "        a = b\n",
    "        b = c\n",
    "        i = i+1"
   ]
  },
  {
   "cell_type": "code",
   "execution_count": 53,
   "id": "9ae65934",
   "metadata": {},
   "outputs": [
    {
     "name": "stdout",
     "output_type": "stream",
     "text": [
      "Enter number of terms: 10\n",
      "The Fibonacci series: \n",
      "0 1 1 2 3 5 8 13 21 34 "
     ]
    }
   ],
   "source": [
    "test3()"
   ]
  },
  {
   "cell_type": "markdown",
   "id": "90daec02",
   "metadata": {},
   "source": [
    "4.\tWrite a Python Program to Check Armstrong Number?"
   ]
  },
  {
   "cell_type": "code",
   "execution_count": 54,
   "id": "aef508fd",
   "metadata": {},
   "outputs": [
    {
     "name": "stdout",
     "output_type": "stream",
     "text": [
      "Enter a number: 10\n",
      "10 is a Not Armstrong Number\n",
      "Enter a number: 11\n",
      "11 is a Not Armstrong Number\n"
     ]
    }
   ],
   "source": [
    "def checkArmstrongNumber():\n",
    "    in_num = input('Enter a number: ')\n",
    "    sum = 0\n",
    "    for char in range(len(in_num)):\n",
    "        sum = sum + pow(int(in_num[char]),3)\n",
    "    if sum == int(in_num):\n",
    "        print(f'{in_num} is a Armstrong Number')\n",
    "    else:\n",
    "        print(f'{in_num} is a Not Armstrong Number')\n",
    "\n",
    "for x in range(2):\n",
    "    checkArmstrongNumber()"
   ]
  },
  {
   "cell_type": "markdown",
   "id": "dfd5cea6",
   "metadata": {},
   "source": [
    "5.\tWrite a Python Program to Find Armstrong Number in an Interval?"
   ]
  },
  {
   "cell_type": "code",
   "execution_count": 55,
   "id": "30c89089",
   "metadata": {},
   "outputs": [
    {
     "name": "stdout",
     "output_type": "stream",
     "text": [
      "Enter the Start of the Interval: 153\n",
      "Enter the End of the Interval: 153\n",
      "The Armstrong numbers between 153 and 153 are [153]\n"
     ]
    }
   ],
   "source": [
    "def checkArmstrongNumber(in_num, storage):\n",
    "    sum = 0\n",
    "    for char in range(len(in_num)):\n",
    "        sum = sum + pow(int(in_num[char]),3)\n",
    "    if sum == int(in_num):\n",
    "        storage.append(int(in_num))\n",
    "\n",
    "start_interval = int(input('Enter the Start of the Interval: '))\n",
    "end_interval = int(input('Enter the End of the Interval: '))\n",
    "list_of_armstrong = []\n",
    "\n",
    "if start_interval > end_interval:\n",
    "    print(\"Start Interval Cannot be Greater than End Interval\")\n",
    "else:\n",
    "    for number in range(start_interval,end_interval+1):\n",
    "        checkArmstrongNumber(str(number),list_of_armstrong)\n",
    "    print(f'The Armstrong numbers between {start_interval} and {end_interval} are {list_of_armstrong}')\n"
   ]
  },
  {
   "cell_type": "markdown",
   "id": "e8799974",
   "metadata": {},
   "source": [
    "6.Write a Python Program to sum of natural numbers ?"
   ]
  },
  {
   "cell_type": "code",
   "execution_count": 56,
   "id": "83663a59",
   "metadata": {},
   "outputs": [
    {
     "name": "stdout",
     "output_type": "stream",
     "text": [
      "Enter a number: 10\n",
      "Sum of 10 natural numbers is 55.0\n"
     ]
    }
   ],
   "source": [
    "def sumOfNaturalNumbers(num):\n",
    "    sum = num*((num+1)/2)\n",
    "    print(f'Sum of {num} natural numbers is {sum}')\n",
    "    \n",
    "num = int(input('Enter a number: '))\n",
    "sumOfNaturalNumbers(num)"
   ]
  },
  {
   "cell_type": "code",
   "execution_count": null,
   "id": "485ef2ed",
   "metadata": {},
   "outputs": [],
   "source": []
  }
 ],
 "metadata": {
  "kernelspec": {
   "display_name": "Python 3 (ipykernel)",
   "language": "python",
   "name": "python3"
  },
  "language_info": {
   "codemirror_mode": {
    "name": "ipython",
    "version": 3
   },
   "file_extension": ".py",
   "mimetype": "text/x-python",
   "name": "python",
   "nbconvert_exporter": "python",
   "pygments_lexer": "ipython3",
   "version": "3.9.7"
  }
 },
 "nbformat": 4,
 "nbformat_minor": 5
}
