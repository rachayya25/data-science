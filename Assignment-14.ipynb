{
 "cells": [
  {
   "cell_type": "markdown",
   "id": "7e36f422",
   "metadata": {},
   "source": [
    "1. What does RGBA stand for?\n",
    "* RGBA value is a group of numbers that specify the amount of red, green, blue, and alpha (or transparency) in a color. Each of these component values is an integer from 0 (none at all) to 255 (the maximum)."
   ]
  },
  {
   "cell_type": "markdown",
   "id": "31058638",
   "metadata": {},
   "source": [
    "2. From the Pillow module, how do you get the RGBA value of any images?\n",
    "* Pillow offers the ImageColor.getcolor() function so you don’t have to memorize RGBA values for the colors you want to use. This function takes a color name string as its first argument, and the string 'RGBA' as its second argument, and it returns an RGBA tuple."
   ]
  },
  {
   "cell_type": "markdown",
   "id": "84ff062e",
   "metadata": {},
   "source": [
    "3. What is a box tuple, and how does it work?\n",
    "\n",
    "* box tuple is a argument which takes four integer coordinates that represent a rectangular region in an image. The four integers are, in order, as follows:\n",
    "* Left: The x-coordinate of the leftmost edge of the box.\n",
    "\n",
    "* Top: The y-coordinate of the top edge of the box.\n",
    "\n",
    "* Right: The x-coordinate of one pixel to the right of the rightmost edge of the box. This integer must be greater than the left integer.\n",
    "\n",
    "* Bottom: The y-coordinate of one pixel lower than the bottom edge of the box. This integer must be greater than the top integer."
   ]
  },
  {
   "cell_type": "markdown",
   "id": "ea535c80",
   "metadata": {},
   "source": [
    "4. Use your image and load in notebook then, How can you find out the width and height of an Image object?"
   ]
  },
  {
   "cell_type": "code",
   "execution_count": 1,
   "id": "7c003cdb",
   "metadata": {},
   "outputs": [],
   "source": [
    "from PIL import Image\n",
    "image= Image.open('IMG_0838.JPG')\n",
    "image.size"
   ]
  },
  {
   "cell_type": "markdown",
   "id": "fbe8ed0e",
   "metadata": {},
   "source": [
    "5. What method would you call to get Image object for a 100×100 image, excluding the lower-left quarter of it?\n",
    "* imageObj.crop((0, 50, 50, 50)). Notice that you are passing a box tuple to crop()"
   ]
  },
  {
   "cell_type": "markdown",
   "id": "de89e3de",
   "metadata": {},
   "source": [
    "6. After making changes to an Image object, how could you save it as an image file?\n",
    "* Call the imageObj.save('new_filename.png') method of the Image object."
   ]
  },
  {
   "cell_type": "markdown",
   "id": "3f652c68",
   "metadata": {},
   "source": [
    "7. What module contains Pillow’s shape-drawing code?\n",
    "* The 'ImageDraw' module provides simple 2D graphics support for Image Object. "
   ]
  },
  {
   "cell_type": "markdown",
   "id": "0aa9d1a8",
   "metadata": {},
   "source": [
    "8. Image objects do not have drawing methods. What kind of object does? How do you get this kind of object?\n",
    "*ImageDraw objects have shape-drawing methods such as point(), line(), or rectangle(). They are returned by passing the Image object to the ImageDraw.Draw() function.\n"
   ]
  },
  {
   "cell_type": "code",
   "execution_count": null,
   "id": "0a731d4b",
   "metadata": {},
   "outputs": [],
   "source": []
  }
 ],
 "metadata": {
  "kernelspec": {
   "display_name": "Python 3 (ipykernel)",
   "language": "python",
   "name": "python3"
  },
  "language_info": {
   "codemirror_mode": {
    "name": "ipython",
    "version": 3
   },
   "file_extension": ".py",
   "mimetype": "text/x-python",
   "name": "python",
   "nbconvert_exporter": "python",
   "pygments_lexer": "ipython3",
   "version": "3.9.7"
  }
 },
 "nbformat": 4,
 "nbformat_minor": 5
}
