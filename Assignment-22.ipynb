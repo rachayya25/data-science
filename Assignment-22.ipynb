{
 "cells": [
  {
   "cell_type": "markdown",
   "id": "f8ae54b4",
   "metadata": {},
   "source": [
    "#1. What is the result of the code, and explain?"
   ]
  },
  {
   "cell_type": "code",
   "execution_count": 24,
   "id": "ed132eef",
   "metadata": {},
   "outputs": [
    {
     "data": {
      "text/plain": [
       "\">>> X = 'iNeuron'\\ndef func():\\nprint(X)\\nfunc()\""
      ]
     },
     "execution_count": 24,
     "metadata": {},
     "output_type": "execute_result"
    }
   ],
   "source": [
    "'''>>> X = 'iNeuron'\n",
    ">>> def func():\n",
    "print(X)\n",
    ">>> func()'''"
   ]
  },
  {
   "cell_type": "code",
   "execution_count": 1,
   "id": "29e8e70d",
   "metadata": {},
   "outputs": [
    {
     "name": "stdout",
     "output_type": "stream",
     "text": [
      "iNeuron\n"
     ]
    }
   ],
   "source": [
    "X = 'iNeuron'\n",
    "def func():\n",
    "    print(X)\n",
    "func()"
   ]
  },
  {
   "cell_type": "markdown",
   "id": "f687782d",
   "metadata": {},
   "source": [
    "since there s no loacal variable avaliable inside the function, function is going call global variable"
   ]
  },
  {
   "cell_type": "code",
   "execution_count": 25,
   "id": "7af9ad2b",
   "metadata": {},
   "outputs": [
    {
     "data": {
      "text/plain": [
       "\">>> X = 'iNeuron'\\n>>> def func():\\nX = 'NI!'\\n>>> func()\\n>>> print(X)\""
      ]
     },
     "execution_count": 25,
     "metadata": {},
     "output_type": "execute_result"
    }
   ],
   "source": [
    "#2. What is the result of the code, and explain?\n",
    "'''>>> X = 'iNeuron'\n",
    ">>> def func():\n",
    "X = 'NI!'\n",
    ">>> func()\n",
    ">>> print(X)'''"
   ]
  },
  {
   "cell_type": "code",
   "execution_count": 10,
   "id": "4473160d",
   "metadata": {},
   "outputs": [
    {
     "name": "stdout",
     "output_type": "stream",
     "text": [
      "NI!\n"
     ]
    }
   ],
   "source": [
    "X = 'iNeuron'\n",
    "def func():\n",
    "    X = 'NI!'\n",
    "    print(X)\n",
    "func()\n"
   ]
  },
  {
   "cell_type": "markdown",
   "id": "11101da5",
   "metadata": {},
   "source": [
    "X=NI! is avaliable inside the function func, on calling the function func NI! will print\n"
   ]
  },
  {
   "cell_type": "code",
   "execution_count": 26,
   "id": "651f5f67",
   "metadata": {},
   "outputs": [
    {
     "data": {
      "text/plain": [
       "\">>> X = 'iNeuron'\\n>>> def func():\\nX = 'NI'\\nprint(X)\\n>>> func()\\n>>> print(X)\""
      ]
     },
     "execution_count": 26,
     "metadata": {},
     "output_type": "execute_result"
    }
   ],
   "source": [
    "#3. What does this code print, and why?\n",
    "'''>>> X = 'iNeuron'\n",
    ">>> def func():\n",
    "X = 'NI'\n",
    "print(X)\n",
    ">>> func()\n",
    ">>> print(X)'''"
   ]
  },
  {
   "cell_type": "code",
   "execution_count": 11,
   "id": "d188d985",
   "metadata": {},
   "outputs": [
    {
     "name": "stdout",
     "output_type": "stream",
     "text": [
      "NI\n",
      "iNeuron\n"
     ]
    }
   ],
   "source": [
    "X = 'iNeuron'\n",
    "def func():\n",
    "    X = 'NI'\n",
    "    print(X)\n",
    "func()\n",
    "print(X)"
   ]
  },
  {
   "cell_type": "markdown",
   "id": "9e6bfe92",
   "metadata": {},
   "source": [
    "X=NI! is avaliable inside the function func, on calling the function func NI! will print\n",
    "\n",
    "X=ineuron is a global variable, on calling print(X), will print ineuron"
   ]
  },
  {
   "cell_type": "code",
   "execution_count": 27,
   "id": "3306675c",
   "metadata": {},
   "outputs": [
    {
     "data": {
      "text/plain": [
       "\">>> X = 'iNeuron'\\n>>> def func():\\nglobal X\\nX = 'NI'\\n>>> func()\\n>>> print(X)\""
      ]
     },
     "execution_count": 27,
     "metadata": {},
     "output_type": "execute_result"
    }
   ],
   "source": [
    "#4. What output does this code produce? Why?\n",
    "'''>>> X = 'iNeuron'\n",
    ">>> def func():\n",
    "global X\n",
    "X = 'NI'\n",
    ">>> func()\n",
    ">>> print(X)'''"
   ]
  },
  {
   "cell_type": "code",
   "execution_count": 13,
   "id": "67b90e1b",
   "metadata": {},
   "outputs": [
    {
     "name": "stdout",
     "output_type": "stream",
     "text": [
      "NI\n"
     ]
    }
   ],
   "source": [
    "X = 'iNeuron'\n",
    "def func():\n",
    "    global X\n",
    "    X = 'NI'\n",
    "func()\n",
    "print(X)"
   ]
  },
  {
   "cell_type": "markdown",
   "id": "4828a996",
   "metadata": {},
   "source": [
    "The output of the code is NI. the global keyword allows a variable to be accessible in the current scope. since we are using global keyword inside the function func it directly access the variable in X in global scope. and changes its value to NI. hence the output of the code is NI"
   ]
  },
  {
   "cell_type": "code",
   "execution_count": 28,
   "id": "fe19511c",
   "metadata": {},
   "outputs": [
    {
     "data": {
      "text/plain": [
       "\">>> X = 'iNeuron'\\n>>> def func():\\nX = 'NI'\\ndef nested():\\nprint(X)\\nnested()\\n>>> func()\\n>>> X\""
      ]
     },
     "execution_count": 28,
     "metadata": {},
     "output_type": "execute_result"
    }
   ],
   "source": [
    "#5. What about this code—what’s the output, and why?\n",
    "'''>>> X = 'iNeuron'\n",
    ">>> def func():\n",
    "X = 'NI'\n",
    "def nested():\n",
    "print(X)\n",
    "nested()\n",
    ">>> func()\n",
    ">>> X'''"
   ]
  },
  {
   "cell_type": "code",
   "execution_count": 17,
   "id": "3145fac2",
   "metadata": {},
   "outputs": [
    {
     "name": "stdout",
     "output_type": "stream",
     "text": [
      "iNeuron\n"
     ]
    },
    {
     "data": {
      "text/plain": [
       "'iNeuron'"
      ]
     },
     "execution_count": 17,
     "metadata": {},
     "output_type": "execute_result"
    }
   ],
   "source": [
    "X = 'iNeuron'\n",
    "def func():\n",
    "    X = 'NI'\n",
    "def nested():\n",
    "    print(X)\n",
    "nested()\n",
    "func()\n",
    "X"
   ]
  },
  {
   "cell_type": "markdown",
   "id": "4acb43e7",
   "metadata": {},
   "source": [
    "nested( function will print ineuron, since x is a global variable)\n",
    "\n",
    "func- will return nothing\n",
    "\n",
    "X is going to print string ineuron"
   ]
  },
  {
   "cell_type": "code",
   "execution_count": 29,
   "id": "289353b2",
   "metadata": {},
   "outputs": [
    {
     "data": {
      "text/plain": [
       "\">>> def func():\\nX = 'NI'\\ndef nested():\\nnonlocal X\\nX = 'Spam'\\nnested()\\nprint(X)\\n>>> func()\""
      ]
     },
     "execution_count": 29,
     "metadata": {},
     "output_type": "execute_result"
    }
   ],
   "source": [
    "#6. How about this code: what is its output in Python 3, and explain?\n",
    "'''>>> def func():\n",
    "X = 'NI'\n",
    "def nested():\n",
    "nonlocal X\n",
    "X = 'Spam'\n",
    "nested()\n",
    "print(X)\n",
    ">>> func()'''"
   ]
  },
  {
   "cell_type": "code",
   "execution_count": 22,
   "id": "137f803c",
   "metadata": {},
   "outputs": [
    {
     "name": "stdout",
     "output_type": "stream",
     "text": [
      "Spam\n"
     ]
    }
   ],
   "source": [
    "def func():\n",
    "    X = 'NI'\n",
    "    def nested():\n",
    "        nonlocal X\n",
    "        X = 'Spam'\n",
    "    nested()\n",
    "    print(X)\n",
    "func()\n"
   ]
  },
  {
   "cell_type": "markdown",
   "id": "96182401",
   "metadata": {},
   "source": [
    "he output of the code is Spam. nonlocal keyword in python is used to declare a variable as not local.Hence the statement X = \"Spam\" is modified in the global scope. hence the output of print(X) statement is Spam"
   ]
  },
  {
   "cell_type": "code",
   "execution_count": null,
   "id": "8290caa6",
   "metadata": {},
   "outputs": [],
   "source": []
  }
 ],
 "metadata": {
  "kernelspec": {
   "display_name": "Python 3 (ipykernel)",
   "language": "python",
   "name": "python3"
  },
  "language_info": {
   "codemirror_mode": {
    "name": "ipython",
    "version": 3
   },
   "file_extension": ".py",
   "mimetype": "text/x-python",
   "name": "python",
   "nbconvert_exporter": "python",
   "pygments_lexer": "ipython3",
   "version": "3.9.7"
  }
 },
 "nbformat": 4,
 "nbformat_minor": 5
}
