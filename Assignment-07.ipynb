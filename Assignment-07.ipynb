{
 "cells": [
  {
   "cell_type": "markdown",
   "id": "18a3b2ff",
   "metadata": {},
   "source": [
    "#1. What is the name of the feature responsible for generating Regex objects?\n",
    "* The re.compile() function returns Regex objects."
   ]
  },
  {
   "cell_type": "markdown",
   "id": "1a61cd88",
   "metadata": {},
   "source": [
    "#2. Why do raw strings often appear in Regex objects?\n",
    "* Raw strings are used so that backslashes do not have to be escaped."
   ]
  },
  {
   "cell_type": "code",
   "execution_count": 7,
   "id": "1a634c2c",
   "metadata": {},
   "outputs": [],
   "source": [
    "a = \"my name is\\takhil\""
   ]
  },
  {
   "cell_type": "code",
   "execution_count": 8,
   "id": "82021d6e",
   "metadata": {},
   "outputs": [
    {
     "name": "stdout",
     "output_type": "stream",
     "text": [
      "my name is\takhil\n"
     ]
    }
   ],
   "source": [
    "print(a)"
   ]
  },
  {
   "cell_type": "code",
   "execution_count": 9,
   "id": "8abbea1d",
   "metadata": {},
   "outputs": [
    {
     "name": "stdout",
     "output_type": "stream",
     "text": [
      "my name is\\takhil\n"
     ]
    }
   ],
   "source": [
    "b = r\"my name is\\takhil\"\n",
    "print(b)"
   ]
  },
  {
   "cell_type": "markdown",
   "id": "764071a5",
   "metadata": {},
   "source": [
    "#3. What is the return value of the search() method?\n",
    "* will return matched objects of first occurance\n"
   ]
  },
  {
   "cell_type": "markdown",
   "id": "25e5234f",
   "metadata": {},
   "source": [
    "#4. From a Match item, how do you get the actual strings that match the pattern?\n",
    "\n",
    "* The group() method returns strings of the matched text."
   ]
  },
  {
   "cell_type": "markdown",
   "id": "846ecc76",
   "metadata": {},
   "source": [
    "#5. In the regex which created from the r'(\\d\\d\\d)-(\\d\\d\\d-\\d\\d\\d\\d)', what does group zero cover? Group 2? Group 1?"
   ]
  },
  {
   "cell_type": "raw",
   "id": "4495d1a9",
   "metadata": {},
   "source": [
    "#6. In standard expression syntax, parentheses and intervals have distinct meanings. How can you tell a regex that you want it to fit real parentheses and periods?\n",
    "\n",
    " Periods and parentheses can be escaped with a backslash: \\., \\(, and \\)."
   ]
  },
  {
   "cell_type": "markdown",
   "id": "fa9b5314",
   "metadata": {},
   "source": [
    "#7. The findall() method returns a string list or a list of string tuples. What causes it to return one of the two options?\n",
    "* If the regex has no groups, a list of strings is returned. If the regex has groups, a list of tuples of strings is returned"
   ]
  },
  {
   "cell_type": "markdown",
   "id": "a1039e19",
   "metadata": {},
   "source": [
    "#8.In standard expressions, what does the | character mean?\n",
    "* The | character signifies matching \"either, or\" between two groups."
   ]
  },
  {
   "cell_type": "markdown",
   "id": "9ec70c5b",
   "metadata": {},
   "source": [
    "#10.In regular expressions, what is the difference between the + and * characters?\n",
    "* The + matches one or more. The * matches zero or more."
   ]
  },
  {
   "cell_type": "markdown",
   "id": "0c701a3e",
   "metadata": {},
   "source": [
    "#11. What is the difference between {4} and {4,5} in regular expression?\n",
    "* The {4} matches exactly four instances of the preceding group. The {4,5} matches between four and five instances."
   ]
  },
  {
   "cell_type": "markdown",
   "id": "c30bcecc",
   "metadata": {},
   "source": [
    "#12. What do you mean by the \\d, \\w, and \\s shorthand character classes signify in regular expressions?\n",
    "* The \\d, \\w, and \\s shorthand character classes match a single digit, word, or space character, respectively."
   ]
  },
  {
   "cell_type": "markdown",
   "id": "b9877f34",
   "metadata": {},
   "source": [
    "#13.The \\d, \\w, and \\s shorthand character classes match a single digit, word, or space character, respectively.\n",
    "\n",
    "* The \\D, \\W, and \\S shorthand character classes match a single character that is not a digit, word, or space character, respectively"
   ]
  },
  {
   "cell_type": "markdown",
   "id": "0ed7b97c",
   "metadata": {},
   "source": [
    "#15. What is the syntax for matching both numbers and lowercase letters with a character class?\n",
    "* [a-zA-Z0-9_]"
   ]
  },
  {
   "cell_type": "markdown",
   "id": "8aaa4666",
   "metadata": {},
   "source": [
    "#17. What does the . character normally match? What does it match if re.DOTALL is passed as 2nd argument in re.compile()?\n",
    "* The . character normally matches any character except the newline character. If re.DOTALL is passed as the second argument to re.compile(), then the dot will also match newline characters."
   ]
  },
  {
   "cell_type": "markdown",
   "id": "291b3d16",
   "metadata": {},
   "source": [
    "#18. If numReg = re.compile(r'\\d+'), what will numRegex.sub('X', '11 drummers, 10 pipers, five rings, 4 hen') return?\n",
    "* X drummers, X pipers, five rings, X hens'"
   ]
  },
  {
   "cell_type": "markdown",
   "id": "4feaecba",
   "metadata": {},
   "source": [
    "#19. What does passing re.VERBOSE as the 2nd argument to re.compile() allow to do?\n",
    "* The re.VERBOSE argument allows you to add whitespace and comments to the string passed to re.compile()."
   ]
  },
  {
   "cell_type": "markdown",
   "id": "c224c07f",
   "metadata": {},
   "source": [
    "20. How would you write a regex that match a number with comma for every three digits? It must match the given following:\n",
    "'42'\n",
    "'1,234'\n",
    "'6,368,745'\n",
    "\n",
    "* re.compile(r'^\\d{1,3}(,\\d{3})*$') will create this regex, but other regex strings can produce a similar regular expression."
   ]
  },
  {
   "cell_type": "code",
   "execution_count": null,
   "id": "84852caa",
   "metadata": {},
   "outputs": [],
   "source": []
  }
 ],
 "metadata": {
  "kernelspec": {
   "display_name": "Python 3 (ipykernel)",
   "language": "python",
   "name": "python3"
  },
  "language_info": {
   "codemirror_mode": {
    "name": "ipython",
    "version": 3
   },
   "file_extension": ".py",
   "mimetype": "text/x-python",
   "name": "python",
   "nbconvert_exporter": "python",
   "pygments_lexer": "ipython3",
   "version": "3.9.7"
  }
 },
 "nbformat": 4,
 "nbformat_minor": 5
}
