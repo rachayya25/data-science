{
 "cells": [
  {
   "cell_type": "markdown",
   "id": "0d06ff71",
   "metadata": {},
   "source": [
    "# 1. What does an empty dictionary's code look like?\n",
    "\n",
    "* answer :\n",
    "* an empty dictorny looks like TWO empty Curley Braces - {  }"
   ]
  },
  {
   "cell_type": "markdown",
   "id": "ac5943a5",
   "metadata": {},
   "source": [
    "# 2. What is the value of a dictionary value with the key 'foo' and the value 42?\n",
    "\n",
    "* answer :\n",
    "* a ={'foo' : 42 }\n",
    "* foo is a keyword insdie which we stored value 42\n",
    "* whern ever we call dict.values it will return all the values inside dictonary"
   ]
  },
  {
   "cell_type": "code",
   "execution_count": 1,
   "id": "a1e136b3",
   "metadata": {},
   "outputs": [],
   "source": [
    "a ={'foo' : 42 }"
   ]
  },
  {
   "cell_type": "code",
   "execution_count": 2,
   "id": "310feee1",
   "metadata": {},
   "outputs": [
    {
     "data": {
      "text/plain": [
       "dict_values([42])"
      ]
     },
     "execution_count": 2,
     "metadata": {},
     "output_type": "execute_result"
    }
   ],
   "source": [
    "a.values()"
   ]
  },
  {
   "cell_type": "markdown",
   "id": "d4fdd9d3",
   "metadata": {},
   "source": [
    "# 3. What is the most significant distinction between a dictionary and a list?\n",
    "\n",
    "* Answer :\n",
    "* in list when we save data, we can access data with indexing operations.\n",
    "* in dictonery we save data in key and value pair, when ever we have to access data we have to call the key, like calling the index will give data in list"
   ]
  },
  {
   "cell_type": "markdown",
   "id": "792d4674",
   "metadata": {},
   "source": [
    "# 4. What happens if you try to access spam['foo'] if spam is {'bar': 100}?\n",
    "\n",
    "* answer:\n",
    "* we will get value error.\n",
    "* 'foo' key is not inside spam"
   ]
  },
  {
   "cell_type": "markdown",
   "id": "2755674d",
   "metadata": {},
   "source": [
    "# 5. If a dictionary is stored in spam, what is the difference between the expressions 'cat' in spam and 'cat' in spam.keys()?\n",
    "\n",
    "\n",
    "* Answer :\n",
    "* there is no difference in both statements.\n",
    "* both will check wheather 'cat' as key is avaliABLE OR NOT. IF AVALIABLE\n",
    "    "
   ]
  },
  {
   "cell_type": "code",
   "execution_count": 8,
   "id": "72893669",
   "metadata": {},
   "outputs": [],
   "source": [
    "spam={'cat':1,'bat':2}"
   ]
  },
  {
   "cell_type": "code",
   "execution_count": 9,
   "id": "628a7209",
   "metadata": {},
   "outputs": [
    {
     "data": {
      "text/plain": [
       "True"
      ]
     },
     "execution_count": 9,
     "metadata": {},
     "output_type": "execute_result"
    }
   ],
   "source": [
    "'cat' in a"
   ]
  },
  {
   "cell_type": "code",
   "execution_count": 14,
   "id": "0c4cbb2c",
   "metadata": {},
   "outputs": [
    {
     "data": {
      "text/plain": [
       "False"
      ]
     },
     "execution_count": 14,
     "metadata": {},
     "output_type": "execute_result"
    }
   ],
   "source": [
    "'cat' in spam.values()"
   ]
  },
  {
   "cell_type": "markdown",
   "id": "3f9f9153",
   "metadata": {},
   "source": [
    "# 6. If a dictionary is stored in spam, what is the difference between the expressions 'cat' in spam and 'cat' in spam.values()?\n",
    "\n",
    "* Answer :\n",
    "    * 'cat' is pam will check weather there is 'cat' key avaliable in spam\n",
    "    * 'cat' in spam.values() will check, weather there is 'cat' as a value  is avaliable inside the dictonery\n",
    "\n"
   ]
  },
  {
   "cell_type": "markdown",
   "id": "1fa52f53",
   "metadata": {},
   "source": [
    "# 7. What is a shortcut for the following code?\n",
    "\n",
    "* answer :\n",
    "    spam.setdefault('color', 'black')"
   ]
  },
  {
   "cell_type": "markdown",
   "id": "0daa573d",
   "metadata": {},
   "source": [
    "# 8. How do you \"pretty print\" dictionary values using which module and function?\n",
    "\n",
    "* Answer :\n",
    "* pprint.pprint()"
   ]
  },
  {
   "cell_type": "code",
   "execution_count": null,
   "id": "0470d24f",
   "metadata": {},
   "outputs": [],
   "source": []
  }
 ],
 "metadata": {
  "kernelspec": {
   "display_name": "Python 3",
   "language": "python",
   "name": "python3"
  },
  "language_info": {
   "codemirror_mode": {
    "name": "ipython",
    "version": 3
   },
   "file_extension": ".py",
   "mimetype": "text/x-python",
   "name": "python",
   "nbconvert_exporter": "python",
   "pygments_lexer": "ipython3",
   "version": "3.8.8"
  }
 },
 "nbformat": 4,
 "nbformat_minor": 5
}
