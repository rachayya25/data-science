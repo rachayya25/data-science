{
 "cells": [
  {
   "cell_type": "markdown",
   "id": "72ed0028",
   "metadata": {},
   "source": [
    "1. What is the relationship between def statements and lambda expressions ?\n",
    "\n",
    "def statement is used to create a normal function. where as lamba expressions are used to create Anonymous functions. which can be assigned to a variable and can be called using the variable later in function.\n",
    "\n",
    "Lambda's body is a single expression and not a block of statements like def statement. The lambda expression's body is similar to what we'd put in a def body's return statement. We simply type the result as an expression instead of explicitly returning it. Because it is limited to an expression, a lambda is less general than a def statement."
   ]
  },
  {
   "cell_type": "markdown",
   "id": "d8b539c3",
   "metadata": {},
   "source": [
    "2. What is the benefit of lambda?\n",
    "A lambda expression is an inline code that implements a functional interface without creating a concrete or anonymous class. A lambda expression is basically an anonymous method.\n",
    "\n",
    "Fewer Lines of Code − One of the most benefits of a lambda expression is to reduce the amount of code. We know that lambda expressions can be used only with a functional interface. For instance, Runnable is a functional interface, so we can easily apply lambda expressions.\n",
    "\n",
    "Sequential and Parallel execution support by passing behavior as an argument in methods − By using Stream API in Java 8, the functions are passed to collection methods. Now it is the responsibility of collection for processing the elements either in a sequential or parallel manner.\n",
    "\n",
    "Higher Efficiency − By using Stream API and lambda expressions, we can achieve higher efficiency (parallel execution) in case of bulk operations on collections. Also, lambda expression helps in achieving the internal iteration of collections rather than external iteration."
   ]
  },
  {
   "cell_type": "markdown",
   "id": "5ebd2c33",
   "metadata": {},
   "source": [
    "3. Compare and contrast map, filter, and reduce.\n",
    "\n",
    "map(): The map() function is a type of higher-order. This function takes another function as a parameter\n",
    "along with a sequence of iterables and returns an output after applying the function to each iterable present in the sequence. \n",
    "\n",
    "2. filter(): The filter() function is used to create an output list consisting of values for which the function returns true. \n",
    "\n",
    "3. reduce(): The reduce() function, as the name describes, applies a given function to the iterables and returns a single value"
   ]
  },
  {
   "cell_type": "markdown",
   "id": "22b37b4b",
   "metadata": {},
   "source": [
    "4. What are function annotations, and how are they used?\n",
    "\n",
    "Function annotations provide a way of associating various parts of a function with arbitrary pythoncexpressions at compile time.\n",
    "Annotations of simple parameters def func(x: expression, y: expression = 20):\n",
    "Whereas the annotations for excess parameters are as − def func (**args: expression, **kwargs: expression):"
   ]
  },
  {
   "cell_type": "markdown",
   "id": "1fcb9667",
   "metadata": {},
   "source": [
    "5. What are recursive functions, and how are they used?\n",
    "\n",
    "A recursive function is a function that calls itself during its execution. The process may repeat several times, outputting the result and the end of each iteration."
   ]
  },
  {
   "cell_type": "markdown",
   "id": "17cd3b6e",
   "metadata": {},
   "source": [
    "6. What are some general design guidelines for coding functions?\n",
    "\n",
    "Using a tab for indentation in the code make code more readable instead of using random spaces for multiple functions and methods. You can set the number of spaces for a tab in any code editors' settings.\n",
    "\n",
    "Using a trailing comma in the tuples is one of the best practices. But, it's not mandatory.\n",
    "\n",
    "Use docstring in the functions and classes. We can use the triple quotes for the docstrings. \n",
    "\n",
    "Writing more than 79 characters in a line is not recommended in PEP 8 style guide. Avoid this by breaking the line into multiple lines using the escape character ()\n",
    "\n",
    "it's one of the best practices to use a space before and after an operator. Use a space after the comma as well for more readability.\n",
    "\n",
    "Follow the same case for variables, constants, classes and functions across the program. Most of the Python users will use snake_case for functions and variables naming and PascalCase for classes naming. For constants, use all uppercase letter separated with underscores (ex:- PI_TWO).\n",
    "\n",
    "snake_case => this_is_function\n",
    "\n",
    "PascalCase => ThisIsClass\n",
    "\n",
    "CONSTANT => THIS_IS_CONSTANT\n",
    "\n",
    "Don't try to import multiple modules in a single even though it is syntactically correct.\n",
    "\n",
    "Always keep your comments up to date. Don't forget to update the comments while updating code. It's one of the most important things in coding. And most of the user will forget it. Keep this in mind."
   ]
  },
  {
   "cell_type": "markdown",
   "id": "04b315a6",
   "metadata": {},
   "source": [
    "7. Name three or more ways that functions can communicate results to a caller.\n",
    "\n",
    "\n",
    "print\n",
    "return\n",
    "yield"
   ]
  },
  {
   "cell_type": "code",
   "execution_count": null,
   "id": "9df8a447",
   "metadata": {},
   "outputs": [],
   "source": []
  }
 ],
 "metadata": {
  "kernelspec": {
   "display_name": "Python 3 (ipykernel)",
   "language": "python",
   "name": "python3"
  },
  "language_info": {
   "codemirror_mode": {
    "name": "ipython",
    "version": 3
   },
   "file_extension": ".py",
   "mimetype": "text/x-python",
   "name": "python",
   "nbconvert_exporter": "python",
   "pygments_lexer": "ipython3",
   "version": "3.9.7"
  }
 },
 "nbformat": 4,
 "nbformat_minor": 5
}
