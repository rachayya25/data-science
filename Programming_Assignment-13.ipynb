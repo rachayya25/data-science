{
 "cells": [
  {
   "cell_type": "markdown",
   "id": "fc126eec",
   "metadata": {},
   "source": [
    "Question 1:\n",
    "\n",
    "# Write a program that calculates and prints the value according to the given formula:\n",
    "\n",
    "* Q = Square root of [(2 * C * D)/H]\n",
    "\n",
    "* Following are the fixed values of C and H:\n",
    "\n",
    "* C is 50. H is 30.\n",
    "\n",
    "* D is the variable whose values should be input to your program in a comma-separated sequence.\n",
    "\n",
    "* Example\n",
    "\n",
    "* Let us assume the following comma separated input sequence is given to the program:\n",
    "\n",
    " * 100,150,180\n",
    "\n",
    "* The output of the program should be:\n",
    "\n",
    "* 18,22,24\n"
   ]
  },
  {
   "cell_type": "code",
   "execution_count": null,
   "id": "15baf8d5",
   "metadata": {},
   "outputs": [],
   "source": [
    "def test():\n",
    "    import math\n",
    "    \"\"\"this will return Following are the fixed values of C and H: C is 50. H is 30.\n",
    "    D is the variable whose values should be input\"\"\"\n",
    "    value_D=eval(input('enter values for D in comm sep values :'))\n",
    "    C = 50\n",
    "    H = 30\n",
    "    l=[]\n",
    "    for i in value_D:\n",
    "        l.append(int(math.sqrt((2*C*i)/H)))\n",
    "    return l"
   ]
  },
  {
   "cell_type": "code",
   "execution_count": null,
   "id": "f0fc05f3",
   "metadata": {},
   "outputs": [],
   "source": [
    "test()"
   ]
  },
  {
   "cell_type": "markdown",
   "id": "ee1f4ca6",
   "metadata": {},
   "source": [
    "Question 2:\n",
    "# Write a program which takes 2 digits, X,Y as input and generates a 2-dimensional array. The element value in the i-th row and j-th column of the array should be i*j.\n",
    "\n",
    "* Note: i=0,1.., X-1; j=0,1,¡¬Y-1.\n",
    "\n",
    "* Example\n",
    "* Suppose the following inputs are given to the program: 3,5\n",
    "\n",
    "* Then, the output of the program should be:\n",
    "\n",
    "* [[0, 0, 0, 0, 0], [0, 1, 2, 3, 4], [0, 2, 4, 6, 8]] \n"
   ]
  },
  {
   "cell_type": "code",
   "execution_count": null,
   "id": "00f95e04",
   "metadata": {},
   "outputs": [],
   "source": [
    "import array as arr\n",
    "def generateArray():\n",
    "    in_x = int(input('Enter the No of Rows:'))\n",
    "    in_y = int(input('Enter the No of Columns:')) \n",
    "    out_array = []\n",
    "    for ele in range(in_x):\n",
    "        out_array.insert(in_x,[])\n",
    "        for sub_ele in range(in_y):\n",
    "            out_array[ele].append(ele*sub_ele)\n",
    "    print(out_array)\n",
    "    \n",
    "generateArray()"
   ]
  },
  {
   "cell_type": "markdown",
   "id": "9d8616d3",
   "metadata": {},
   "source": [
    "3.Write a program that accepts a comma separated sequence of words as input and prints the words in a comma-separated sequence after sorting them alphabetically ?\n",
    "\n",
    "* Suppose the following input is supplied to the program: without,hello,bag,world\n",
    "* Then, the output should be: bag,hello,without,world"
   ]
  },
  {
   "cell_type": "code",
   "execution_count": 19,
   "id": "93b95f51",
   "metadata": {},
   "outputs": [],
   "source": [
    "def test3():\n",
    "    l=[]\n",
    "    insert=input('enter words :')\n",
    "    for i in insert:\n",
    "        a =(insert.split(','))\n",
    "        a.sort()\n",
    "  \n",
    "    return a\n"
   ]
  },
  {
   "cell_type": "code",
   "execution_count": 20,
   "id": "ea9b496a",
   "metadata": {},
   "outputs": [
    {
     "name": "stdout",
     "output_type": "stream",
     "text": [
      "enter words :without,hello,bag,world\n"
     ]
    },
    {
     "data": {
      "text/plain": [
       "['bag', 'hello', 'without', 'world']"
      ]
     },
     "execution_count": 20,
     "metadata": {},
     "output_type": "execute_result"
    }
   ],
   "source": [
    "test3()"
   ]
  },
  {
   "cell_type": "markdown",
   "id": "3ea1a17d",
   "metadata": {},
   "source": [
    "4.Write a program that accepts a sequence of whitespace separated words as input and prints the words after removing all duplicate words and sorting them alphanumerically.\n",
    "\n",
    "* Suppose the following input is supplied to the program: hello world and practice makes perfect and hello world again\n",
    "* Then, the output should be: again and hello makes perfect practice world"
   ]
  },
  {
   "cell_type": "code",
   "execution_count": 85,
   "id": "bb568e6c",
   "metadata": {},
   "outputs": [
    {
     "name": "stdout",
     "output_type": "stream",
     "text": [
      "Enter the Input String: hello world and practice makes perfect and hello world again\n",
      "Output: again and hello makes perfect practice world\n"
     ]
    }
   ],
   "source": [
    "def sortAlphaNumerically():\n",
    "    in_string = input(\"Enter the Input String: \")\n",
    "    out_string = ' '.join(sorted(sorted(list(set(in_string.split(\" \"))))))\n",
    "    print(f'Output: {out_string}')\n",
    "    \n",
    "sortAlphaNumerically()"
   ]
  },
  {
   "cell_type": "markdown",
   "id": "d39e7a67",
   "metadata": {},
   "source": [
    "5.Write a program that accepts a sentence and calculate the number of letters and digits.\n",
    "Suppose the following input is supplied to the program: hello world! 123\n",
    "Then, the output should be:\n",
    "LETTERS 10\n",
    "DIGITS 3"
   ]
  },
  {
   "cell_type": "code",
   "execution_count": 93,
   "id": "c2208cbc",
   "metadata": {},
   "outputs": [],
   "source": [
    "def test5():\n",
    "    a= input('enter alpha numeric :')\n",
    "    words_list='ABCDEFGHIJKLMNOPQRSTUVWXYZabcdefghijklmnopqrstuvwxyz'\n",
    "    num_list='0123456789'\n",
    "    word=0\n",
    "    num=0\n",
    "    for i in a:\n",
    "        if i in words_list:\n",
    "            word+=1\n",
    "        if i in num_list:\n",
    "            num+=1\n",
    "    return(f'words length {word} & number of digits are {num}') "
   ]
  },
  {
   "cell_type": "code",
   "execution_count": 94,
   "id": "12130192",
   "metadata": {},
   "outputs": [
    {
     "name": "stdout",
     "output_type": "stream",
     "text": [
      "enter alpha numeric :this is my mobile number 9060607082\n"
     ]
    },
    {
     "data": {
      "text/plain": [
       "'words length 20 & number of digits are 10'"
      ]
     },
     "execution_count": 94,
     "metadata": {},
     "output_type": "execute_result"
    }
   ],
   "source": [
    "test5()"
   ]
  },
  {
   "cell_type": "markdown",
   "id": "8d114ed7",
   "metadata": {},
   "source": [
    "6.A website requires the users to input username and password to register. Write a program to check the validity of password input by users.\n",
    "Following are the criteria for checking the password:\n",
    "\n",
    "At least 1 letter between [a-z]\n",
    "At least 1 number between [0-9]\n",
    "At least 1 letter between [A-Z]\n",
    "At least 1 character from [$#@]\n",
    "Minimum length of transaction password: 6\n",
    "Maximum length of transaction password: 12\n",
    "Your program should accept a sequence of comma separated passwords and will check them according to the above criteria. Passwords that match the criteria are to be printed, each separated by a comma.\n",
    "\n",
    "Example:\n",
    "If the following passwords are given as input to the program: ABd1234@1,a F1#,2w3E*,2We3345\n",
    "Then, the output of the program should be:ABd1234@1"
   ]
  },
  {
   "cell_type": "code",
   "execution_count": null,
   "id": "20f48530",
   "metadata": {},
   "outputs": [],
   "source": [
    "\n",
    "def checkPassword():\n",
    "    in_string = input(\"Enter the Input String: \")\n",
    "    small_list = \"abcdefghijklmnopqrstuvwxyz\"\n",
    "    cap_list = \"ABCDEFGHIJKLMNOPQRSTUVWXYZ\"\n",
    "    num_list = \"0123456789\"\n",
    "    special_list = \"$#@\"\n",
    "    for ele in in_string.split(\",\"):\n",
    "        if len(ele) <= 12 and len(ele) >=6 :\n",
    "            if any(i.isupper() for i in ele):\n",
    "                if any(i.islower() for i in ele):\n",
    "                    if any(i for i in ele if i in special_list):\n",
    "                        print(ele)\n",
    "                               \n",
    "checkPassword() "
   ]
  }
 ],
 "metadata": {
  "kernelspec": {
   "display_name": "Python 3 (ipykernel)",
   "language": "python",
   "name": "python3"
  },
  "language_info": {
   "codemirror_mode": {
    "name": "ipython",
    "version": 3
   },
   "file_extension": ".py",
   "mimetype": "text/x-python",
   "name": "python",
   "nbconvert_exporter": "python",
   "pygments_lexer": "ipython3",
   "version": "3.9.7"
  }
 },
 "nbformat": 4,
 "nbformat_minor": 5
}
