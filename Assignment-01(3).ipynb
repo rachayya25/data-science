{
 "cells": [
  {
   "cell_type": "markdown",
   "id": "ee1b20c8",
   "metadata": {},
   "source": [
    "#    # Assignment 01                                     "
   ]
  },
  {
   "cell_type": "markdown",
   "id": "7a553e71",
   "metadata": {},
   "source": [
    "# 1. In the below elements which of them are values or an expression? eg:- values can be integer or string and expressions will be mathematical operators.\n",
    "* \n",
    "'hello'\n",
    "-87.8\n",
    "- \n",
    "/ \n",
    "+\t\n",
    "6 \n"
   ]
  },
  {
   "cell_type": "markdown",
   "id": "de055252",
   "metadata": {},
   "source": [
    "# Answer:\n",
    "\n",
    "*       = Multification\n",
    "'hello' = String\n",
    "-87.8   = Floating Point Numbers\n",
    "-       = Sudstraction\n",
    "/       = Divide\n",
    "+       = Addition\n",
    "6       = Integer"
   ]
  },
  {
   "cell_type": "markdown",
   "id": "9e8189f5",
   "metadata": {},
   "source": [
    "2. What is the difference between string and variable?\n",
    "\n",
    "\n",
    "Answer:\n",
    "\n",
    "String Objects are collection of characters,words,alphabets\n",
    "string is immutable :\n",
    "string objects are written inside single quote(' ') or Double quote(\" \")\n",
    "    Ex: 'My name is akhil', \n",
    "        \" This is my Python Class\",\n",
    "In Python ,output of string objects are always quoted inside singe quote(' '), wheather we give input in single quote or double quote\n",
    "\n",
    "Variable's are the keywords used to store values i.e\n",
    "            a = 10 , q ='akhil'\n",
    "            in which a ,q is the variable which are holding the values 10, 'akhil', Respectively.\n",
    " Variables are case-senstive,\n",
    " No special characters are allowed other than underscore(_).\n",
    " First characters can't be numbers\n",
    "           \n",
    "       "
   ]
  },
  {
   "cell_type": "markdown",
   "id": "7baf02e6",
   "metadata": {},
   "source": [
    "3. Describe three different data types.\n",
    "\n",
    "\n",
    "Answer:\n",
    "data type\n",
    "\n",
    "1.0) Numbers are integers (int) (Ex. 1,2,3,4,5,6,7,8,9,10,1112,152365478)\n",
    "2.0) words or chareters are strings (str) (Ex. akhil, tree, )\n",
    "     str are always quoted inside single quote ('akhil') or Double quote (\"akhil\")\n",
    "3.0) Float are decimal numbers (ex. 0.5, 1.258, 10.23, 10000.258)\n",
    "4.0) Complex Numbers i=real numbers + imaginary numbers (Ex. 2+5j, 100+52846j)\n",
    "        imaginary part are represeted by 'j' in python\n",
    "\n",
    "5.0) True and Flase Type data are called boolen variables\n",
    "    Value of True in Python is 1 and value of False is 0"
   ]
  },
  {
   "cell_type": "markdown",
   "id": "2dca0c6a",
   "metadata": {},
   "source": [
    "4. What is an expression made up of? What do all expressions do?\n",
    "\n",
    "An expression is a combination of values, variables, operators, and calls to functions. \n",
    "Expressions need to be evaluated.\n",
    "on asking Python to print an expression, the interpreter evaluates the expression and displays the result.\n",
    "\n",
    "The evaluation of an expression produces a value, which is why expressions can appear on the right hand side of assignment statements. A value all by itself is a simple expression, and so is a variable. Evaluating a variable gives the value that the variable refers to.\n",
    "\n",
    "al expressions produce value or return"
   ]
  },
  {
   "cell_type": "markdown",
   "id": "1c073f73",
   "metadata": {},
   "source": [
    "5. This assignment statements, like spam = 10. What is the difference between an expression and a statement?\n",
    "\n",
    "spam = 10\n",
    "in which spam is a variable in which value 10 is saved.\n",
    "whenever we try to call spam, it will return 10.\n",
    "\n",
    "i can say spam = 10 is a statement,\n",
    "this is not going to give me any output in python consol.\n",
    "statements are set of instructions given, which may or may not produce any return.\n",
    "\n",
    "An expression is a combination of values, variables, operators, and calls to functions. Expressions need to be evaluated. on asking Python to print an expression, the interpreter evaluates the expression and displays the result.\n",
    "for example in above statement where spam = 10,\n",
    "    we can see a variable, an equal operator(math operator) and value.\n",
    "    \n",
    "        when we do spam + 10\n",
    "      \n",
    "      it is going to give output as 20(as spam = 10 we assigned, annd we are adding 10+10, it is going to give output   as 20:\n",
    "    \n",
    "    all expression can be statements but not all statements are expressions"
   ]
  },
  {
   "cell_type": "markdown",
   "id": "3a7813e6",
   "metadata": {},
   "source": [
    "6. After running the following code, what does the variable bacon contain?\n",
    "bacon = 22\n",
    "bacon + 1\n",
    "\n",
    "Answer:\n",
    "\n",
    "after running the code, bacon contain 22 as a value:\n",
    "not 23.\n",
    "bacon+1 is a expression. value is retured in consol.\n",
    "whil bacon = 22 is a statement , in which we assigned the value to bacon as 22."
   ]
  },
  {
   "cell_type": "markdown",
   "id": "45ddf51b",
   "metadata": {},
   "source": [
    "7. What should the values of the following two terms be?\n",
    "'spam' + 'spamspam'\n",
    "'spam' * 3\n",
    "\n",
    "\n",
    "Answer:\n",
    "both expression are going to give same output as 'spamspamspam'"
   ]
  },
  {
   "cell_type": "markdown",
   "id": "3b39868e",
   "metadata": {},
   "source": [
    "8. Why is eggs a valid variable name while 100 is invalid?\n",
    "\n",
    "answer:\n",
    "python as created in such a that we dont have to decalre many things like strings, int, flot, bool.\n",
    "python already know these types hence there is no need to decalre once again.\n",
    "\n",
    "when we write 100 as variable, it is going to give error. python already knows the data type and data we have given i.e 100. so it can not assign the value 100 as a variable to another value.\n",
    "\n",
    "Rules for creating variables in Python:\n",
    "A variable name must start with a letter or the underscore character.\n",
    "A variable name cannot start with a number.\n",
    "A variable name can only contain alpha-numeric characters and underscores (A-z, 0-9, and _ ).\n",
    "Variable names are case-sensitive (name, Name and NAME are three different variables).\n",
    "The reserved words(keywords) cannot be used naming the variabl"
   ]
  },
  {
   "cell_type": "markdown",
   "id": "6862912c",
   "metadata": {},
   "source": [
    "9. What three functions can be used to get the integer, floating-point number, or string version of a value?\n",
    "\n",
    "Answer:\n",
    "\n",
    "integer - int()\n",
    "floating-point number - float()\n",
    "string - str()\n",
    "\n",
    "we can converet integer to float. float to integers,\n",
    "we can converet numbers from string formate to integers, and integers to string.\n"
   ]
  },
  {
   "cell_type": "markdown",
   "id": "7560efb0",
   "metadata": {},
   "source": [
    "10. Why does this expression cause an error? How can you fix it?\n",
    "'I have eaten ' + 99 + ' burritos.'\n",
    "\n",
    "answer:\n",
    "\n",
    "string to integer addition opearations won't work.\n",
    "\n",
    "to make above working we need to type cast 99.\n",
    "'I have eaten ' + '99' + ' burritos.'\n",
    "this staement is going work\n"
   ]
  },
  {
   "cell_type": "markdown",
   "id": "b9a6f5dd",
   "metadata": {},
   "source": [
    "'I have eaten ' + '99' + ' burritos.'"
   ]
  },
  {
   "cell_type": "raw",
   "id": "8b0e37ba",
   "metadata": {},
   "source": [
    "a"
   ]
  },
  {
   "cell_type": "code",
   "execution_count": null,
   "id": "aba3c474",
   "metadata": {},
   "outputs": [],
   "source": []
  },
  {
   "cell_type": "code",
   "execution_count": null,
   "id": "afb1e0a9",
   "metadata": {},
   "outputs": [],
   "source": []
  },
  {
   "cell_type": "code",
   "execution_count": null,
   "id": "fec61818",
   "metadata": {},
   "outputs": [],
   "source": []
  }
 ],
 "metadata": {
  "kernelspec": {
   "display_name": "Python 3",
   "language": "python",
   "name": "python3"
  },
  "language_info": {
   "codemirror_mode": {
    "name": "ipython",
    "version": 3
   },
   "file_extension": ".py",
   "mimetype": "text/x-python",
   "name": "python",
   "nbconvert_exporter": "python",
   "pygments_lexer": "ipython3",
   "version": "3.8.8"
  }
 },
 "nbformat": 4,
 "nbformat_minor": 5
}
