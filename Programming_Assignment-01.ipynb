{
 "cells": [
  {
   "cell_type": "markdown",
   "id": "01c90667",
   "metadata": {},
   "source": [
    "1.Write a Python program to print \"Hello Python\"?"
   ]
  },
  {
   "cell_type": "code",
   "execution_count": 12,
   "id": "a90535ab",
   "metadata": {},
   "outputs": [],
   "source": [
    "def test():\n",
    "    \"\"\"this function will print hello python\"\"\"\n",
    "    print('Hello Python')"
   ]
  },
  {
   "cell_type": "code",
   "execution_count": 13,
   "id": "2ffc160f",
   "metadata": {},
   "outputs": [
    {
     "name": "stdout",
     "output_type": "stream",
     "text": [
      "Hello Python\n"
     ]
    }
   ],
   "source": [
    "test()"
   ]
  },
  {
   "cell_type": "markdown",
   "id": "73506d27",
   "metadata": {},
   "source": [
    "2.Write a Python program to do arithmetical operations addition and division.?"
   ]
  },
  {
   "cell_type": "code",
   "execution_count": 17,
   "id": "693c60ee",
   "metadata": {},
   "outputs": [],
   "source": [
    "def cal():\n",
    "    \"\"\"this function will add and divide\"\"\"\n",
    "    a=int(input())\n",
    "    b=int(input())\n",
    "    return a/b,a+b, (a,b)\n",
    " "
   ]
  },
  {
   "cell_type": "markdown",
   "id": "4d0b1b14",
   "metadata": {},
   "source": [
    "3.Write a Python program to find the area of a triangle?"
   ]
  },
  {
   "cell_type": "code",
   "execution_count": 21,
   "id": "e2145ec0",
   "metadata": {},
   "outputs": [],
   "source": [
    "def area_t():\n",
    "    \"\"\"this fun will return area of triangle\"\"\"\n",
    "    height=int(input('Enter Height in Meters :'))\n",
    "    base = int(input('Enter Base in Meters :'))\n",
    "    return ('area of triangle is',0.5*height*base ,'sq.m' )"
   ]
  },
  {
   "cell_type": "code",
   "execution_count": 22,
   "id": "95e28c56",
   "metadata": {},
   "outputs": [
    {
     "name": "stdout",
     "output_type": "stream",
     "text": [
      "Enter Height in Meters :10\n",
      "Enter Base in Meters :5\n"
     ]
    },
    {
     "data": {
      "text/plain": [
       "('area of triangle is', 25.0, 'sq.m')"
      ]
     },
     "execution_count": 22,
     "metadata": {},
     "output_type": "execute_result"
    }
   ],
   "source": [
    "area_t()"
   ]
  },
  {
   "cell_type": "markdown",
   "id": "8cfe319a",
   "metadata": {},
   "source": [
    "4.Write a Python program to swap two variables?"
   ]
  },
  {
   "cell_type": "code",
   "execution_count": 44,
   "id": "ee02a1f7",
   "metadata": {},
   "outputs": [],
   "source": [
    "def test2():\n",
    "    'this will swap of two variables'\n",
    "    a=int(input('1st number'))\n",
    "    b=int(input('2nd number'))\n",
    "    print('initinal numbers ',a,b)\n",
    "    a,b=b,a\n",
    "    print('swap numbers',a,b)"
   ]
  },
  {
   "cell_type": "code",
   "execution_count": 45,
   "id": "a79988a7",
   "metadata": {},
   "outputs": [
    {
     "name": "stdout",
     "output_type": "stream",
     "text": [
      "1st number10\n",
      "2nd number20\n",
      "initinal numbers  10 20\n",
      "swap numbers 20 10\n"
     ]
    }
   ],
   "source": [
    "test2()"
   ]
  },
  {
   "cell_type": "markdown",
   "id": "2da21fc8",
   "metadata": {},
   "source": [
    "5.Write a Python program to generate a random number?"
   ]
  },
  {
   "cell_type": "code",
   "execution_count": 47,
   "id": "e29c0c88",
   "metadata": {},
   "outputs": [],
   "source": [
    "import random\n",
    "from random import randint\n",
    "\n",
    "def test3(start=0,end=10000):\n",
    "    print(randint(start,end))"
   ]
  },
  {
   "cell_type": "code",
   "execution_count": 77,
   "id": "b7d987d1",
   "metadata": {},
   "outputs": [
    {
     "name": "stdout",
     "output_type": "stream",
     "text": [
      "85\n"
     ]
    }
   ],
   "source": [
    "test3(10,100)"
   ]
  },
  {
   "cell_type": "code",
   "execution_count": null,
   "id": "d1d894a4",
   "metadata": {},
   "outputs": [],
   "source": []
  }
 ],
 "metadata": {
  "kernelspec": {
   "display_name": "Python 3 (ipykernel)",
   "language": "python",
   "name": "python3"
  },
  "language_info": {
   "codemirror_mode": {
    "name": "ipython",
    "version": 3
   },
   "file_extension": ".py",
   "mimetype": "text/x-python",
   "name": "python",
   "nbconvert_exporter": "python",
   "pygments_lexer": "ipython3",
   "version": "3.9.7"
  }
 },
 "nbformat": 4,
 "nbformat_minor": 5
}
