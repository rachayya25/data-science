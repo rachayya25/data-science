{
 "cells": [
  {
   "cell_type": "markdown",
   "id": "e91e7752",
   "metadata": {},
   "source": [
    "# Assignment-02"
   ]
  },
  {
   "cell_type": "markdown",
   "id": "81697224",
   "metadata": {},
   "source": [
    "## 1.What are the two values of the Boolean data type? How do you write them?\n",
    "\n",
    "## Answer:\n",
    " * in python there are two types of boolen variables .\n",
    " * First letter will be capital and rest in lower case\n",
    "         * True and False\n",
    "* we can right bool(), we can pass any value inside brackets\n",
    "* a= True\n",
    "       \n",
    "       type(a) will return bool"
   ]
  },
  {
   "cell_type": "markdown",
   "id": "e153662a",
   "metadata": {},
   "source": [
    "# 2. What are the three different types of Boolean operators?\n",
    "\n",
    "## Answer:\n",
    "\n",
    "* there are many boolen operators \n",
    "\n",
    "        *and , or , not are the three functions\n",
    "* Comparison operators\n",
    "    * is Function\n",
    "    * in Function\n",
    "    * mathemetical Operators Like == (Equal Equal), <>(Comapartive opertaors),!= (not equal Operator)\n",
    "    * if is also a type of function which returns values in case of true"
   ]
  },
  {
   "cell_type": "markdown",
   "id": "eb482d3f",
   "metadata": {},
   "source": [
    "# 3. Make a list of each Boolean operator's truth tables (i.e. every possible combination of Boolean values for the operator and what it evaluate ).\n",
    "\n",
    "## Answer:\n",
    "\n",
    "* and Table\n",
    "\n",
    "          True  and   False     = False\n",
    "          False and   True      = False\n",
    "          True  and   True      = True\n",
    "          False and   False     = False\n",
    "* or Table          \n",
    "          True  or   False     = True\n",
    "          False or   True      = True\n",
    "          True  or   True      = True\n",
    "          False or   False     = False\n",
    "          \n",
    "          not True is False.\n",
    "          not False is True.\n",
    "* Value of True in python is 1 and False is 0"
   ]
  },
  {
   "cell_type": "markdown",
   "id": "b981703d",
   "metadata": {},
   "source": [
    "# 4. What are the values of the following expressions?\n",
    "    (5 > 4) and (3 == 5)\n",
    "    not (5 > 4)\n",
    "    (5 > 4) or (3 == 5)\n",
    "    not ((5 > 4) or (3 == 5))\n",
    "    (True and True) and (True == False)\n",
    "    (not False) or (not True)\n"
   ]
  },
  {
   "cell_type": "code",
   "execution_count": 16,
   "id": "39d68cbb",
   "metadata": {},
   "outputs": [
    {
     "data": {
      "text/plain": [
       "False"
      ]
     },
     "execution_count": 16,
     "metadata": {},
     "output_type": "execute_result"
    }
   ],
   "source": [
    "(5 > 4) and (3 == 5)\n",
    "# 5 is greter than 4 = True\n",
    "# 3 is equal to 5 = False\n",
    "# True and False = False"
   ]
  },
  {
   "cell_type": "code",
   "execution_count": 17,
   "id": "516c54cc",
   "metadata": {},
   "outputs": [
    {
     "data": {
      "text/plain": [
       "False"
      ]
     },
     "execution_count": 17,
     "metadata": {},
     "output_type": "execute_result"
    }
   ],
   "source": [
    "not (5 > 4)\n",
    "# 5 is greter than 4 = True\n",
    "# We are not(True) is false"
   ]
  },
  {
   "cell_type": "code",
   "execution_count": 18,
   "id": "b4dcbd81",
   "metadata": {},
   "outputs": [
    {
     "data": {
      "text/plain": [
       "True"
      ]
     },
     "execution_count": 18,
     "metadata": {},
     "output_type": "execute_result"
    }
   ],
   "source": [
    "(5 > 4) or (3 == 5)\n",
    "# 5 is greter than 4 = True\n",
    "# 3 is equal to 5 = False\n",
    "# True or False = True\n"
   ]
  },
  {
   "cell_type": "code",
   "execution_count": 19,
   "id": "95f46a53",
   "metadata": {},
   "outputs": [
    {
     "data": {
      "text/plain": [
       "False"
      ]
     },
     "execution_count": 19,
     "metadata": {},
     "output_type": "execute_result"
    }
   ],
   "source": [
    "not ((5 > 4) or (3 == 5))\n",
    "# 5 is greter than 4 = True\n",
    "# 3 is equal to 5 = False\n",
    "# True or False = True\n",
    "#not(True) is False"
   ]
  },
  {
   "cell_type": "code",
   "execution_count": 20,
   "id": "fa407874",
   "metadata": {},
   "outputs": [
    {
     "data": {
      "text/plain": [
       "False"
      ]
     },
     "execution_count": 20,
     "metadata": {},
     "output_type": "execute_result"
    }
   ],
   "source": [
    "(True and True) and (True == False)\n",
    "#True And True Is True\n",
    "#True is not Equal to False= False\n",
    "#True and False is False\n"
   ]
  },
  {
   "cell_type": "code",
   "execution_count": 21,
   "id": "9bf44214",
   "metadata": {},
   "outputs": [
    {
     "data": {
      "text/plain": [
       "True"
      ]
     },
     "execution_count": 21,
     "metadata": {},
     "output_type": "execute_result"
    }
   ],
   "source": [
    "(not False) or (not True)\n",
    "#not False is True\n",
    "#not True is False\n",
    "#True or False is True"
   ]
  },
  {
   "cell_type": "markdown",
   "id": "bbd470e0",
   "metadata": {},
   "source": [
    "# 5. What are the six comparison operators?\n",
    "\n",
    "## Answer:\n",
    "    * equal equal (==)\n",
    "    * lesser than (<)\n",
    "    * Greater Then(>)\n",
    "    * Not Equal To (!=)\n",
    "    * less than and equal (<=)\n",
    "    *greater than and equal (>=)\n",
    " "
   ]
  },
  {
   "cell_type": "markdown",
   "id": "07931430",
   "metadata": {},
   "source": [
    "# 6. How do you tell the difference between the equal to and assignment operators?Describe a condition and when you would use one.\n",
    "\n",
    "## Answer:\n",
    "\n",
    "* Equal to (=) as assignment operator, it will assgin the value on the right hand side to a variable on left hand side.\n",
    "         a = 5\n",
    "         in this value 5 is assigned to a variable a\n",
    " * Eqaual to as a Comparison operator(==), this will check for the condition if conditon is true , it is going to excute the code otherwise not. output of this function will be bool type\n",
    "         a = 5\n",
    "         if a==5:\n",
    "         print('this is my code')\n",
    "         \n",
    "         as a is equal to 5, hence statement is going to return as true, hence it will print my statement \n"
   ]
  },
  {
   "cell_type": "code",
   "execution_count": 28,
   "id": "1a881829",
   "metadata": {},
   "outputs": [],
   "source": [
    "a = 5\n",
    "if a==4:\n",
    "    print('this is my code')"
   ]
  },
  {
   "cell_type": "markdown",
   "id": "3561ed9b",
   "metadata": {},
   "source": [
    "# 7. Identify the three blocks in this code:\n",
    "    spam = 0\n",
    "    if spam == 10:\n",
    "    print('eggs')\n",
    "    if spam > 5:\n",
    "    print('bacon')\n",
    "    else:\n",
    "    print('ham')\n",
    "    print('spam')\n",
    "    print('spam')\n"
   ]
  },
  {
   "cell_type": "code",
   "execution_count": 5,
   "id": "e915f300",
   "metadata": {},
   "outputs": [
    {
     "name": "stdout",
     "output_type": "stream",
     "text": [
      "eggs\n"
     ]
    }
   ],
   "source": [
    "spam = 10\n",
    "if spam==0:\n",
    "    print('spam')\n",
    "elif spam ==10:\n",
    "    print('eggs')\n",
    "elif spam>5:\n",
    "    print('bacon')\n",
    "else:\n",
    "    print('ham')"
   ]
  },
  {
   "cell_type": "code",
   "execution_count": 3,
   "id": "d2d11b2a",
   "metadata": {},
   "outputs": [
    {
     "name": "stdout",
     "output_type": "stream",
     "text": [
      "spam\n",
      "eggs\n",
      "bacon\n"
     ]
    }
   ],
   "source": [
    "print('spam')\n",
    "print('eggs')\n",
    "print('bacon')"
   ]
  },
  {
   "cell_type": "code",
   "execution_count": null,
   "id": "18b4703b",
   "metadata": {},
   "outputs": [],
   "source": []
  },
  {
   "cell_type": "code",
   "execution_count": null,
   "id": "45e8d6c2",
   "metadata": {},
   "outputs": [],
   "source": []
  },
  {
   "cell_type": "markdown",
   "id": "75a918db",
   "metadata": {},
   "source": [
    "# 8. Write code that prints Hello if 1 is stored in spam, prints Howdy if 2 is stored in spam, and prints Greetings! if anything else is stored in spam."
   ]
  },
  {
   "cell_type": "code",
   "execution_count": 1,
   "id": "5ef7bba5",
   "metadata": {},
   "outputs": [
    {
     "name": "stdout",
     "output_type": "stream",
     "text": [
      "1\n",
      "hello\n"
     ]
    }
   ],
   "source": [
    "spam= int(input())\n",
    "if spam==1:\n",
    "    print('hello')\n",
    "elif spam==2:\n",
    "    print('howdy')\n",
    "else:\n",
    "    print('Greetings')"
   ]
  },
  {
   "cell_type": "markdown",
   "id": "5f5ea6b9",
   "metadata": {},
   "source": [
    "# 9.If your programme is stuck in an endless loop, what keys you’ll press?\n",
    "\n",
    "## Answer:\n",
    "\n",
    "* keyboard interrpution, interrput the kernal"
   ]
  },
  {
   "cell_type": "markdown",
   "id": "3c844c44",
   "metadata": {},
   "source": [
    "# 10. How can you tell the difference between break and continue?\n",
    "\n",
    "## Answer:\n",
    "* break \n",
    "        \n",
    "        *break will simply apply the breaks and comes out of the loop.\n",
    "        *if some condition is met, it is going to stop the iteration and come out of the loop\n",
    "    \n",
    "* continue\n",
    "\n",
    "        *it simply completes the entire loop and if any condition is met,it will excute the statement and continue to the next iteration."
   ]
  },
  {
   "cell_type": "markdown",
   "id": "6f50799a",
   "metadata": {},
   "source": [
    "# 11. In a for loop, what is the difference between range(10), range(0, 10), and range(0, 10, 1)?\n",
    "\n",
    "## Answer:\n",
    "* range(10) will genarate data from 0 to 10 excluding upperbond with a jump of 1.\n",
    "* hence range(10), range(0,10),range(0,10,1), will genarate same results"
   ]
  },
  {
   "cell_type": "markdown",
   "id": "e7dd926f",
   "metadata": {},
   "source": [
    "# 12. Write a short program that prints the numbers 1 to 10 using a for loop. Then write an equivalent program that prints the numbers 1 to 10 using a while loop."
   ]
  },
  {
   "cell_type": "code",
   "execution_count": 11,
   "id": "3d767867",
   "metadata": {},
   "outputs": [
    {
     "name": "stdout",
     "output_type": "stream",
     "text": [
      "1\n",
      "2\n",
      "3\n",
      "4\n",
      "5\n",
      "6\n",
      "7\n",
      "8\n",
      "9\n",
      "10\n"
     ]
    }
   ],
   "source": [
    "for i in range(1,11):\n",
    "    print(i)"
   ]
  },
  {
   "cell_type": "code",
   "execution_count": 19,
   "id": "fbd851ca",
   "metadata": {},
   "outputs": [
    {
     "name": "stdout",
     "output_type": "stream",
     "text": [
      "1\n",
      "2\n",
      "3\n",
      "4\n",
      "5\n",
      "6\n",
      "7\n",
      "8\n",
      "9\n",
      "10\n"
     ]
    }
   ],
   "source": [
    "i=1\n",
    "while i<=10:\n",
    "    print(i)\n",
    "    i+=1"
   ]
  },
  {
   "cell_type": "markdown",
   "id": "2bdf32c9",
   "metadata": {},
   "source": [
    "# 13. If you had a function named bacon() inside a module named spam, how would you call it after importing spam?\n",
    "\n",
    "## Answer:\n",
    "* This function can be called with spam.bacon()."
   ]
  },
  {
   "cell_type": "code",
   "execution_count": null,
   "id": "ad8ade0d",
   "metadata": {},
   "outputs": [],
   "source": []
  }
 ],
 "metadata": {
  "kernelspec": {
   "display_name": "Python 3",
   "language": "python",
   "name": "python3"
  },
  "language_info": {
   "codemirror_mode": {
    "name": "ipython",
    "version": 3
   },
   "file_extension": ".py",
   "mimetype": "text/x-python",
   "name": "python",
   "nbconvert_exporter": "python",
   "pygments_lexer": "ipython3",
   "version": "3.8.8"
  }
 },
 "nbformat": 4,
 "nbformat_minor": 5
}
