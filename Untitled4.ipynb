{
 "cells": [
  {
   "cell_type": "code",
   "execution_count": 2,
   "id": "43b0325c",
   "metadata": {},
   "outputs": [
    {
     "name": "stdout",
     "output_type": "stream",
     "text": [
      " * Serving Flask app '__main__'\n",
      " * Debug mode: on\n"
     ]
    },
    {
     "name": "stderr",
     "output_type": "stream",
     "text": [
      "WARNING: This is a development server. Do not use it in a production deployment. Use a production WSGI server instead.\n",
      " * Running on http://127.0.0.1:5000\n",
      "Press CTRL+C to quit\n",
      " * Restarting with watchdog (windowsapi)\n"
     ]
    },
    {
     "ename": "SystemExit",
     "evalue": "1",
     "output_type": "error",
     "traceback": [
      "An exception has occurred, use %tb to see the full traceback.\n",
      "\u001b[1;31mSystemExit\u001b[0m\u001b[1;31m:\u001b[0m 1\n"
     ]
    }
   ],
   "source": [
    "from flask import Flask, request, jsonify\n",
    "import requests\n",
    "from bs4 import BeautifulSoup as bs\n",
    "from urllib.request import urlopen as uReq\n",
    "\n",
    "app = Flask(__name__)\n",
    "@app.route('/review_flask', methods=['POST'])\n",
    "def review_flask():\n",
    "    if (request.method == 'POST'):\n",
    "        try :\n",
    "            search_string = request.json['Search']\n",
    "            flipkart_url = \"https://www.flipkart.com/search?q=\" + search_string\n",
    "            uClient = uReq(flipkart_url)\n",
    "            flipkartPage = uClient.read()\n",
    "            uClient.close()\n",
    "            flipkart_html = bs(flipkartPage, \"html.parser\")\n",
    "            bigboxes = flipkart_html.findAll(\"div\", {\"class\": \"_1AtVbE col-12-12\"})\n",
    "            del bigboxes[0:3]\n",
    "            box = bigboxes[0]\n",
    "            productLink = \"https://www.flipkart.com\" + box.div.div.div.a['href']\n",
    "            prodRes = requests.get(productLink)\n",
    "            prodRes.encoding = 'utf-8'\n",
    "            prod_html = bs(prodRes.text, \"html.parser\")\n",
    "            print(prod_html)\n",
    "            commentboxes = prod_html.find_all('div', {'class': \"_16PBlm\"})\n",
    "\n",
    "            filename = search_string + \".csv\"\n",
    "            fw = open(filename, \"w\")\n",
    "            headers = \"Product, Customer Name, Rating, Heading, Comment \\n\"\n",
    "            fw.write(headers)\n",
    "            reviews = []\n",
    "            for commentbox in commentboxes:\n",
    "                try:\n",
    "                # name.encode(encoding='utf-8')\n",
    "                    name = commentbox.div.div.find_all('p', {'class': '_2sc7ZR _2V5EHH'})[0].text\n",
    "                except:\n",
    "                    name = 'No Name'\n",
    "                try:\n",
    "                 # rating.encode(encoding='utf-8')\n",
    "                    rating = commentbox.div.div.div.div.text\n",
    "                except:\n",
    "                    rating = 'No Rating'\n",
    "                try:\n",
    "                # commentHead.encode(encoding='utf-8')\n",
    "                    commentHead = commentbox.div.div.div.p.text\n",
    "                except:\n",
    "                    commentHead = 'No Comment Heading'\n",
    "                try:\n",
    "                    comtag = commentbox.div.div.find_all('div', {'class': ''})\n",
    "                # custComment.encode(encoding='utf-8')\n",
    "                    custComment = comtag[0].div.text\n",
    "                except Exception as e:\n",
    "                    print(\"Exception while creating dictionary: \", e)\n",
    "    \n",
    "                mydict = {\"Product\": search_string, \"Name\": name, \"Rating\": rating, \"CommentHead\": commentHead,\n",
    "                            \"Comment\": custComment}\n",
    "                reviews.append(mydict)\n",
    "\n",
    "                return jsonify(mydict)\n",
    "\n",
    "        except Exception as e:\n",
    "            print('The Exception message is: ',e)\n",
    "            return 'something is wrong'\n",
    "\n",
    "if __name__ == '__main__':\n",
    "    app.run(debug=True)\n"
   ]
  },
  {
   "cell_type": "code",
   "execution_count": null,
   "id": "093ed33b",
   "metadata": {},
   "outputs": [],
   "source": []
  }
 ],
 "metadata": {
  "kernelspec": {
   "display_name": "Python 3 (ipykernel)",
   "language": "python",
   "name": "python3"
  },
  "language_info": {
   "codemirror_mode": {
    "name": "ipython",
    "version": 3
   },
   "file_extension": ".py",
   "mimetype": "text/x-python",
   "name": "python",
   "nbconvert_exporter": "python",
   "pygments_lexer": "ipython3",
   "version": "3.9.7"
  }
 },
 "nbformat": 4,
 "nbformat_minor": 5
}
