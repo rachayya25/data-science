{
 "cells": [
  {
   "cell_type": "markdown",
   "id": "9ef1adc0",
   "metadata": {},
   "source": [
    "1.\tWrite a Python Program to find sum of array?"
   ]
  },
  {
   "cell_type": "code",
   "execution_count": 32,
   "id": "fd34c38b",
   "metadata": {},
   "outputs": [],
   "source": [
    "def sum_arr():\n",
    "    \"\"\"this is give sum of an array\"\"\"\n",
    "    arr=eval(input('enter an array :'))\n",
    "    return(f'entered array{arr} and sum is {sum(arr)}')"
   ]
  },
  {
   "cell_type": "code",
   "execution_count": 33,
   "id": "e8d2b843",
   "metadata": {},
   "outputs": [
    {
     "name": "stdout",
     "output_type": "stream",
     "text": [
      "enter an array :[1,2,3,4,5]\n"
     ]
    },
    {
     "data": {
      "text/plain": [
       "'entered array[1, 2, 3, 4, 5] and sum is 15'"
      ]
     },
     "execution_count": 33,
     "metadata": {},
     "output_type": "execute_result"
    }
   ],
   "source": [
    "sum_arr()"
   ]
  },
  {
   "cell_type": "markdown",
   "id": "badba1eb",
   "metadata": {},
   "source": [
    "2.\tWrite a Python Program to find largest element in an array?"
   ]
  },
  {
   "cell_type": "code",
   "execution_count": 38,
   "id": "ec397a8c",
   "metadata": {},
   "outputs": [],
   "source": [
    "def larg_arr():\n",
    "    \"\"\"fun will return largest number\"\"\"\n",
    "    arr=eval(input('enter an array :'))\n",
    "    return(f'entered arr is{arr}and largest number is - {max(arr)}')"
   ]
  },
  {
   "cell_type": "code",
   "execution_count": 37,
   "id": "d21e7742",
   "metadata": {},
   "outputs": [
    {
     "name": "stdout",
     "output_type": "stream",
     "text": [
      "enter an array :[1,10,20,88,99,108050,20850]\n"
     ]
    },
    {
     "data": {
      "text/plain": [
       "'entered arr is[1, 10, 20, 88, 99, 108050, 20850]and largest number is -108050'"
      ]
     },
     "execution_count": 37,
     "metadata": {},
     "output_type": "execute_result"
    }
   ],
   "source": [
    "larg_arr()"
   ]
  },
  {
   "cell_type": "markdown",
   "id": "e132fcda",
   "metadata": {},
   "source": [
    "3.\tWrite a Python Program for array rotation?"
   ]
  },
  {
   "cell_type": "code",
   "execution_count": 39,
   "id": "84775cdb",
   "metadata": {},
   "outputs": [],
   "source": [
    "def rvrs_arr():\n",
    "    \"\"\"thiss will return reverse of an array\"\"\"\n",
    "    arr=eval(input('enter an array :'))\n",
    "    return (f'original array is {arr} and reversed array is {arr[::-1]}')"
   ]
  },
  {
   "cell_type": "code",
   "execution_count": 40,
   "id": "755b5fa9",
   "metadata": {},
   "outputs": [
    {
     "name": "stdout",
     "output_type": "stream",
     "text": [
      "enter an array :[1,10,20,88,99,108050,20850]\n"
     ]
    },
    {
     "data": {
      "text/plain": [
       "'original array is [1, 10, 20, 88, 99, 108050, 20850] and reversed array is [20850, 108050, 99, 88, 20, 10, 1]'"
      ]
     },
     "execution_count": 40,
     "metadata": {},
     "output_type": "execute_result"
    }
   ],
   "source": [
    "rvrs_arr()"
   ]
  },
  {
   "cell_type": "markdown",
   "id": "0c16a1d3",
   "metadata": {},
   "source": [
    "4.\tWrite a Python Program to Split the array and add the first part to the end?"
   ]
  },
  {
   "cell_type": "code",
   "execution_count": 44,
   "id": "763df5fb",
   "metadata": {},
   "outputs": [],
   "source": [
    "def add_arr():\n",
    "    \"\"\"this will add first value to the last value\"\"\"\n",
    "    arr=eval(input('enter an array :'))\n",
    "    return(f'entered arr is{arr} and addition of first and last values are {arr[0]+arr[-1]}')"
   ]
  },
  {
   "cell_type": "code",
   "execution_count": 45,
   "id": "8b1ba504",
   "metadata": {},
   "outputs": [
    {
     "name": "stdout",
     "output_type": "stream",
     "text": [
      "enter an array :[1,2,3,4,5]\n"
     ]
    },
    {
     "data": {
      "text/plain": [
       "'entered arr is[1, 2, 3, 4, 5] and addition of first and last values are 6'"
      ]
     },
     "execution_count": 45,
     "metadata": {},
     "output_type": "execute_result"
    }
   ],
   "source": [
    "add_arr()"
   ]
  },
  {
   "cell_type": "markdown",
   "id": "d96d535e",
   "metadata": {},
   "source": [
    "5.\tWrite a Python Program to check if given array is Monotonic?"
   ]
  },
  {
   "cell_type": "code",
   "execution_count": 93,
   "id": "a41354b7",
   "metadata": {},
   "outputs": [
    {
     "name": "stdout",
     "output_type": "stream",
     "text": [
      "False\n"
     ]
    }
   ],
   "source": [
    "def isMonotonic(A):\n",
    "    return (all(A[i] <= A[i + 1] for i in range(len(A) - 1)) or\n",
    "      all(A[i] >= A[i + 1] for i in range(len(A) - 1)))\n",
    "# main\n",
    "A = [1,2,3,4,5,100,1,2,-2]\n",
    "print(isMonotonic(A))"
   ]
  },
  {
   "cell_type": "markdown",
   "id": "5d37feed",
   "metadata": {},
   "source": [
    "'An array is said to be monotonic in nature if it is either continuously increasing or continuously decreasing.'"
   ]
  }
 ],
 "metadata": {
  "kernelspec": {
   "display_name": "Python 3 (ipykernel)",
   "language": "python",
   "name": "python3"
  },
  "language_info": {
   "codemirror_mode": {
    "name": "ipython",
    "version": 3
   },
   "file_extension": ".py",
   "mimetype": "text/x-python",
   "name": "python",
   "nbconvert_exporter": "python",
   "pygments_lexer": "ipython3",
   "version": "3.9.7"
  }
 },
 "nbformat": 4,
 "nbformat_minor": 5
}
