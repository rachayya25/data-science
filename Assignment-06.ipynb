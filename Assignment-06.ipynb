{
 "cells": [
  {
   "cell_type": "markdown",
   "id": "d392d4e8",
   "metadata": {},
   "source": [
    "#1. What are escape characters, and how do you use them?\n",
    "* to insert special charters like quote(single or double) we use escape charters\n",
    "* An escape character is a backslash \\ followed by the character you want to insert.\n",
    "* Escape characters represent characters in string values that would otherwise be difficult or impossible to type into code"
   ]
  },
  {
   "cell_type": "code",
   "execution_count": 3,
   "id": "9676ee71",
   "metadata": {},
   "outputs": [
    {
     "data": {
      "text/plain": [
       "'hanuman was the main person bheind the construction of \"ram setu\"'"
      ]
     },
     "execution_count": 3,
     "metadata": {},
     "output_type": "execute_result"
    }
   ],
   "source": [
    "\"hanuman was the main person bheind the construction of \\\"ram setu\\\"\""
   ]
  },
  {
   "cell_type": "markdown",
   "id": "3d81f108",
   "metadata": {},
   "source": [
    "#2. What do the escape characters n and t stand for?\n",
    "* \\n - represents new line\n",
    "* \\t - represents tab"
   ]
  },
  {
   "cell_type": "markdown",
   "id": "7d66f6ac",
   "metadata": {},
   "source": [
    "3. What is the way to include backslash characters in a string?\n"
   ]
  },
  {
   "cell_type": "code",
   "execution_count": 5,
   "id": "09130257",
   "metadata": {},
   "outputs": [
    {
     "data": {
      "text/plain": [
       "'hanuman was the main person bheind the construction of \"ram setu\"'"
      ]
     },
     "execution_count": 5,
     "metadata": {},
     "output_type": "execute_result"
    }
   ],
   "source": [
    "\"hanuman was the main person bheind the construction of \\\"ram setu\\\"\""
   ]
  },
  {
   "cell_type": "markdown",
   "id": "2eea5813",
   "metadata": {},
   "source": [
    "4. The string \"Howl's Moving Castle\" is a correct value. Why isn't the single quote character in the word Howl's not escaped a problem?\n",
    "\n",
    "* this is because we used double quotes at the starting and the ending of the string"
   ]
  },
  {
   "cell_type": "markdown",
   "id": "8052ce25",
   "metadata": {},
   "source": [
    "#5. How do you write a string of newlines if you don't want to use the n character?\n",
    "* we can use triple quotes or multi line strings to write new lines"
   ]
  },
  {
   "cell_type": "markdown",
   "id": "bff42f25",
   "metadata": {},
   "source": [
    "#6. What are the values of the given expressions?"
   ]
  },
  {
   "cell_type": "code",
   "execution_count": 15,
   "id": "b4096c2d",
   "metadata": {},
   "outputs": [
    {
     "data": {
      "text/plain": [
       "'e'"
      ]
     },
     "execution_count": 15,
     "metadata": {},
     "output_type": "execute_result"
    }
   ],
   "source": [
    "'Hello, world!'[1]\n",
    "#return index at 1"
   ]
  },
  {
   "cell_type": "code",
   "execution_count": 10,
   "id": "b2ebd3cc",
   "metadata": {},
   "outputs": [],
   "source": [
    "a = 'Hello, world!'"
   ]
  },
  {
   "cell_type": "code",
   "execution_count": 11,
   "id": "47001b58",
   "metadata": {},
   "outputs": [
    {
     "name": "stdout",
     "output_type": "stream",
     "text": [
      "H 0\n",
      "e 1\n",
      "l 2\n",
      "l 3\n",
      "o 4\n",
      ", 5\n",
      "  6\n",
      "w 7\n",
      "o 8\n",
      "r 9\n",
      "l 10\n",
      "d 11\n",
      "! 12\n"
     ]
    }
   ],
   "source": [
    "for i in range(len(a)):\n",
    "    print(a[i],i)"
   ]
  },
  {
   "cell_type": "code",
   "execution_count": 16,
   "id": "c6b1f882",
   "metadata": {},
   "outputs": [
    {
     "data": {
      "text/plain": [
       "'Hello'"
      ]
     },
     "execution_count": 16,
     "metadata": {},
     "output_type": "execute_result"
    }
   ],
   "source": [
    "'Hello, world!'[0:5]\n",
    "#starting from 0 to 5 with a jump of 1"
   ]
  },
  {
   "cell_type": "code",
   "execution_count": 17,
   "id": "c88f9f80",
   "metadata": {},
   "outputs": [
    {
     "data": {
      "text/plain": [
       "'Hello'"
      ]
     },
     "execution_count": 17,
     "metadata": {},
     "output_type": "execute_result"
    }
   ],
   "source": [
    "'Hello, world!'[:5]\n",
    "#starting from 0 to 5 with a jump of 1"
   ]
  },
  {
   "cell_type": "code",
   "execution_count": 18,
   "id": "105b450a",
   "metadata": {},
   "outputs": [
    {
     "data": {
      "text/plain": [
       "'lo, world!'"
      ]
     },
     "execution_count": 18,
     "metadata": {},
     "output_type": "execute_result"
    }
   ],
   "source": [
    "'Hello, world!'[3:]\n",
    "#start from 3 , go till end of the string"
   ]
  },
  {
   "cell_type": "markdown",
   "id": "5fb5bac9",
   "metadata": {},
   "source": [
    "#7. What are the values of the following expressions?"
   ]
  },
  {
   "cell_type": "code",
   "execution_count": 23,
   "id": "69125368",
   "metadata": {},
   "outputs": [
    {
     "data": {
      "text/plain": [
       "'HELLO'"
      ]
     },
     "execution_count": 23,
     "metadata": {},
     "output_type": "execute_result"
    }
   ],
   "source": [
    "'Hello'.upper()\n",
    "#upper() will converet all the charters toupper class"
   ]
  },
  {
   "cell_type": "code",
   "execution_count": 33,
   "id": "b0c7f1ba",
   "metadata": {},
   "outputs": [
    {
     "data": {
      "text/plain": [
       "True"
      ]
     },
     "execution_count": 33,
     "metadata": {},
     "output_type": "execute_result"
    }
   ],
   "source": [
    "'Hello'.upper().isupper()\n",
    "# upper will converet all the chr to upper case then we are applying isupper()which is true "
   ]
  },
  {
   "cell_type": "code",
   "execution_count": 34,
   "id": "a4b9d771",
   "metadata": {},
   "outputs": [
    {
     "data": {
      "text/plain": [
       "'hello'"
      ]
     },
     "execution_count": 34,
     "metadata": {},
     "output_type": "execute_result"
    }
   ],
   "source": [
    "'Hello'.upper().lower()\n",
    "#converting sentance case to upper case to lower case"
   ]
  },
  {
   "cell_type": "markdown",
   "id": "20bd9981",
   "metadata": {},
   "source": [
    "8. What are the values of the following expressions?\n",
    "*'Remember, remember, the fifth of July.'.split()\n",
    "* '-'.join('There can only one.'.split())\n"
   ]
  },
  {
   "cell_type": "code",
   "execution_count": 37,
   "id": "5cf1ae44",
   "metadata": {},
   "outputs": [
    {
     "data": {
      "text/plain": [
       "['Remember,', 'remember,', 'the', 'fifth', 'of', 'July.']"
      ]
     },
     "execution_count": 37,
     "metadata": {},
     "output_type": "execute_result"
    }
   ],
   "source": [
    "'Remember, remember, the fifth of July.'.split()\n",
    "#split will return list of words seperated by space"
   ]
  },
  {
   "cell_type": "code",
   "execution_count": 38,
   "id": "a8c0e24f",
   "metadata": {},
   "outputs": [
    {
     "data": {
      "text/plain": [
       "'There-can-only-one.'"
      ]
     },
     "execution_count": 38,
     "metadata": {},
     "output_type": "execute_result"
    }
   ],
   "source": [
    "'-'.join('There can only one.'.split())"
   ]
  },
  {
   "cell_type": "markdown",
   "id": "7ed50dfe",
   "metadata": {},
   "source": [
    "#9. What are the methods for right-justifying, left-justifying, and centering a string?\n",
    "\n",
    "*The rjust(), ljust(), and center() string methods, respectively"
   ]
  },
  {
   "cell_type": "code",
   "execution_count": 48,
   "id": "bf27681a",
   "metadata": {},
   "outputs": [
    {
     "name": "stdout",
     "output_type": "stream",
     "text": [
      "---------------------------------------------akhil\n",
      "akhil---------------------------------------------\n",
      "----------------------akhil-----------------------\n"
     ]
    }
   ],
   "source": [
    "a = 'akhil'\n",
    "print(a.rjust(50,'-'))\n",
    "print(a.ljust(50, '-'))\n",
    "print(a.center(50,'-'))\n"
   ]
  },
  {
   "cell_type": "markdown",
   "id": "d6785933",
   "metadata": {},
   "source": [
    "#10. What is the best way to remove whitespace characters from the start or end?\n",
    "* lstrip & rstrip methods"
   ]
  },
  {
   "cell_type": "code",
   "execution_count": 49,
   "id": "8c7f8313",
   "metadata": {},
   "outputs": [],
   "source": [
    "a = '  akhil'"
   ]
  },
  {
   "cell_type": "code",
   "execution_count": 52,
   "id": "96e72907",
   "metadata": {},
   "outputs": [],
   "source": [
    "b= 'akhil   '"
   ]
  },
  {
   "cell_type": "code",
   "execution_count": 51,
   "id": "0f79d6a1",
   "metadata": {},
   "outputs": [
    {
     "data": {
      "text/plain": [
       "'akhil'"
      ]
     },
     "execution_count": 51,
     "metadata": {},
     "output_type": "execute_result"
    }
   ],
   "source": [
    "a.lstrip()"
   ]
  },
  {
   "cell_type": "code",
   "execution_count": 53,
   "id": "d5e49a0f",
   "metadata": {},
   "outputs": [
    {
     "data": {
      "text/plain": [
       "'akhil'"
      ]
     },
     "execution_count": 53,
     "metadata": {},
     "output_type": "execute_result"
    }
   ],
   "source": [
    "b.rstrip()"
   ]
  },
  {
   "cell_type": "code",
   "execution_count": null,
   "id": "a2e5af05",
   "metadata": {},
   "outputs": [],
   "source": []
  }
 ],
 "metadata": {
  "kernelspec": {
   "display_name": "Python 3 (ipykernel)",
   "language": "python",
   "name": "python3"
  },
  "language_info": {
   "codemirror_mode": {
    "name": "ipython",
    "version": 3
   },
   "file_extension": ".py",
   "mimetype": "text/x-python",
   "name": "python",
   "nbconvert_exporter": "python",
   "pygments_lexer": "ipython3",
   "version": "3.9.7"
  }
 },
 "nbformat": 4,
 "nbformat_minor": 5
}
